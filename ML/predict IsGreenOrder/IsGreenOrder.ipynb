{
  "nbformat": 4,
  "nbformat_minor": 0,
  "metadata": {
    "colab": {
      "provenance": []
    },
    "kernelspec": {
      "name": "python3",
      "display_name": "Python 3"
    },
    "language_info": {
      "name": "python"
    }
  },
  "cells": [
    {
      "cell_type": "code",
      "execution_count": 1,
      "metadata": {
        "colab": {
          "base_uri": "https://localhost:8080/",
          "height": 70
        },
        "id": "f_MHgKivSUDh",
        "outputId": "24bca5a6-9217-4bd8-fbdd-67fd76338d84"
      },
      "outputs": [
        {
          "output_type": "stream",
          "name": "stdout",
          "text": [
            "Mounted at /content/drive\n",
            "/bin/bash: line 1: nvidia-smi: command not found\n"
          ]
        },
        {
          "output_type": "execute_result",
          "data": {
            "text/plain": [
              "'/content/drive/My Drive/112 Sesmester/data2'"
            ],
            "application/vnd.google.colaboratory.intrinsic+json": {
              "type": "string"
            }
          },
          "metadata": {},
          "execution_count": 1
        }
      ],
      "source": [
        "# @title 連接google drive\n",
        "from google.colab import drive\n",
        "drive.mount('/content/drive')\n",
        "\n",
        "!nvidia-smi\n",
        "import os\n",
        "os.chdir('/content/drive/My Drive')\n",
        "os.getcwd()\n",
        "os.chdir('/content/drive/My Drive/112 Sesmester/data2')\n",
        "os.getcwd()"
      ]
    },
    {
      "cell_type": "code",
      "source": [
        "import numpy as np\n",
        "import pandas as pd\n",
        "import matplotlib.pyplot as plt\n",
        "import requests\n",
        "from tqdm import tqdm"
      ],
      "metadata": {
        "id": "RxAUvIlL2FIy"
      },
      "execution_count": 2,
      "outputs": []
    },
    {
      "cell_type": "code",
      "source": [
        "\n",
        "df = pd.read_csv(\"IsGreenOrder.csv\")\n",
        "print(df)\n",
        "print(df.info())\n",
        "# df.describe(include=\"all\")\n",
        "print(\"object行:\\n\",df.select_dtypes(include=\"object\").columns)\n",
        "print(\"缺失值:\\n\",df.isnull().sum())\n",
        "print(\"唯一值:\\n\",df[:].nunique())"
      ],
      "metadata": {
        "colab": {
          "base_uri": "https://localhost:8080/"
        },
        "id": "hYXXVCaSSjTR",
        "outputId": "5691ee4b-fc10-4f02-d6de-e5e0f4b51c3f"
      },
      "execution_count": 3,
      "outputs": [
        {
          "output_type": "stream",
          "name": "stdout",
          "text": [
            "       Unnamed: 0       ID Delivery_person_ID  Delivery_person_Age  \\\n",
            "0               0  0x4607     INDORES13DEL02                  37.0   \n",
            "1               1  0xb379     BANGRES18DEL02                  34.0   \n",
            "2               2  0x5d6d     BANGRES19DEL01                  23.0   \n",
            "3               3  0x7a6a    COIMBRES13DEL02                  38.0   \n",
            "4               4  0x70a2     CHENRES12DEL01                  32.0   \n",
            "...           ...      ...                ...                  ...   \n",
            "40304       40304  0x1178   RANCHIRES16DEL01                  35.0   \n",
            "40305       40305  0x7c09      JAPRES04DEL01                  30.0   \n",
            "40306       40306  0x4f8d     CHENRES08DEL03                  30.0   \n",
            "40307       40307  0x5eee    COIMBRES11DEL01                  20.0   \n",
            "40308       40308  0x5fb2   RANCHIRES09DEL02                  23.0   \n",
            "\n",
            "       Delivery_person_Ratings  Restaurant_latitude  Restaurant_longitude  \\\n",
            "0                          4.9            22.745049             75.892471   \n",
            "1                          4.5            12.913041             77.683237   \n",
            "2                          4.4            12.914264             77.678400   \n",
            "3                          4.7            11.003669             76.976494   \n",
            "4                          4.6            12.972793             80.249982   \n",
            "...                        ...                  ...                   ...   \n",
            "40304                      4.2            23.371292             85.327872   \n",
            "40305                      4.8            26.902328             75.794257   \n",
            "40306                      4.9            13.022394             80.242439   \n",
            "40307                      4.7            11.001753             76.986241   \n",
            "40308                      4.9            23.351058             85.325731   \n",
            "\n",
            "       Delivery_location_latitude  Delivery_location_longitude  Order_Date  \\\n",
            "0                       22.765049                    75.912471  2022-03-19   \n",
            "1                       13.043041                    77.813237  2022-03-25   \n",
            "2                       12.924264                    77.688400  2022-03-19   \n",
            "3                       11.053669                    77.026494  2022-04-05   \n",
            "4                       13.012793                    80.289982  2022-03-26   \n",
            "...                           ...                          ...         ...   \n",
            "40304                   23.481292                    85.437872  2022-03-08   \n",
            "40305                   26.912328                    75.804257  2022-03-24   \n",
            "40306                   13.052394                    80.272439  2022-03-11   \n",
            "40307                   11.041753                    77.026241  2022-03-07   \n",
            "40308                   23.431058                    85.405731  2022-03-02   \n",
            "\n",
            "       ... multiple_deliveries Festival            City Time_taken(min)  \\\n",
            "0      ...                 0.0      No           Urban         (min) 24   \n",
            "1      ...                 1.0      No   Metropolitian         (min) 33   \n",
            "2      ...                 1.0      No           Urban         (min) 26   \n",
            "3      ...                 1.0      No   Metropolitian         (min) 21   \n",
            "4      ...                 1.0      No   Metropolitian         (min) 30   \n",
            "...    ...                 ...      ...             ...             ...   \n",
            "40304  ...                 1.0      No   Metropolitian         (min) 33   \n",
            "40305  ...                 0.0      No   Metropolitian         (min) 32   \n",
            "40306  ...                 0.0      No   Metropolitian         (min) 16   \n",
            "40307  ...                 1.0      No   Metropolitian         (min) 26   \n",
            "40308  ...                 1.0      No   Metropolitian         (min) 36   \n",
            "\n",
            "       Distance_km                                              Route  \\\n",
            "0           4.1606  [[22.74505, 75.89247], [22.74507, 75.89248], [...   \n",
            "1          28.9712  [[12.9131, 77.68297], [12.91196, 77.68272], [1...   \n",
            "2           5.1439  [[12.91427, 77.67837], [12.91384, 77.67825], [...   \n",
            "3          13.1756  [[11.00363, 76.97597], [11.00486, 76.97588], [...   \n",
            "4           7.0574  [[12.97279, 80.25], [12.97335, 80.25014], [12....   \n",
            "...            ...                                                ...   \n",
            "40304      21.0805  [[23.37123, 85.32791], [23.37124, 85.32794], [...   \n",
            "40305       2.1289  [[26.90241, 75.79427], [26.90241, 75.79424], [...   \n",
            "40306       5.8267  [[13.02239, 80.24246], [13.02255, 80.24251], [...   \n",
            "40307       8.8607  [[11.00189, 76.98621], [11.00168, 76.98531], [...   \n",
            "40308      14.2190  [[23.35097, 85.32579], [23.35088, 85.32564], [...   \n",
            "\n",
            "      Time_Orderd_in_minutes  location_cluster date_category IsGreenOrder  \n",
            "0                        690                 1            26            0  \n",
            "1                       1185                 2            31            0  \n",
            "2                        510                 2            26            0  \n",
            "3                       1080                10            42            1  \n",
            "4                        810                 8            32            0  \n",
            "...                      ...               ...           ...          ...  \n",
            "40304                   1305                 5            15            0  \n",
            "40305                    695                 6            30            1  \n",
            "40306                   1430                 8            18            0  \n",
            "40307                    815                10            14            0  \n",
            "40308                   1030                 5             9            1  \n",
            "\n",
            "[40309 rows x 27 columns]\n",
            "<class 'pandas.core.frame.DataFrame'>\n",
            "RangeIndex: 40309 entries, 0 to 40308\n",
            "Data columns (total 27 columns):\n",
            " #   Column                       Non-Null Count  Dtype  \n",
            "---  ------                       --------------  -----  \n",
            " 0   Unnamed: 0                   40309 non-null  int64  \n",
            " 1   ID                           40309 non-null  object \n",
            " 2   Delivery_person_ID           40309 non-null  object \n",
            " 3   Delivery_person_Age          40109 non-null  float64\n",
            " 4   Delivery_person_Ratings      40067 non-null  float64\n",
            " 5   Restaurant_latitude          40309 non-null  float64\n",
            " 6   Restaurant_longitude         40309 non-null  float64\n",
            " 7   Delivery_location_latitude   40309 non-null  float64\n",
            " 8   Delivery_location_longitude  40309 non-null  float64\n",
            " 9   Order_Date                   40309 non-null  object \n",
            " 10  Time_Orderd                  40309 non-null  object \n",
            " 11  Time_Order_picked            40309 non-null  object \n",
            " 12  Weatherconditions            40309 non-null  object \n",
            " 13  Road_traffic_density         40309 non-null  object \n",
            " 14  Vehicle_condition            40309 non-null  int64  \n",
            " 15  Type_of_order                40309 non-null  object \n",
            " 16  Type_of_vehicle              40309 non-null  object \n",
            " 17  multiple_deliveries          39454 non-null  float64\n",
            " 18  Festival                     40103 non-null  object \n",
            " 19  City                         39250 non-null  object \n",
            " 20  Time_taken(min)              40309 non-null  object \n",
            " 21  Distance_km                  40309 non-null  float64\n",
            " 22  Route                        40309 non-null  object \n",
            " 23  Time_Orderd_in_minutes       40309 non-null  int64  \n",
            " 24  location_cluster             40309 non-null  int64  \n",
            " 25  date_category                40309 non-null  int64  \n",
            " 26  IsGreenOrder                 40309 non-null  int64  \n",
            "dtypes: float64(8), int64(6), object(13)\n",
            "memory usage: 8.3+ MB\n",
            "None\n",
            "object行:\n",
            " Index(['ID', 'Delivery_person_ID', 'Order_Date', 'Time_Orderd',\n",
            "       'Time_Order_picked', 'Weatherconditions', 'Road_traffic_density',\n",
            "       'Type_of_order', 'Type_of_vehicle', 'Festival', 'City',\n",
            "       'Time_taken(min)', 'Route'],\n",
            "      dtype='object')\n",
            "缺失值:\n",
            " Unnamed: 0                        0\n",
            "ID                                0\n",
            "Delivery_person_ID                0\n",
            "Delivery_person_Age             200\n",
            "Delivery_person_Ratings         242\n",
            "Restaurant_latitude               0\n",
            "Restaurant_longitude              0\n",
            "Delivery_location_latitude        0\n",
            "Delivery_location_longitude       0\n",
            "Order_Date                        0\n",
            "Time_Orderd                       0\n",
            "Time_Order_picked                 0\n",
            "Weatherconditions                 0\n",
            "Road_traffic_density              0\n",
            "Vehicle_condition                 0\n",
            "Type_of_order                     0\n",
            "Type_of_vehicle                   0\n",
            "multiple_deliveries             855\n",
            "Festival                        206\n",
            "City                           1059\n",
            "Time_taken(min)                   0\n",
            "Distance_km                       0\n",
            "Route                             0\n",
            "Time_Orderd_in_minutes            0\n",
            "location_cluster                  0\n",
            "date_category                     0\n",
            "IsGreenOrder                      0\n",
            "dtype: int64\n",
            "唯一值:\n",
            " Unnamed: 0                     40309\n",
            "ID                             40309\n",
            "Delivery_person_ID              1170\n",
            "Delivery_person_Age               20\n",
            "Delivery_person_Ratings           26\n",
            "Restaurant_latitude              388\n",
            "Restaurant_longitude             388\n",
            "Delivery_location_latitude      4355\n",
            "Delivery_location_longitude     4355\n",
            "Order_Date                        44\n",
            "Time_Orderd                      176\n",
            "Time_Order_picked                193\n",
            "Weatherconditions                  6\n",
            "Road_traffic_density               4\n",
            "Vehicle_condition                  3\n",
            "Type_of_order                      4\n",
            "Type_of_vehicle                    3\n",
            "multiple_deliveries                4\n",
            "Festival                           2\n",
            "City                               3\n",
            "Time_taken(min)                   45\n",
            "Distance_km                     4308\n",
            "Route                           4352\n",
            "Time_Orderd_in_minutes           176\n",
            "location_cluster                  22\n",
            "date_category                     44\n",
            "IsGreenOrder                       2\n",
            "dtype: int64\n"
          ]
        }
      ]
    },
    {
      "cell_type": "code",
      "source": [
        "# @title 填補缺失值\n",
        "# Analyzing the dataset to suggest suitable methods for imputing missing values in each column\n",
        "data=df\n",
        "# Checking for missing values in each column\n",
        "# Analyzing the dataset to suggest suitable methods for imputing missing values in each column\n",
        "\n",
        "# Checking for missing values in each column\n",
        "missing_values = data.isnull().sum()\n",
        "missing_values = missing_values[missing_values > 0]\n",
        "\n",
        "# Checking the data types of columns with missing values\n",
        "data_types = data[missing_values.index].dtypes\n",
        "\n",
        "# Preparing a summary of columns with missing values, their data types, and suggested imputation methods\n",
        "imputation_methods = []\n",
        "\n",
        "for column, missing_count in missing_values.iteritems():\n",
        "    dtype = data_types[column]\n",
        "    if dtype == 'object':\n",
        "        # Suggesting mode imputation for categorical data\n",
        "        method = 'Mode (for categorical data)'\n",
        "    elif dtype in ['int64', 'float64']:\n",
        "        # Suggesting mean or median imputation for numerical data, depending on the distribution\n",
        "        if data[column].skew() < 1 and data[column].skew() > -1:\n",
        "            method = 'Mean (for approximately normal distribution)'\n",
        "        else:\n",
        "            method = 'Median (for skewed distribution)'\n",
        "    else:\n",
        "        method = 'Special consideration required'\n",
        "\n",
        "    imputation_methods.append((column, dtype, missing_count, method))\n",
        "\n",
        "imputation_summary = pd.DataFrame(imputation_methods, columns=['Column', 'Data Type', 'Missing Values', 'Suggested Method'])\n",
        "\n",
        "imputation_summary.sort_values(by='Missing Values', ascending=False)\n"
      ],
      "metadata": {
        "colab": {
          "base_uri": "https://localhost:8080/",
          "height": 241
        },
        "id": "EGZQmXexbjqK",
        "outputId": "211506d3-f240-4996-9998-4baf899a22ca"
      },
      "execution_count": 4,
      "outputs": [
        {
          "output_type": "stream",
          "name": "stderr",
          "text": [
            "<ipython-input-4-1896cabd09c3>:17: FutureWarning: iteritems is deprecated and will be removed in a future version. Use .items instead.\n",
            "  for column, missing_count in missing_values.iteritems():\n"
          ]
        },
        {
          "output_type": "execute_result",
          "data": {
            "text/plain": [
              "                    Column Data Type  Missing Values  \\\n",
              "4                     City    object            1059   \n",
              "2      multiple_deliveries   float64             855   \n",
              "1  Delivery_person_Ratings   float64             242   \n",
              "3                 Festival    object             206   \n",
              "0      Delivery_person_Age   float64             200   \n",
              "\n",
              "                               Suggested Method  \n",
              "4                   Mode (for categorical data)  \n",
              "2  Mean (for approximately normal distribution)  \n",
              "1              Median (for skewed distribution)  \n",
              "3                   Mode (for categorical data)  \n",
              "0  Mean (for approximately normal distribution)  "
            ],
            "text/html": [
              "\n",
              "  <div id=\"df-41968d65-4f83-4896-b5bc-8369572fd579\" class=\"colab-df-container\">\n",
              "    <div>\n",
              "<style scoped>\n",
              "    .dataframe tbody tr th:only-of-type {\n",
              "        vertical-align: middle;\n",
              "    }\n",
              "\n",
              "    .dataframe tbody tr th {\n",
              "        vertical-align: top;\n",
              "    }\n",
              "\n",
              "    .dataframe thead th {\n",
              "        text-align: right;\n",
              "    }\n",
              "</style>\n",
              "<table border=\"1\" class=\"dataframe\">\n",
              "  <thead>\n",
              "    <tr style=\"text-align: right;\">\n",
              "      <th></th>\n",
              "      <th>Column</th>\n",
              "      <th>Data Type</th>\n",
              "      <th>Missing Values</th>\n",
              "      <th>Suggested Method</th>\n",
              "    </tr>\n",
              "  </thead>\n",
              "  <tbody>\n",
              "    <tr>\n",
              "      <th>4</th>\n",
              "      <td>City</td>\n",
              "      <td>object</td>\n",
              "      <td>1059</td>\n",
              "      <td>Mode (for categorical data)</td>\n",
              "    </tr>\n",
              "    <tr>\n",
              "      <th>2</th>\n",
              "      <td>multiple_deliveries</td>\n",
              "      <td>float64</td>\n",
              "      <td>855</td>\n",
              "      <td>Mean (for approximately normal distribution)</td>\n",
              "    </tr>\n",
              "    <tr>\n",
              "      <th>1</th>\n",
              "      <td>Delivery_person_Ratings</td>\n",
              "      <td>float64</td>\n",
              "      <td>242</td>\n",
              "      <td>Median (for skewed distribution)</td>\n",
              "    </tr>\n",
              "    <tr>\n",
              "      <th>3</th>\n",
              "      <td>Festival</td>\n",
              "      <td>object</td>\n",
              "      <td>206</td>\n",
              "      <td>Mode (for categorical data)</td>\n",
              "    </tr>\n",
              "    <tr>\n",
              "      <th>0</th>\n",
              "      <td>Delivery_person_Age</td>\n",
              "      <td>float64</td>\n",
              "      <td>200</td>\n",
              "      <td>Mean (for approximately normal distribution)</td>\n",
              "    </tr>\n",
              "  </tbody>\n",
              "</table>\n",
              "</div>\n",
              "    <div class=\"colab-df-buttons\">\n",
              "\n",
              "  <div class=\"colab-df-container\">\n",
              "    <button class=\"colab-df-convert\" onclick=\"convertToInteractive('df-41968d65-4f83-4896-b5bc-8369572fd579')\"\n",
              "            title=\"Convert this dataframe to an interactive table.\"\n",
              "            style=\"display:none;\">\n",
              "\n",
              "  <svg xmlns=\"http://www.w3.org/2000/svg\" height=\"24px\" viewBox=\"0 -960 960 960\">\n",
              "    <path d=\"M120-120v-720h720v720H120Zm60-500h600v-160H180v160Zm220 220h160v-160H400v160Zm0 220h160v-160H400v160ZM180-400h160v-160H180v160Zm440 0h160v-160H620v160ZM180-180h160v-160H180v160Zm440 0h160v-160H620v160Z\"/>\n",
              "  </svg>\n",
              "    </button>\n",
              "\n",
              "  <style>\n",
              "    .colab-df-container {\n",
              "      display:flex;\n",
              "      gap: 12px;\n",
              "    }\n",
              "\n",
              "    .colab-df-convert {\n",
              "      background-color: #E8F0FE;\n",
              "      border: none;\n",
              "      border-radius: 50%;\n",
              "      cursor: pointer;\n",
              "      display: none;\n",
              "      fill: #1967D2;\n",
              "      height: 32px;\n",
              "      padding: 0 0 0 0;\n",
              "      width: 32px;\n",
              "    }\n",
              "\n",
              "    .colab-df-convert:hover {\n",
              "      background-color: #E2EBFA;\n",
              "      box-shadow: 0px 1px 2px rgba(60, 64, 67, 0.3), 0px 1px 3px 1px rgba(60, 64, 67, 0.15);\n",
              "      fill: #174EA6;\n",
              "    }\n",
              "\n",
              "    .colab-df-buttons div {\n",
              "      margin-bottom: 4px;\n",
              "    }\n",
              "\n",
              "    [theme=dark] .colab-df-convert {\n",
              "      background-color: #3B4455;\n",
              "      fill: #D2E3FC;\n",
              "    }\n",
              "\n",
              "    [theme=dark] .colab-df-convert:hover {\n",
              "      background-color: #434B5C;\n",
              "      box-shadow: 0px 1px 3px 1px rgba(0, 0, 0, 0.15);\n",
              "      filter: drop-shadow(0px 1px 2px rgba(0, 0, 0, 0.3));\n",
              "      fill: #FFFFFF;\n",
              "    }\n",
              "  </style>\n",
              "\n",
              "    <script>\n",
              "      const buttonEl =\n",
              "        document.querySelector('#df-41968d65-4f83-4896-b5bc-8369572fd579 button.colab-df-convert');\n",
              "      buttonEl.style.display =\n",
              "        google.colab.kernel.accessAllowed ? 'block' : 'none';\n",
              "\n",
              "      async function convertToInteractive(key) {\n",
              "        const element = document.querySelector('#df-41968d65-4f83-4896-b5bc-8369572fd579');\n",
              "        const dataTable =\n",
              "          await google.colab.kernel.invokeFunction('convertToInteractive',\n",
              "                                                    [key], {});\n",
              "        if (!dataTable) return;\n",
              "\n",
              "        const docLinkHtml = 'Like what you see? Visit the ' +\n",
              "          '<a target=\"_blank\" href=https://colab.research.google.com/notebooks/data_table.ipynb>data table notebook</a>'\n",
              "          + ' to learn more about interactive tables.';\n",
              "        element.innerHTML = '';\n",
              "        dataTable['output_type'] = 'display_data';\n",
              "        await google.colab.output.renderOutput(dataTable, element);\n",
              "        const docLink = document.createElement('div');\n",
              "        docLink.innerHTML = docLinkHtml;\n",
              "        element.appendChild(docLink);\n",
              "      }\n",
              "    </script>\n",
              "  </div>\n",
              "\n",
              "\n",
              "<div id=\"df-bbe7496b-b76d-42d1-96ac-fc9c0be09a33\">\n",
              "  <button class=\"colab-df-quickchart\" onclick=\"quickchart('df-bbe7496b-b76d-42d1-96ac-fc9c0be09a33')\"\n",
              "            title=\"Suggest charts\"\n",
              "            style=\"display:none;\">\n",
              "\n",
              "<svg xmlns=\"http://www.w3.org/2000/svg\" height=\"24px\"viewBox=\"0 0 24 24\"\n",
              "     width=\"24px\">\n",
              "    <g>\n",
              "        <path d=\"M19 3H5c-1.1 0-2 .9-2 2v14c0 1.1.9 2 2 2h14c1.1 0 2-.9 2-2V5c0-1.1-.9-2-2-2zM9 17H7v-7h2v7zm4 0h-2V7h2v10zm4 0h-2v-4h2v4z\"/>\n",
              "    </g>\n",
              "</svg>\n",
              "  </button>\n",
              "\n",
              "<style>\n",
              "  .colab-df-quickchart {\n",
              "      --bg-color: #E8F0FE;\n",
              "      --fill-color: #1967D2;\n",
              "      --hover-bg-color: #E2EBFA;\n",
              "      --hover-fill-color: #174EA6;\n",
              "      --disabled-fill-color: #AAA;\n",
              "      --disabled-bg-color: #DDD;\n",
              "  }\n",
              "\n",
              "  [theme=dark] .colab-df-quickchart {\n",
              "      --bg-color: #3B4455;\n",
              "      --fill-color: #D2E3FC;\n",
              "      --hover-bg-color: #434B5C;\n",
              "      --hover-fill-color: #FFFFFF;\n",
              "      --disabled-bg-color: #3B4455;\n",
              "      --disabled-fill-color: #666;\n",
              "  }\n",
              "\n",
              "  .colab-df-quickchart {\n",
              "    background-color: var(--bg-color);\n",
              "    border: none;\n",
              "    border-radius: 50%;\n",
              "    cursor: pointer;\n",
              "    display: none;\n",
              "    fill: var(--fill-color);\n",
              "    height: 32px;\n",
              "    padding: 0;\n",
              "    width: 32px;\n",
              "  }\n",
              "\n",
              "  .colab-df-quickchart:hover {\n",
              "    background-color: var(--hover-bg-color);\n",
              "    box-shadow: 0 1px 2px rgba(60, 64, 67, 0.3), 0 1px 3px 1px rgba(60, 64, 67, 0.15);\n",
              "    fill: var(--button-hover-fill-color);\n",
              "  }\n",
              "\n",
              "  .colab-df-quickchart-complete:disabled,\n",
              "  .colab-df-quickchart-complete:disabled:hover {\n",
              "    background-color: var(--disabled-bg-color);\n",
              "    fill: var(--disabled-fill-color);\n",
              "    box-shadow: none;\n",
              "  }\n",
              "\n",
              "  .colab-df-spinner {\n",
              "    border: 2px solid var(--fill-color);\n",
              "    border-color: transparent;\n",
              "    border-bottom-color: var(--fill-color);\n",
              "    animation:\n",
              "      spin 1s steps(1) infinite;\n",
              "  }\n",
              "\n",
              "  @keyframes spin {\n",
              "    0% {\n",
              "      border-color: transparent;\n",
              "      border-bottom-color: var(--fill-color);\n",
              "      border-left-color: var(--fill-color);\n",
              "    }\n",
              "    20% {\n",
              "      border-color: transparent;\n",
              "      border-left-color: var(--fill-color);\n",
              "      border-top-color: var(--fill-color);\n",
              "    }\n",
              "    30% {\n",
              "      border-color: transparent;\n",
              "      border-left-color: var(--fill-color);\n",
              "      border-top-color: var(--fill-color);\n",
              "      border-right-color: var(--fill-color);\n",
              "    }\n",
              "    40% {\n",
              "      border-color: transparent;\n",
              "      border-right-color: var(--fill-color);\n",
              "      border-top-color: var(--fill-color);\n",
              "    }\n",
              "    60% {\n",
              "      border-color: transparent;\n",
              "      border-right-color: var(--fill-color);\n",
              "    }\n",
              "    80% {\n",
              "      border-color: transparent;\n",
              "      border-right-color: var(--fill-color);\n",
              "      border-bottom-color: var(--fill-color);\n",
              "    }\n",
              "    90% {\n",
              "      border-color: transparent;\n",
              "      border-bottom-color: var(--fill-color);\n",
              "    }\n",
              "  }\n",
              "</style>\n",
              "\n",
              "  <script>\n",
              "    async function quickchart(key) {\n",
              "      const quickchartButtonEl =\n",
              "        document.querySelector('#' + key + ' button');\n",
              "      quickchartButtonEl.disabled = true;  // To prevent multiple clicks.\n",
              "      quickchartButtonEl.classList.add('colab-df-spinner');\n",
              "      try {\n",
              "        const charts = await google.colab.kernel.invokeFunction(\n",
              "            'suggestCharts', [key], {});\n",
              "      } catch (error) {\n",
              "        console.error('Error during call to suggestCharts:', error);\n",
              "      }\n",
              "      quickchartButtonEl.classList.remove('colab-df-spinner');\n",
              "      quickchartButtonEl.classList.add('colab-df-quickchart-complete');\n",
              "    }\n",
              "    (() => {\n",
              "      let quickchartButtonEl =\n",
              "        document.querySelector('#df-bbe7496b-b76d-42d1-96ac-fc9c0be09a33 button');\n",
              "      quickchartButtonEl.style.display =\n",
              "        google.colab.kernel.accessAllowed ? 'block' : 'none';\n",
              "    })();\n",
              "  </script>\n",
              "</div>\n",
              "    </div>\n",
              "  </div>\n"
            ]
          },
          "metadata": {},
          "execution_count": 4
        }
      ]
    },
    {
      "cell_type": "code",
      "source": [
        "# @title 填補缺失值\n",
        "# Filling missing values for each column based on the suggested methods\n",
        "\n",
        "# Defining functions for different imputation methods\n",
        "def impute_mode(column):\n",
        "    return column.fillna(column.mode()[0])\n",
        "\n",
        "def impute_mean(column):\n",
        "    return column.fillna(column.mean())\n",
        "\n",
        "def impute_median(column):\n",
        "    return column.fillna(column.median())\n",
        "\n",
        "# Applying the imputation methods to each column\n",
        "for column, dtype, _, method in imputation_methods:\n",
        "    if method == 'Mode (for categorical data)':\n",
        "        data[column] = impute_mode(data[column])\n",
        "    elif method == 'Mean (for approximately normal distribution)':\n",
        "        data[column] = impute_mean(data[column])\n",
        "    elif method == 'Median (for skewed distribution)':\n",
        "        data[column] = impute_median(data[column])\n",
        "\n",
        "# Checking if there are any missing values left\n",
        "remaining_missing_values = data.isnull().sum().sum()\n",
        "\n",
        "remaining_missing_values, data.head()\n"
      ],
      "metadata": {
        "colab": {
          "base_uri": "https://localhost:8080/"
        },
        "id": "Qhi83G4obkHK",
        "outputId": "ba10ed03-5593-4d5f-8d70-c7d20d9b40bd"
      },
      "execution_count": 5,
      "outputs": [
        {
          "output_type": "execute_result",
          "data": {
            "text/plain": [
              "(0,\n",
              "    Unnamed: 0       ID Delivery_person_ID  Delivery_person_Age  \\\n",
              " 0           0  0x4607     INDORES13DEL02                  37.0   \n",
              " 1           1  0xb379     BANGRES18DEL02                  34.0   \n",
              " 2           2  0x5d6d     BANGRES19DEL01                  23.0   \n",
              " 3           3  0x7a6a    COIMBRES13DEL02                  38.0   \n",
              " 4           4  0x70a2     CHENRES12DEL01                  32.0   \n",
              " \n",
              "    Delivery_person_Ratings  Restaurant_latitude  Restaurant_longitude  \\\n",
              " 0                      4.9            22.745049             75.892471   \n",
              " 1                      4.5            12.913041             77.683237   \n",
              " 2                      4.4            12.914264             77.678400   \n",
              " 3                      4.7            11.003669             76.976494   \n",
              " 4                      4.6            12.972793             80.249982   \n",
              " \n",
              "    Delivery_location_latitude  Delivery_location_longitude  Order_Date  ...  \\\n",
              " 0                   22.765049                    75.912471  2022-03-19  ...   \n",
              " 1                   13.043041                    77.813237  2022-03-25  ...   \n",
              " 2                   12.924264                    77.688400  2022-03-19  ...   \n",
              " 3                   11.053669                    77.026494  2022-04-05  ...   \n",
              " 4                   13.012793                    80.289982  2022-03-26  ...   \n",
              " \n",
              "   multiple_deliveries Festival            City Time_taken(min)  Distance_km  \\\n",
              " 0                 0.0      No           Urban         (min) 24       4.1606   \n",
              " 1                 1.0      No   Metropolitian         (min) 33      28.9712   \n",
              " 2                 1.0      No           Urban         (min) 26       5.1439   \n",
              " 3                 1.0      No   Metropolitian         (min) 21      13.1756   \n",
              " 4                 1.0      No   Metropolitian         (min) 30       7.0574   \n",
              " \n",
              "                                                Route Time_Orderd_in_minutes  \\\n",
              " 0  [[22.74505, 75.89247], [22.74507, 75.89248], [...                    690   \n",
              " 1  [[12.9131, 77.68297], [12.91196, 77.68272], [1...                   1185   \n",
              " 2  [[12.91427, 77.67837], [12.91384, 77.67825], [...                    510   \n",
              " 3  [[11.00363, 76.97597], [11.00486, 76.97588], [...                   1080   \n",
              " 4  [[12.97279, 80.25], [12.97335, 80.25014], [12....                    810   \n",
              " \n",
              "    location_cluster date_category IsGreenOrder  \n",
              " 0                 1            26            0  \n",
              " 1                 2            31            0  \n",
              " 2                 2            26            0  \n",
              " 3                10            42            1  \n",
              " 4                 8            32            0  \n",
              " \n",
              " [5 rows x 27 columns])"
            ]
          },
          "metadata": {},
          "execution_count": 5
        }
      ]
    },
    {
      "cell_type": "code",
      "source": [
        "# columns_to_drop = ['Unnamed: 0','ID', 'Delivery_person_ID', 'Order_Date', 'Time_Orderd', 'Time_Order_picked',\n",
        "#                    'Route', 'Time_taken(min)','City','multiple_deliveries','Type_of_vehicle','Delivery_person_Age','Delivery_person_Ratings']\n",
        "columns_to_drop = ['Unnamed: 0','ID', 'Delivery_person_ID', 'Order_Date', 'Time_Orderd', 'Time_Order_picked',\n",
        "                   'Route', 'Time_taken(min)','Type_of_vehicle']\n",
        "data = data.drop(columns_to_drop, axis=1)\n",
        "data.columns"
      ],
      "metadata": {
        "colab": {
          "base_uri": "https://localhost:8080/"
        },
        "id": "6_nVVyLX20em",
        "outputId": "d3e97c11-6d74-4e5c-f22e-a799a36fc92f"
      },
      "execution_count": 6,
      "outputs": [
        {
          "output_type": "execute_result",
          "data": {
            "text/plain": [
              "Index(['Delivery_person_Age', 'Delivery_person_Ratings', 'Restaurant_latitude',\n",
              "       'Restaurant_longitude', 'Delivery_location_latitude',\n",
              "       'Delivery_location_longitude', 'Weatherconditions',\n",
              "       'Road_traffic_density', 'Vehicle_condition', 'Type_of_order',\n",
              "       'multiple_deliveries', 'Festival', 'City', 'Distance_km',\n",
              "       'Time_Orderd_in_minutes', 'location_cluster', 'date_category',\n",
              "       'IsGreenOrder'],\n",
              "      dtype='object')"
            ]
          },
          "metadata": {},
          "execution_count": 6
        }
      ]
    },
    {
      "cell_type": "code",
      "source": [
        "import numpy as np\n",
        "import xgboost as xgb\n",
        "import lightgbm as lgb\n",
        "from sklearn.metrics import f1_score, confusion_matrix, recall_score, roc_curve, auc\n",
        "from sklearn.linear_model import LogisticRegression\n",
        "from sklearn.tree import DecisionTreeClassifier\n",
        "from sklearn.ensemble import RandomForestClassifier\n",
        "from sklearn.svm import SVC\n",
        "from sklearn.neighbors import KNeighborsClassifier\n",
        "from sklearn.neural_network import MLPClassifier\n",
        "from sklearn.preprocessing import LabelEncoder\n",
        "from sklearn.model_selection import train_test_split\n",
        "import xgboost as xgb\n",
        "from imblearn.over_sampling import RandomOverSampler, SMOTE, ADASYN\n",
        "from imblearn.under_sampling import RandomUnderSampler\n",
        "from tqdm import tqdm\n",
        "from sklearn.metrics import roc_curve, auc\n",
        "import matplotlib.pyplot as plt\n",
        "from sklearn.model_selection import StratifiedKFold\n",
        "# from lightgbm import LGBMRegressor\n",
        "# !pip install catboost\n",
        "# from catboost import CatBoostRegressor\n",
        "\n",
        "def train_and_evaluate(X_train, y_train, X_test, y_test):\n",
        "    models = [\n",
        "        ('XGBoost', xgb.DMatrix(X_train, label=y_train), xgb.DMatrix(X_test, label=y_test), True),\n",
        "        ('LightGBM', lgb.Dataset(X_train, label=y_train), lgb.Dataset(X_test, label=y_test), True),\n",
        "        ('Logistic Regression', LogisticRegression(), None, True),\n",
        "        ('Decision Tree', DecisionTreeClassifier(), None, False),\n",
        "        ('Random Forest', RandomForestClassifier(), None, False),\n",
        "        # ('SVM', SVC(probability=True), None, False),\n",
        "        ('KNN', KNeighborsClassifier(n_neighbors=3), None, False),\n",
        "        # ('Neural Network', MLPClassifier(hidden_layer_sizes=(100,)), None, True)\n",
        "\n",
        "    ]\n",
        "    best_model = None\n",
        "    best_model_name = \"\"\n",
        "    best_score = float('-inf')\n",
        "    for name, model, dtest, adjust_threshold in tqdm(models, desc=\"Training and evaluating models\"):\n",
        "        print(f\"\\n模型: {name}\")\n",
        "\n",
        "\n",
        "        # 打印 y_train 和 y_test 的分布\n",
        "        print(\"\\n\")\n",
        "        unique_values, counts = np.unique(y_train, return_counts=True)\n",
        "        for value, count in zip(unique_values, counts):\n",
        "          print(f\"y_train值 {value} 出現了 {count} 次\")\n",
        "\n",
        "        unique_values, counts = np.unique(y_test, return_counts=True)\n",
        "        for value, count in zip(unique_values, counts):\n",
        "          print(f\"y_test值 {value} 出現了 {count} 次\")\n",
        "        # print(X_train.describe())\n",
        "\n",
        "\n",
        "        # 对于 XGBoost 和 LightGBM\n",
        "        if name in ['XGBoost', 'LightGBM']:\n",
        "            params = {'max_depth': 3, 'eta': 0.3, 'objective': 'binary:logistic'} if name == 'XGBoost' else {'objective': 'binary'}\n",
        "            num_round = 100\n",
        "            bst = xgb.train(params, model, num_round) if name == 'XGBoost' else lgb.train(params, model, num_boost_round=num_round)\n",
        "            # y_test_pred = bst.predict(dtest.data if name == 'LightGBM' else dtest)\n",
        "            y_test_pred = bst.predict(dtest.data if name == 'LightGBM' else dtest)\n",
        "            model = bst\n",
        "\n",
        "        # if name == 'XGBoost':\n",
        "        #   dtrain = xgb.DMatrix(X_train, label=y_train)\n",
        "        #   dtest = xgb.DMatrix(X_test, label=y_test)\n",
        "        #   params = {'max_depth': 3, 'eta': 0.3, 'objective': 'binary:logistic'}\n",
        "        #   num_round = 100\n",
        "        #   bst = xgb.train(params, dtrain, num_round)\n",
        "        #   y_test_pred = bst.predict(dtest)\n",
        "        #   model=bst\n",
        "        # elif name == 'LightGBM':\n",
        "        #   model = lgb.LGBMClassifier(max_depth=3, learning_rate=0.1, n_estimators=100)\n",
        "        #   model.fit(X_train, y_train)\n",
        "        #   y_test_pred = model.predict_proba(X_test)[:, 1]\n",
        "        # 对于其他模型\n",
        "        else:\n",
        "            model.fit(X_train, y_train)\n",
        "            # y_test_pred = model.predict(X_test)  # 直接使用二元分类结果\n",
        "            # y_test_pred = model.predict_proba(X_test)[:,1] if adjust_threshold else model.predict(X_test)\n",
        "            y_test_pred = model.predict_proba(X_test)[:,1]\n",
        "\n",
        "        # 创建一个 DataFrame 来比较预测概率和实际标签\n",
        "        comparison_df = pd.DataFrame({\n",
        "            'Predicted Probability': y_test_pred,\n",
        "            'Actual Label': y_test\n",
        "        })\n",
        "        print(comparison_df.head())  # 打印前几行进行比较\n",
        "        # # 评估性能\n",
        "        if adjust_threshold:\n",
        "            f1, conf_matrix, sensitivity, g_mean, roc_auc = evaluate_model_with_threshold(y_test, y_test_pred)\n",
        "        else:\n",
        "            f1, conf_matrix, sensitivity, g_mean, roc_auc = evaluate_model_with_threshold(y_test, y_test_pred)\n",
        "\n",
        "        print(f\"F1 分数: {f1}, 混淆矩阵: {conf_matrix}, Sensitivity: {sensitivity}, G-mean: {g_mean}, ROC-AUC: {roc_auc}\")\n",
        "        tn, fp, fn, tp = conf_matrix.ravel()\n",
        "        print(f\"  混淆矩阵: \\n    TN: {tn}, FP: {fp}\\n    FN: {fn}, TP: {tp}\")\n",
        "        # 检查是否是目前最好的模型\n",
        "        if best_score < roc_auc:\n",
        "            best_score = roc_auc\n",
        "            best_model = model\n",
        "\n",
        "            best_model_name = name\n",
        "\n",
        "            print(f\"best auc occur: {best_score}\")\n",
        "    print(best_model_name)\n",
        "    return best_model_name,best_model,best_score\n",
        "\n",
        "def evaluate_model_with_threshold(y_test, y_pred):\n",
        "    # 确定最佳阈值\n",
        "    best_threshold = 0.5\n",
        "    best_f1 = 0\n",
        "    for threshold in np.linspace(0, 1, 100):\n",
        "        y_pred_binary = np.where(y_pred > threshold, 1, 0)\n",
        "        f1 = f1_score(y_test, y_pred_binary)\n",
        "        if f1 > best_f1:\n",
        "            best_f1 = f1\n",
        "            best_threshold = threshold\n",
        "\n",
        "    y_pred_binary = np.where(y_pred > best_threshold, 1, 0)\n",
        "    return calculate_metrics(y_test, y_pred_binary)\n",
        "\n",
        "# def evaluate_model_without_threshold(y_test, y_pred):\n",
        "#     return calculate_metrics(y_test, y_pred)\n",
        "\n",
        "def calculate_metrics(y_test, y_pred_binary):\n",
        "    f1 = f1_score(y_test, y_pred_binary)\n",
        "    conf_matrix = confusion_matrix(y_test, y_pred_binary)\n",
        "    sensitivity = recall_score(y_test, y_pred_binary)\n",
        "    tn, fp, fn, tp = conf_matrix.ravel()\n",
        "    specificity = tn / (tn + fp)\n",
        "    g_mean = np.sqrt(sensitivity * specificity)\n",
        "    fpr, tpr, thresholds = roc_curve(y_test, y_pred_binary)\n",
        "    roc_auc = auc(fpr, tpr)\n",
        "\n",
        "    return f1, conf_matrix, sensitivity, g_mean, roc_auc\n",
        "\n",
        "\n",
        "\n",
        "# 数据预处理\n",
        "X = data.drop('IsGreenOrder', axis=1)\n",
        "y = data['IsGreenOrder']\n",
        "\n",
        "X_encoded = pd.get_dummies(X)\n",
        "y_encoded = LabelEncoder().fit_transform(y)\n",
        "\n",
        "# 分割数据集为训练集和测试集\n",
        "X_train, X_test, y_train, y_test = train_test_split(X_encoded, y_encoded, test_size=0.3, random_state=42)\n",
        "# len(X_train), len(X_test), len(y_train), len(y_test)\n",
        "\n",
        "# 定义不同的数据扩充方法\n",
        "methods = [\n",
        "    ('原始数据', X_train, y_train),\n",
        "    ('随机过采样', *RandomOverSampler(random_state=42).fit_resample(X_train, y_train)),\n",
        "    ('随机欠采样', *RandomUnderSampler(random_state=42).fit_resample(X_train, y_train)),\n",
        "    ('SMOTE', *SMOTE(random_state=42).fit_resample(X_train, y_train)),\n",
        "    ('ADASYN', *ADASYN(random_state=42).fit_resample(X_train, y_train))\n",
        "\n",
        "]\n",
        "\n",
        "\n",
        "# 存储结果的字典\n",
        "results = {}\n",
        "# 初始化最佳模型和性能指标\n",
        "best_modelF = None\n",
        "best_model_nameF = \"\"\n",
        "best_scoreF = float('-inf')\n",
        "\n",
        "best_model_method_name=\"\"\n",
        "# 进行模型训练和评估的循环\n",
        "for method_name, X_augmented, y_augmented in tqdm(methods, desc=\"Training Models\"):\n",
        "    print(method_name)\n",
        "    best_model_name,best_model, best_score = train_and_evaluate(X_augmented, y_augmented, X_test, y_test)\n",
        "    if best_scoreF < best_score:\n",
        "            best_scoreF = best_score\n",
        "            best_modelF = best_model\n",
        "            best_model_method_name= method_name\n",
        "            best_model_nameF = best_model_name\n",
        "            print(f\"RR best AUC occur: {best_score}\")\n",
        "    print(type(best_modelF))\n",
        "\n",
        "import joblib\n",
        "\n",
        "if best_model_nameF in ['XGBoost', 'LightGBM']:\n",
        "    # 使用模型特有的保存方法\n",
        "    if best_model_nameF == 'XGBoost':\n",
        "      best_modelF.save_model(f'{best_model_method_name}_{best_model_nameF}_best_model.json')\n",
        "    if best_model_nameF == 'LightGBM':\n",
        "      if isinstance(best_modelF, lgb.Booster):\n",
        "          best_modelF.save_model(f'{best_model_method_name}_{best_model_nameF}_best_model.txt')\n",
        "      elif isinstance(best_modelF, lgb.LGBMModel):\n",
        "          best_modelF.booster_.save_model(f'{best_model_method_name}_{best_model_nameF}_best_model.txt')\n",
        "      else:\n",
        "          print(\"Error: best_modelF is not a LightGBM model.\")\n",
        "else:\n",
        "    # 对于其他模型，使用 joblib\n",
        "    joblib.dump(best_modelF, f'{best_model_method_name}_{best_model_nameF}_best_model.pkl')\n",
        "\n",
        "print(f\"最佳模型: {best_model_method_name} {best_model_nameF}，auc: {best_scoreF}\")"
      ],
      "metadata": {
        "colab": {
          "base_uri": "https://localhost:8080/"
        },
        "id": "DeW_XoKGbwP3",
        "outputId": "3342453d-d022-4683-c365-bba41c3fa5b4"
      },
      "execution_count": 26,
      "outputs": [
        {
          "output_type": "stream",
          "name": "stderr",
          "text": [
            "\rTraining Models:   0%|          | 0/5 [00:00<?, ?it/s]"
          ]
        },
        {
          "output_type": "stream",
          "name": "stdout",
          "text": [
            "原始数据\n"
          ]
        },
        {
          "output_type": "stream",
          "name": "stderr",
          "text": [
            "\n",
            "Training and evaluating models:   0%|          | 0/6 [00:00<?, ?it/s]\u001b[A"
          ]
        },
        {
          "output_type": "stream",
          "name": "stdout",
          "text": [
            "\n",
            "模型: XGBoost\n",
            "\n",
            "\n",
            "y_train值 0 出現了 15758 次\n",
            "y_train值 1 出現了 12458 次\n",
            "y_test值 0 出現了 6806 次\n",
            "y_test值 1 出現了 5287 次\n",
            "   Predicted Probability  Actual Label\n",
            "0               0.278839             0\n",
            "1               0.113668             0\n",
            "2               0.503029             0\n",
            "3               0.251757             0\n",
            "4               0.663200             0\n"
          ]
        },
        {
          "output_type": "stream",
          "name": "stderr",
          "text": [
            "\n",
            "Training and evaluating models:  17%|█▋        | 1/6 [00:00<00:04,  1.11it/s]\u001b[A"
          ]
        },
        {
          "output_type": "stream",
          "name": "stdout",
          "text": [
            "F1 分数: 0.6855181675744236, 混淆矩阵: [[3284 3522]\n",
            " [ 693 4594]], Sensitivity: 0.8689237752979005, G-mean: 0.6475099435208057, ROC-AUC: 0.6757196014309075\n",
            "  混淆矩阵: \n",
            "    TN: 3284, FP: 3522\n",
            "    FN: 693, TP: 4594\n",
            "best auc occur: 0.6757196014309075\n",
            "\n",
            "模型: LightGBM\n",
            "\n",
            "\n",
            "y_train值 0 出現了 15758 次\n",
            "y_train值 1 出現了 12458 次\n",
            "y_test值 0 出現了 6806 次\n",
            "y_test值 1 出現了 5287 次\n",
            "[LightGBM] [Warning] Found whitespace in feature_names, replace with underlines\n",
            "[LightGBM] [Info] Number of positive: 12458, number of negative: 15758\n",
            "[LightGBM] [Info] Auto-choosing col-wise multi-threading, the overhead of testing was 0.006739 seconds.\n",
            "You can set `force_col_wise=true` to remove the overhead.\n",
            "[LightGBM] [Info] Total Bins 1610\n",
            "[LightGBM] [Info] Number of data points in the train set: 28216, number of used features: 31\n",
            "[LightGBM] [Info] [binary:BoostFromScore]: pavg=0.441523 -> initscore=-0.234985\n",
            "[LightGBM] [Info] Start training from score -0.234985\n",
            "   Predicted Probability  Actual Label\n",
            "0               0.242762             0\n",
            "1               0.143643             0\n",
            "2               0.487289             0\n",
            "3               0.266574             0\n",
            "4               0.626259             0\n"
          ]
        },
        {
          "output_type": "stream",
          "name": "stderr",
          "text": [
            "\n",
            "Training and evaluating models:  33%|███▎      | 2/6 [00:02<00:04,  1.11s/it]\u001b[A"
          ]
        },
        {
          "output_type": "stream",
          "name": "stdout",
          "text": [
            "F1 分数: 0.6857510453522033, 混淆矩阵: [[3921 2885]\n",
            " [1023 4264]], Sensitivity: 0.8065065254397579, G-mean: 0.6816420777535396, ROC-AUC: 0.6913079203748891\n",
            "  混淆矩阵: \n",
            "    TN: 3921, FP: 2885\n",
            "    FN: 1023, TP: 4264\n",
            "best auc occur: 0.6913079203748891\n",
            "\n",
            "模型: Logistic Regression\n",
            "\n",
            "\n",
            "y_train值 0 出現了 15758 次\n",
            "y_train值 1 出現了 12458 次\n",
            "y_test值 0 出現了 6806 次\n",
            "y_test值 1 出現了 5287 次\n"
          ]
        },
        {
          "output_type": "stream",
          "name": "stderr",
          "text": [
            "/usr/local/lib/python3.10/dist-packages/sklearn/linear_model/_logistic.py:458: ConvergenceWarning: lbfgs failed to converge (status=1):\n",
            "STOP: TOTAL NO. of ITERATIONS REACHED LIMIT.\n",
            "\n",
            "Increase the number of iterations (max_iter) or scale the data as shown in:\n",
            "    https://scikit-learn.org/stable/modules/preprocessing.html\n",
            "Please also refer to the documentation for alternative solver options:\n",
            "    https://scikit-learn.org/stable/modules/linear_model.html#logistic-regression\n",
            "  n_iter_i = _check_optimize_result(\n"
          ]
        },
        {
          "output_type": "stream",
          "name": "stdout",
          "text": [
            "   Predicted Probability  Actual Label\n",
            "0               0.350979             0\n",
            "1               0.335381             0\n",
            "2               0.513734             0\n",
            "3               0.376650             0\n",
            "4               0.437015             0\n"
          ]
        },
        {
          "output_type": "stream",
          "name": "stderr",
          "text": [
            "\n",
            "Training and evaluating models:  50%|█████     | 3/6 [00:03<00:03,  1.23s/it]\u001b[A"
          ]
        },
        {
          "output_type": "stream",
          "name": "stdout",
          "text": [
            "F1 分数: 0.626332163897531, 混淆矩阵: [[1717 5089]\n",
            " [ 556 4731]], Sensitivity: 0.8948363911480991, G-mean: 0.4751284039449501, ROC-AUC: 0.5735568967200971\n",
            "  混淆矩阵: \n",
            "    TN: 1717, FP: 5089\n",
            "    FN: 556, TP: 4731\n",
            "\n",
            "模型: Decision Tree\n",
            "\n",
            "\n",
            "y_train值 0 出現了 15758 次\n",
            "y_train值 1 出現了 12458 次\n",
            "y_test值 0 出現了 6806 次\n",
            "y_test值 1 出現了 5287 次\n",
            "   Predicted Probability  Actual Label\n",
            "0                    0.0             0\n",
            "1                    0.0             0\n",
            "2                    1.0             0\n",
            "3                    1.0             0\n",
            "4                    1.0             0\n"
          ]
        },
        {
          "output_type": "stream",
          "name": "stderr",
          "text": [
            "\n",
            "Training and evaluating models:  67%|██████▋   | 4/6 [00:05<00:02,  1.33s/it]\u001b[A"
          ]
        },
        {
          "output_type": "stream",
          "name": "stdout",
          "text": [
            "F1 分数: 0.5487357834382932, 混淆矩阵: [[4373 2433]\n",
            " [2368 2919]], Sensitivity: 0.5521089464724797, G-mean: 0.595602015309906, ROC-AUC: 0.5973151256017996\n",
            "  混淆矩阵: \n",
            "    TN: 4373, FP: 2433\n",
            "    FN: 2368, TP: 2919\n",
            "\n",
            "模型: Random Forest\n",
            "\n",
            "\n",
            "y_train值 0 出現了 15758 次\n",
            "y_train值 1 出現了 12458 次\n",
            "y_test值 0 出現了 6806 次\n",
            "y_test值 1 出現了 5287 次\n",
            "   Predicted Probability  Actual Label\n",
            "0                   0.50             0\n",
            "1                   0.29             0\n",
            "2                   0.50             0\n",
            "3                   0.35             0\n",
            "4                   0.67             0\n"
          ]
        },
        {
          "output_type": "stream",
          "name": "stderr",
          "text": [
            "\n",
            "Training and evaluating models:  83%|████████▎ | 5/6 [00:12<00:03,  3.62s/it]\u001b[A"
          ]
        },
        {
          "output_type": "stream",
          "name": "stdout",
          "text": [
            "F1 分数: 0.6805685723211498, 混淆矩阵: [[3646 3160]\n",
            " [ 930 4357]], Sensitivity: 0.8240968413088708, G-mean: 0.6644334442614187, ROC-AUC: 0.6799003160408592\n",
            "  混淆矩阵: \n",
            "    TN: 3646, FP: 3160\n",
            "    FN: 930, TP: 4357\n",
            "\n",
            "模型: KNN\n",
            "\n",
            "\n",
            "y_train值 0 出現了 15758 次\n",
            "y_train值 1 出現了 12458 次\n",
            "y_test值 0 出現了 6806 次\n",
            "y_test值 1 出現了 5287 次\n",
            "   Predicted Probability  Actual Label\n",
            "0               0.000000             0\n",
            "1               0.000000             0\n",
            "2               1.000000             0\n",
            "3               0.000000             0\n",
            "4               0.333333             0\n"
          ]
        },
        {
          "output_type": "stream",
          "name": "stderr",
          "text": [
            "\n",
            "Training and evaluating models: 100%|██████████| 6/6 [00:15<00:00,  2.51s/it]\n",
            "Training Models:  20%|██        | 1/5 [00:15<01:00, 15.10s/it]"
          ]
        },
        {
          "output_type": "stream",
          "name": "stdout",
          "text": [
            "F1 分数: 0.6240458015267176, 混淆矩阵: [[1999 4807]\n",
            " [ 709 4578]], Sensitivity: 0.8658974843956876, G-mean: 0.5043054523989148, ROC-AUC: 0.5798044577429511\n",
            "  混淆矩阵: \n",
            "    TN: 1999, FP: 4807\n",
            "    FN: 709, TP: 4578\n",
            "LightGBM\n",
            "RR best AUC occur: 0.6913079203748891\n",
            "<class 'lightgbm.basic.Booster'>\n",
            "随机过采样\n"
          ]
        },
        {
          "output_type": "stream",
          "name": "stderr",
          "text": [
            "\n",
            "Training and evaluating models:   0%|          | 0/6 [00:00<?, ?it/s]\u001b[A"
          ]
        },
        {
          "output_type": "stream",
          "name": "stdout",
          "text": [
            "\n",
            "模型: XGBoost\n",
            "\n",
            "\n",
            "y_train值 0 出現了 15758 次\n",
            "y_train值 1 出現了 15758 次\n",
            "y_test值 0 出現了 6806 次\n",
            "y_test值 1 出現了 5287 次\n",
            "   Predicted Probability  Actual Label\n",
            "0               0.249828             0\n",
            "1               0.143232             0\n",
            "2               0.576717             0\n",
            "3               0.153622             0\n",
            "4               0.726994             0\n"
          ]
        },
        {
          "output_type": "stream",
          "name": "stderr",
          "text": [
            "\n",
            "Training and evaluating models:  17%|█▋        | 1/6 [00:00<00:04,  1.07it/s]\u001b[A"
          ]
        },
        {
          "output_type": "stream",
          "name": "stdout",
          "text": [
            "F1 分数: 0.685041761579347, 混淆矩阵: [[3434 3372]\n",
            " [ 776 4511]], Sensitivity: 0.8532248912426706, G-mean: 0.6561240113479408, ROC-AUC: 0.6788898479134305\n",
            "  混淆矩阵: \n",
            "    TN: 3434, FP: 3372\n",
            "    FN: 776, TP: 4511\n",
            "best auc occur: 0.6788898479134305\n",
            "\n",
            "模型: LightGBM\n",
            "\n",
            "\n",
            "y_train值 0 出現了 15758 次\n",
            "y_train值 1 出現了 15758 次\n",
            "y_test值 0 出現了 6806 次\n",
            "y_test值 1 出現了 5287 次\n",
            "[LightGBM] [Warning] Found whitespace in feature_names, replace with underlines\n",
            "[LightGBM] [Info] Number of positive: 15758, number of negative: 15758\n",
            "[LightGBM] [Info] Auto-choosing row-wise multi-threading, the overhead of testing was 0.002848 seconds.\n",
            "You can set `force_row_wise=true` to remove the overhead.\n",
            "And if memory is not enough, you can set `force_col_wise=true`.\n",
            "[LightGBM] [Info] Total Bins 1610\n",
            "[LightGBM] [Info] Number of data points in the train set: 31516, number of used features: 31\n",
            "[LightGBM] [Info] [binary:BoostFromScore]: pavg=0.500000 -> initscore=0.000000\n",
            "   Predicted Probability  Actual Label\n",
            "0               0.215450             0\n",
            "1               0.192892             0\n",
            "2               0.561310             0\n",
            "3               0.165267             0\n",
            "4               0.691769             0\n"
          ]
        },
        {
          "output_type": "stream",
          "name": "stderr",
          "text": [
            "\n",
            "Training and evaluating models:  33%|███▎      | 2/6 [00:02<00:04,  1.03s/it]\u001b[A"
          ]
        },
        {
          "output_type": "stream",
          "name": "stdout",
          "text": [
            "F1 分数: 0.6875883096601473, 混淆矩阵: [[3269 3537]\n",
            " [ 664 4623]], Sensitivity: 0.8744089275581616, G-mean: 0.648065316726636, ROC-AUC: 0.6773602087100241\n",
            "  混淆矩阵: \n",
            "    TN: 3269, FP: 3537\n",
            "    FN: 664, TP: 4623\n",
            "\n",
            "模型: Logistic Regression\n",
            "\n",
            "\n",
            "y_train值 0 出現了 15758 次\n",
            "y_train值 1 出現了 15758 次\n",
            "y_test值 0 出現了 6806 次\n",
            "y_test值 1 出現了 5287 次\n"
          ]
        },
        {
          "output_type": "stream",
          "name": "stderr",
          "text": [
            "/usr/local/lib/python3.10/dist-packages/sklearn/linear_model/_logistic.py:458: ConvergenceWarning: lbfgs failed to converge (status=1):\n",
            "STOP: TOTAL NO. of ITERATIONS REACHED LIMIT.\n",
            "\n",
            "Increase the number of iterations (max_iter) or scale the data as shown in:\n",
            "    https://scikit-learn.org/stable/modules/preprocessing.html\n",
            "Please also refer to the documentation for alternative solver options:\n",
            "    https://scikit-learn.org/stable/modules/linear_model.html#logistic-regression\n",
            "  n_iter_i = _check_optimize_result(\n"
          ]
        },
        {
          "output_type": "stream",
          "name": "stdout",
          "text": [
            "   Predicted Probability  Actual Label\n",
            "0               0.402423             0\n",
            "1               0.384497             0\n",
            "2               0.549047             0\n",
            "3               0.438265             0\n",
            "4               0.509813             0\n"
          ]
        },
        {
          "output_type": "stream",
          "name": "stderr",
          "text": [
            "\n",
            "Training and evaluating models:  50%|█████     | 3/6 [00:02<00:02,  1.04it/s]\u001b[A"
          ]
        },
        {
          "output_type": "stream",
          "name": "stdout",
          "text": [
            "F1 分数: 0.6275977797857235, 混淆矩阵: [[1461 5345]\n",
            " [ 425 4862]], Sensitivity: 0.9196141479099679, G-mean: 0.44430577447378156, ROC-AUC: 0.5671388400437292\n",
            "  混淆矩阵: \n",
            "    TN: 1461, FP: 5345\n",
            "    FN: 425, TP: 4862\n",
            "\n",
            "模型: Decision Tree\n",
            "\n",
            "\n",
            "y_train值 0 出現了 15758 次\n",
            "y_train值 1 出現了 15758 次\n",
            "y_test值 0 出現了 6806 次\n",
            "y_test值 1 出現了 5287 次\n",
            "   Predicted Probability  Actual Label\n",
            "0                    1.0             0\n",
            "1                    0.0             0\n",
            "2                    1.0             0\n",
            "3                    0.0             0\n",
            "4                    1.0             0\n"
          ]
        },
        {
          "output_type": "stream",
          "name": "stderr",
          "text": [
            "\n",
            "Training and evaluating models:  67%|██████▋   | 4/6 [00:04<00:02,  1.09s/it]\u001b[A"
          ]
        },
        {
          "output_type": "stream",
          "name": "stdout",
          "text": [
            "F1 分数: 0.5446089597570235, 混淆矩阵: [[4426 2380]\n",
            " [2418 2869]], Sensitivity: 0.5426517874030641, G-mean: 0.5940463767372527, ROC-AUC: 0.5964801693406738\n",
            "  混淆矩阵: \n",
            "    TN: 4426, FP: 2380\n",
            "    FN: 2418, TP: 2869\n",
            "\n",
            "模型: Random Forest\n",
            "\n",
            "\n",
            "y_train值 0 出現了 15758 次\n",
            "y_train值 1 出現了 15758 次\n",
            "y_test值 0 出現了 6806 次\n",
            "y_test值 1 出現了 5287 次\n",
            "   Predicted Probability  Actual Label\n",
            "0                   0.44             0\n",
            "1                   0.28             0\n",
            "2                   0.63             0\n",
            "3                   0.28             0\n",
            "4                   0.72             0\n"
          ]
        },
        {
          "output_type": "stream",
          "name": "stderr",
          "text": [
            "\n",
            "Training and evaluating models:  83%|████████▎ | 5/6 [00:13<00:03,  4.00s/it]\u001b[A"
          ]
        },
        {
          "output_type": "stream",
          "name": "stdout",
          "text": [
            "F1 分数: 0.6821062160531081, 混淆矩阵: [[3358 3448]\n",
            " [ 766 4521]], Sensitivity: 0.8551163230565538, G-mean: 0.6495416016055217, ROC-AUC: 0.6742522549752354\n",
            "  混淆矩阵: \n",
            "    TN: 3358, FP: 3448\n",
            "    FN: 766, TP: 4521\n",
            "\n",
            "模型: KNN\n",
            "\n",
            "\n",
            "y_train值 0 出現了 15758 次\n",
            "y_train值 1 出現了 15758 次\n",
            "y_test值 0 出現了 6806 次\n",
            "y_test值 1 出現了 5287 次\n",
            "   Predicted Probability  Actual Label\n",
            "0               0.000000             0\n",
            "1               0.000000             0\n",
            "2               1.000000             0\n",
            "3               0.000000             0\n",
            "4               0.666667             0\n"
          ]
        },
        {
          "output_type": "stream",
          "name": "stderr",
          "text": [
            "\n",
            "Training and evaluating models: 100%|██████████| 6/6 [00:15<00:00,  2.66s/it]\n",
            "Training Models:  40%|████      | 2/5 [00:31<00:46, 15.63s/it]"
          ]
        },
        {
          "output_type": "stream",
          "name": "stdout",
          "text": [
            "F1 分数: 0.6240458015267176, 混淆矩阵: [[1999 4807]\n",
            " [ 709 4578]], Sensitivity: 0.8658974843956876, G-mean: 0.5043054523989148, ROC-AUC: 0.5798044577429511\n",
            "  混淆矩阵: \n",
            "    TN: 1999, FP: 4807\n",
            "    FN: 709, TP: 4578\n",
            "XGBoost\n",
            "<class 'lightgbm.basic.Booster'>\n",
            "随机欠采样\n"
          ]
        },
        {
          "output_type": "stream",
          "name": "stderr",
          "text": [
            "\n",
            "Training and evaluating models:   0%|          | 0/6 [00:00<?, ?it/s]\u001b[A"
          ]
        },
        {
          "output_type": "stream",
          "name": "stdout",
          "text": [
            "\n",
            "模型: XGBoost\n",
            "\n",
            "\n",
            "y_train值 0 出現了 12458 次\n",
            "y_train值 1 出現了 12458 次\n",
            "y_test值 0 出現了 6806 次\n",
            "y_test值 1 出現了 5287 次\n",
            "   Predicted Probability  Actual Label\n",
            "0               0.366943             0\n",
            "1               0.161452             0\n",
            "2               0.590760             0\n",
            "3               0.203188             0\n",
            "4               0.686120             0\n"
          ]
        },
        {
          "output_type": "stream",
          "name": "stderr",
          "text": [
            "\n",
            "Training and evaluating models:  17%|█▋        | 1/6 [00:00<00:04,  1.13it/s]\u001b[A"
          ]
        },
        {
          "output_type": "stream",
          "name": "stdout",
          "text": [
            "F1 分数: 0.683477106834771, 混淆矩阵: [[3165 3641]\n",
            " [ 652 4635]], Sensitivity: 0.8766786457348212, G-mean: 0.6385002899751655, ROC-AUC: 0.6708547504313248\n",
            "  混淆矩阵: \n",
            "    TN: 3165, FP: 3641\n",
            "    FN: 652, TP: 4635\n",
            "best auc occur: 0.6708547504313248\n",
            "\n",
            "模型: LightGBM\n",
            "\n",
            "\n",
            "y_train值 0 出現了 12458 次\n",
            "y_train值 1 出現了 12458 次\n",
            "y_test值 0 出現了 6806 次\n",
            "y_test值 1 出現了 5287 次\n",
            "[LightGBM] [Warning] Found whitespace in feature_names, replace with underlines\n",
            "[LightGBM] [Info] Number of positive: 12458, number of negative: 12458\n",
            "[LightGBM] [Info] Auto-choosing row-wise multi-threading, the overhead of testing was 0.002289 seconds.\n",
            "You can set `force_row_wise=true` to remove the overhead.\n",
            "And if memory is not enough, you can set `force_col_wise=true`.\n",
            "[LightGBM] [Info] Total Bins 1609\n",
            "[LightGBM] [Info] Number of data points in the train set: 24916, number of used features: 31\n",
            "[LightGBM] [Info] [binary:BoostFromScore]: pavg=0.500000 -> initscore=0.000000\n",
            "   Predicted Probability  Actual Label\n",
            "0               0.243335             0\n",
            "1               0.182264             0\n",
            "2               0.536636             0\n",
            "3               0.301725             0\n",
            "4               0.689666             0\n"
          ]
        },
        {
          "output_type": "stream",
          "name": "stderr",
          "text": [
            "\n",
            "Training and evaluating models:  33%|███▎      | 2/6 [00:01<00:03,  1.03it/s]\u001b[A"
          ]
        },
        {
          "output_type": "stream",
          "name": "stdout",
          "text": [
            "F1 分数: 0.6888611864779645, 混淆矩阵: [[3153 3653]\n",
            " [ 590 4697]], Sensitivity: 0.8884055229808966, G-mean: 0.6415368950502085, ROC-AUC: 0.6758366139735514\n",
            "  混淆矩阵: \n",
            "    TN: 3153, FP: 3653\n",
            "    FN: 590, TP: 4697\n",
            "best auc occur: 0.6758366139735514\n",
            "\n",
            "模型: Logistic Regression\n",
            "\n",
            "\n",
            "y_train值 0 出現了 12458 次\n",
            "y_train值 1 出現了 12458 次\n",
            "y_test值 0 出現了 6806 次\n",
            "y_test值 1 出現了 5287 次\n"
          ]
        },
        {
          "output_type": "stream",
          "name": "stderr",
          "text": [
            "/usr/local/lib/python3.10/dist-packages/sklearn/linear_model/_logistic.py:458: ConvergenceWarning: lbfgs failed to converge (status=1):\n",
            "STOP: TOTAL NO. of ITERATIONS REACHED LIMIT.\n",
            "\n",
            "Increase the number of iterations (max_iter) or scale the data as shown in:\n",
            "    https://scikit-learn.org/stable/modules/preprocessing.html\n",
            "Please also refer to the documentation for alternative solver options:\n",
            "    https://scikit-learn.org/stable/modules/linear_model.html#logistic-regression\n",
            "  n_iter_i = _check_optimize_result(\n"
          ]
        },
        {
          "output_type": "stream",
          "name": "stdout",
          "text": [
            "   Predicted Probability  Actual Label\n",
            "0               0.378713             0\n",
            "1               0.335386             0\n",
            "2               0.549935             0\n",
            "3               0.420128             0\n",
            "4               0.525800             0\n"
          ]
        },
        {
          "output_type": "stream",
          "name": "stderr",
          "text": [
            "\n",
            "Training and evaluating models:  50%|█████     | 3/6 [00:02<00:02,  1.10it/s]\u001b[A"
          ]
        },
        {
          "output_type": "stream",
          "name": "stdout",
          "text": [
            "F1 分数: 0.626550058739068, 混淆矩阵: [[1571 5235]\n",
            " [ 487 4800]], Sensitivity: 0.9078872706638925, G-mean: 0.45778133742695465, ROC-AUC: 0.5693565063281262\n",
            "  混淆矩阵: \n",
            "    TN: 1571, FP: 5235\n",
            "    FN: 487, TP: 4800\n",
            "\n",
            "模型: Decision Tree\n",
            "\n",
            "\n",
            "y_train值 0 出現了 12458 次\n",
            "y_train值 1 出現了 12458 次\n",
            "y_test值 0 出現了 6806 次\n",
            "y_test值 1 出現了 5287 次\n",
            "   Predicted Probability  Actual Label\n",
            "0                    1.0             0\n",
            "1                    1.0             0\n",
            "2                    1.0             0\n",
            "3                    0.0             0\n",
            "4                    1.0             0\n"
          ]
        },
        {
          "output_type": "stream",
          "name": "stderr",
          "text": [
            "\n",
            "Training and evaluating models:  67%|██████▋   | 4/6 [00:03<00:01,  1.07it/s]\u001b[A"
          ]
        },
        {
          "output_type": "stream",
          "name": "stdout",
          "text": [
            "F1 分数: 0.5780605843341101, 混淆矩阵: [[4160 2646]\n",
            " [2062 3225]], Sensitivity: 0.6099867599773028, G-mean: 0.6106057605959769, ROC-AUC: 0.6106060746698151\n",
            "  混淆矩阵: \n",
            "    TN: 4160, FP: 2646\n",
            "    FN: 2062, TP: 3225\n",
            "\n",
            "模型: Random Forest\n",
            "\n",
            "\n",
            "y_train值 0 出現了 12458 次\n",
            "y_train值 1 出現了 12458 次\n",
            "y_test值 0 出現了 6806 次\n",
            "y_test值 1 出現了 5287 次\n",
            "   Predicted Probability  Actual Label\n",
            "0                   0.59             0\n",
            "1                   0.23             0\n",
            "2                   0.61             0\n",
            "3                   0.45             0\n",
            "4                   0.73             0\n"
          ]
        },
        {
          "output_type": "stream",
          "name": "stderr",
          "text": [
            "\n",
            "Training and evaluating models:  83%|████████▎ | 5/6 [00:11<00:03,  3.52s/it]\u001b[A"
          ]
        },
        {
          "output_type": "stream",
          "name": "stdout",
          "text": [
            "F1 分数: 0.6797261870084474, 混淆矩阵: [[3028 3778]\n",
            " [ 620 4667]], Sensitivity: 0.8827312275392473, G-mean: 0.62668053898406, ROC-AUC: 0.6638163924942784\n",
            "  混淆矩阵: \n",
            "    TN: 3028, FP: 3778\n",
            "    FN: 620, TP: 4667\n",
            "\n",
            "模型: KNN\n",
            "\n",
            "\n",
            "y_train值 0 出現了 12458 次\n",
            "y_train值 1 出現了 12458 次\n",
            "y_test值 0 出現了 6806 次\n",
            "y_test值 1 出現了 5287 次\n",
            "   Predicted Probability  Actual Label\n",
            "0               0.000000             0\n",
            "1               0.000000             0\n",
            "2               1.000000             0\n",
            "3               0.000000             0\n",
            "4               0.333333             0\n"
          ]
        },
        {
          "output_type": "stream",
          "name": "stderr",
          "text": [
            "\n",
            "Training and evaluating models: 100%|██████████| 6/6 [00:13<00:00,  2.33s/it]\n",
            "Training Models:  60%|██████    | 3/5 [00:45<00:29, 14.90s/it]"
          ]
        },
        {
          "output_type": "stream",
          "name": "stdout",
          "text": [
            "F1 分数: 0.6232074727009604, 混淆矩阵: [[1628 5178]\n",
            " [ 550 4737]], Sensitivity: 0.895971250236429, G-mean: 0.4629437924298107, ROC-AUC: 0.5675859777482468\n",
            "  混淆矩阵: \n",
            "    TN: 1628, FP: 5178\n",
            "    FN: 550, TP: 4737\n",
            "LightGBM\n",
            "<class 'lightgbm.basic.Booster'>\n",
            "SMOTE\n"
          ]
        },
        {
          "output_type": "stream",
          "name": "stderr",
          "text": [
            "\n",
            "Training and evaluating models:   0%|          | 0/6 [00:00<?, ?it/s]\u001b[A"
          ]
        },
        {
          "output_type": "stream",
          "name": "stdout",
          "text": [
            "\n",
            "模型: XGBoost\n",
            "\n",
            "\n",
            "y_train值 0 出現了 15758 次\n",
            "y_train值 1 出現了 15758 次\n",
            "y_test值 0 出現了 6806 次\n",
            "y_test值 1 出現了 5287 次\n",
            "   Predicted Probability  Actual Label\n",
            "0               0.384613             0\n",
            "1               0.135097             0\n",
            "2               0.447625             0\n",
            "3               0.274003             0\n",
            "4               0.627439             0\n"
          ]
        },
        {
          "output_type": "stream",
          "name": "stderr",
          "text": [
            "\n",
            "Training and evaluating models:  17%|█▋        | 1/6 [00:00<00:04,  1.04it/s]\u001b[A"
          ]
        },
        {
          "output_type": "stream",
          "name": "stdout",
          "text": [
            "F1 分数: 0.6688796680497925, 混淆矩阵: [[3271 3535]\n",
            " [ 854 4433]], Sensitivity: 0.8384717230943824, G-mean: 0.6348023270689921, ROC-AUC: 0.6595385356582697\n",
            "  混淆矩阵: \n",
            "    TN: 3271, FP: 3535\n",
            "    FN: 854, TP: 4433\n",
            "best auc occur: 0.6595385356582697\n",
            "\n",
            "模型: LightGBM\n",
            "\n",
            "\n",
            "y_train值 0 出現了 15758 次\n",
            "y_train值 1 出現了 15758 次\n",
            "y_test值 0 出現了 6806 次\n",
            "y_test值 1 出現了 5287 次\n",
            "[LightGBM] [Warning] Found whitespace in feature_names, replace with underlines\n",
            "[LightGBM] [Info] Number of positive: 15758, number of negative: 15758\n",
            "[LightGBM] [Info] Auto-choosing row-wise multi-threading, the overhead of testing was 0.003005 seconds.\n",
            "You can set `force_row_wise=true` to remove the overhead.\n",
            "And if memory is not enough, you can set `force_col_wise=true`.\n",
            "[LightGBM] [Info] Total Bins 2400\n",
            "[LightGBM] [Info] Number of data points in the train set: 31516, number of used features: 31\n",
            "[LightGBM] [Info] [binary:BoostFromScore]: pavg=0.500000 -> initscore=0.000000\n",
            "   Predicted Probability  Actual Label\n",
            "0               0.345444             0\n",
            "1               0.152987             0\n",
            "2               0.419159             0\n",
            "3               0.253993             0\n",
            "4               0.652873             0\n"
          ]
        },
        {
          "output_type": "stream",
          "name": "stderr",
          "text": [
            "\n",
            "Training and evaluating models:  33%|███▎      | 2/6 [00:02<00:04,  1.07s/it]\u001b[A"
          ]
        },
        {
          "output_type": "stream",
          "name": "stdout",
          "text": [
            "F1 分数: 0.6853539957459739, 混淆矩阵: [[3440 3366]\n",
            " [ 776 4511]], Sensitivity: 0.8532248912426706, G-mean: 0.6566969621292306, ROC-AUC: 0.679330635453836\n",
            "  混淆矩阵: \n",
            "    TN: 3440, FP: 3366\n",
            "    FN: 776, TP: 4511\n",
            "best auc occur: 0.679330635453836\n",
            "\n",
            "模型: Logistic Regression\n",
            "\n",
            "\n",
            "y_train值 0 出現了 15758 次\n",
            "y_train值 1 出現了 15758 次\n",
            "y_test值 0 出現了 6806 次\n",
            "y_test值 1 出現了 5287 次\n"
          ]
        },
        {
          "output_type": "stream",
          "name": "stderr",
          "text": [
            "/usr/local/lib/python3.10/dist-packages/sklearn/linear_model/_logistic.py:458: ConvergenceWarning: lbfgs failed to converge (status=1):\n",
            "STOP: TOTAL NO. of ITERATIONS REACHED LIMIT.\n",
            "\n",
            "Increase the number of iterations (max_iter) or scale the data as shown in:\n",
            "    https://scikit-learn.org/stable/modules/preprocessing.html\n",
            "Please also refer to the documentation for alternative solver options:\n",
            "    https://scikit-learn.org/stable/modules/linear_model.html#logistic-regression\n",
            "  n_iter_i = _check_optimize_result(\n"
          ]
        },
        {
          "output_type": "stream",
          "name": "stdout",
          "text": [
            "   Predicted Probability  Actual Label\n",
            "0               0.434480             0\n",
            "1               0.414229             0\n",
            "2               0.467937             0\n",
            "3               0.497946             0\n",
            "4               0.595696             0\n"
          ]
        },
        {
          "output_type": "stream",
          "name": "stderr",
          "text": [
            "\n",
            "Training and evaluating models:  50%|█████     | 3/6 [00:03<00:03,  1.01s/it]\u001b[A"
          ]
        },
        {
          "output_type": "stream",
          "name": "stdout",
          "text": [
            "F1 分数: 0.6208119576920641, 混淆矩阵: [[1205 5601]\n",
            " [ 386 4901]], Sensitivity: 0.926990731984112, G-mean: 0.40512145812486167, ROC-AUC: 0.5520201970234988\n",
            "  混淆矩阵: \n",
            "    TN: 1205, FP: 5601\n",
            "    FN: 386, TP: 4901\n",
            "\n",
            "模型: Decision Tree\n",
            "\n",
            "\n",
            "y_train值 0 出現了 15758 次\n",
            "y_train值 1 出現了 15758 次\n",
            "y_test值 0 出現了 6806 次\n",
            "y_test值 1 出現了 5287 次\n",
            "   Predicted Probability  Actual Label\n",
            "0                    1.0             0\n",
            "1                    0.0             0\n",
            "2                    1.0             0\n",
            "3                    0.0             0\n",
            "4                    1.0             0\n"
          ]
        },
        {
          "output_type": "stream",
          "name": "stderr",
          "text": [
            "\n",
            "Training and evaluating models:  67%|██████▋   | 4/6 [00:04<00:02,  1.04s/it]\u001b[A"
          ]
        },
        {
          "output_type": "stream",
          "name": "stdout",
          "text": [
            "F1 分数: 0.5506087926387211, 混淆矩阵: [[4296 2510]\n",
            " [2325 2962]], Sensitivity: 0.560242103272177, G-mean: 0.5946672698792156, ROC-AUC: 0.5957249305664442\n",
            "  混淆矩阵: \n",
            "    TN: 4296, FP: 2510\n",
            "    FN: 2325, TP: 2962\n",
            "\n",
            "模型: Random Forest\n",
            "\n",
            "\n",
            "y_train值 0 出現了 15758 次\n",
            "y_train值 1 出現了 15758 次\n",
            "y_test值 0 出現了 6806 次\n",
            "y_test值 1 出現了 5287 次\n",
            "   Predicted Probability  Actual Label\n",
            "0                   0.50             0\n",
            "1                   0.23             0\n",
            "2                   0.58             0\n",
            "3                   0.39             0\n",
            "4                   0.71             0\n"
          ]
        },
        {
          "output_type": "stream",
          "name": "stderr",
          "text": [
            "\n",
            "Training and evaluating models:  83%|████████▎ | 5/6 [00:13<00:04,  4.18s/it]\u001b[A"
          ]
        },
        {
          "output_type": "stream",
          "name": "stdout",
          "text": [
            "F1 分数: 0.6755223880597016, 混淆矩阵: [[3219 3587]\n",
            " [ 761 4526]], Sensitivity: 0.8560620389634954, G-mean: 0.6363076368175014, ROC-AUC: 0.6645135349093116\n",
            "  混淆矩阵: \n",
            "    TN: 3219, FP: 3587\n",
            "    FN: 761, TP: 4526\n",
            "\n",
            "模型: KNN\n",
            "\n",
            "\n",
            "y_train值 0 出現了 15758 次\n",
            "y_train值 1 出現了 15758 次\n",
            "y_test值 0 出現了 6806 次\n",
            "y_test值 1 出現了 5287 次\n",
            "   Predicted Probability  Actual Label\n",
            "0               0.000000             0\n",
            "1               0.000000             0\n",
            "2               1.000000             0\n",
            "3               0.000000             0\n",
            "4               0.333333             0\n"
          ]
        },
        {
          "output_type": "stream",
          "name": "stderr",
          "text": [
            "\n",
            "Training and evaluating models: 100%|██████████| 6/6 [00:16<00:00,  2.77s/it]\n",
            "Training Models:  80%|████████  | 4/5 [01:01<00:15, 15.61s/it]"
          ]
        },
        {
          "output_type": "stream",
          "name": "stdout",
          "text": [
            "F1 分数: 0.623104008667389, 混淆矩阵: [[1926 4880]\n",
            " [ 686 4601]], Sensitivity: 0.8702477775676187, G-mean: 0.4962535544476974, ROC-AUC: 0.5766166892539828\n",
            "  混淆矩阵: \n",
            "    TN: 1926, FP: 4880\n",
            "    FN: 686, TP: 4601\n",
            "LightGBM\n",
            "<class 'lightgbm.basic.Booster'>\n",
            "ADASYN\n"
          ]
        },
        {
          "output_type": "stream",
          "name": "stderr",
          "text": [
            "\n",
            "Training and evaluating models:   0%|          | 0/6 [00:00<?, ?it/s]\u001b[A"
          ]
        },
        {
          "output_type": "stream",
          "name": "stdout",
          "text": [
            "\n",
            "模型: XGBoost\n",
            "\n",
            "\n",
            "y_train值 0 出現了 15758 次\n",
            "y_train值 1 出現了 13056 次\n",
            "y_test值 0 出現了 6806 次\n",
            "y_test值 1 出現了 5287 次\n",
            "   Predicted Probability  Actual Label\n",
            "0               0.400580             0\n",
            "1               0.122119             0\n",
            "2               0.494314             0\n",
            "3               0.257619             0\n",
            "4               0.678883             0\n"
          ]
        },
        {
          "output_type": "stream",
          "name": "stderr",
          "text": [
            "\n",
            "Training and evaluating models:  17%|█▋        | 1/6 [00:00<00:04,  1.09it/s]\u001b[A"
          ]
        },
        {
          "output_type": "stream",
          "name": "stdout",
          "text": [
            "F1 分数: 0.6787639511046998, 混淆矩阵: [[3392 3414]\n",
            " [ 817 4470]], Sensitivity: 0.84547002080575, G-mean: 0.6491290657612171, ROC-AUC: 0.6719268999121315\n",
            "  混淆矩阵: \n",
            "    TN: 3392, FP: 3414\n",
            "    FN: 817, TP: 4470\n",
            "best auc occur: 0.6719268999121315\n",
            "\n",
            "模型: LightGBM\n",
            "\n",
            "\n",
            "y_train值 0 出現了 15758 次\n",
            "y_train值 1 出現了 13056 次\n",
            "y_test值 0 出現了 6806 次\n",
            "y_test值 1 出現了 5287 次\n",
            "[LightGBM] [Warning] Found whitespace in feature_names, replace with underlines\n",
            "[LightGBM] [Info] Number of positive: 13056, number of negative: 15758\n",
            "[LightGBM] [Info] Auto-choosing row-wise multi-threading, the overhead of testing was 0.002619 seconds.\n",
            "You can set `force_row_wise=true` to remove the overhead.\n",
            "And if memory is not enough, you can set `force_col_wise=true`.\n",
            "[LightGBM] [Info] Total Bins 2400\n",
            "[LightGBM] [Info] Number of data points in the train set: 28814, number of used features: 31\n",
            "[LightGBM] [Info] [binary:BoostFromScore]: pavg=0.453113 -> initscore=-0.188100\n",
            "[LightGBM] [Info] Start training from score -0.188100\n",
            "   Predicted Probability  Actual Label\n",
            "0               0.310389             0\n",
            "1               0.181737             0\n",
            "2               0.476018             0\n",
            "3               0.225118             0\n",
            "4               0.629976             0\n"
          ]
        },
        {
          "output_type": "stream",
          "name": "stderr",
          "text": [
            "\n",
            "Training and evaluating models:  33%|███▎      | 2/6 [00:02<00:04,  1.02s/it]\u001b[A"
          ]
        },
        {
          "output_type": "stream",
          "name": "stdout",
          "text": [
            "F1 分数: 0.6842812360053738, 混淆矩阵: [[3279 3527]\n",
            " [ 703 4584]], Sensitivity: 0.8670323434840174, G-mean: 0.6463122466509815, ROC-AUC: 0.6744065625736279\n",
            "  混淆矩阵: \n",
            "    TN: 3279, FP: 3527\n",
            "    FN: 703, TP: 4584\n",
            "best auc occur: 0.6744065625736279\n",
            "\n",
            "模型: Logistic Regression\n",
            "\n",
            "\n",
            "y_train值 0 出現了 15758 次\n",
            "y_train值 1 出現了 13056 次\n",
            "y_test值 0 出現了 6806 次\n",
            "y_test值 1 出現了 5287 次\n"
          ]
        },
        {
          "output_type": "stream",
          "name": "stderr",
          "text": [
            "/usr/local/lib/python3.10/dist-packages/sklearn/linear_model/_logistic.py:458: ConvergenceWarning: lbfgs failed to converge (status=1):\n",
            "STOP: TOTAL NO. of ITERATIONS REACHED LIMIT.\n",
            "\n",
            "Increase the number of iterations (max_iter) or scale the data as shown in:\n",
            "    https://scikit-learn.org/stable/modules/preprocessing.html\n",
            "Please also refer to the documentation for alternative solver options:\n",
            "    https://scikit-learn.org/stable/modules/linear_model.html#logistic-regression\n",
            "  n_iter_i = _check_optimize_result(\n"
          ]
        },
        {
          "output_type": "stream",
          "name": "stdout",
          "text": [
            "   Predicted Probability  Actual Label\n",
            "0               0.381943             0\n",
            "1               0.357107             0\n",
            "2               0.490282             0\n",
            "3               0.424807             0\n",
            "4               0.472051             0\n"
          ]
        },
        {
          "output_type": "stream",
          "name": "stderr",
          "text": [
            "\n",
            "Training and evaluating models:  50%|█████     | 3/6 [00:02<00:02,  1.04it/s]\u001b[A"
          ]
        },
        {
          "output_type": "stream",
          "name": "stdout",
          "text": [
            "F1 分数: 0.6279205987634233, 混淆矩阵: [[1552 5254]\n",
            " [ 463 4824]], Sensitivity: 0.9124267070172121, G-mean: 0.45614075854825703, ROC-AUC: 0.5702303972935018\n",
            "  混淆矩阵: \n",
            "    TN: 1552, FP: 5254\n",
            "    FN: 463, TP: 4824\n",
            "\n",
            "模型: Decision Tree\n",
            "\n",
            "\n",
            "y_train值 0 出現了 15758 次\n",
            "y_train值 1 出現了 13056 次\n",
            "y_test值 0 出現了 6806 次\n",
            "y_test值 1 出現了 5287 次\n",
            "   Predicted Probability  Actual Label\n",
            "0                    1.0             0\n",
            "1                    0.0             0\n",
            "2                    1.0             0\n",
            "3                    0.0             0\n",
            "4                    1.0             0\n"
          ]
        },
        {
          "output_type": "stream",
          "name": "stderr",
          "text": [
            "\n",
            "Training and evaluating models:  67%|██████▋   | 4/6 [00:03<00:01,  1.02it/s]\u001b[A"
          ]
        },
        {
          "output_type": "stream",
          "name": "stdout",
          "text": [
            "F1 分数: 0.5629574724358382, 混淆矩阵: [[4338 2468]\n",
            " [2249 3038]], Sensitivity: 0.5746169850576887, G-mean: 0.60518482703403, ROC-AUC: 0.6059978842420385\n",
            "  混淆矩阵: \n",
            "    TN: 4338, FP: 2468\n",
            "    FN: 2249, TP: 3038\n",
            "\n",
            "模型: Random Forest\n",
            "\n",
            "\n",
            "y_train值 0 出現了 15758 次\n",
            "y_train值 1 出現了 13056 次\n",
            "y_test值 0 出現了 6806 次\n",
            "y_test值 1 出現了 5287 次\n",
            "   Predicted Probability  Actual Label\n",
            "0                   0.55             0\n",
            "1                   0.30             0\n",
            "2                   0.48             0\n",
            "3                   0.35             0\n",
            "4                   0.79             0\n"
          ]
        },
        {
          "output_type": "stream",
          "name": "stderr",
          "text": [
            "\n",
            "Training and evaluating models:  83%|████████▎ | 5/6 [00:12<00:03,  3.58s/it]\u001b[A"
          ]
        },
        {
          "output_type": "stream",
          "name": "stdout",
          "text": [
            "F1 分数: 0.6791272618958969, 混淆矩阵: [[3224 3582]\n",
            " [ 727 4560]], Sensitivity: 0.8624929071306979, G-mean: 0.6391890262762534, ROC-AUC: 0.6680962919432508\n",
            "  混淆矩阵: \n",
            "    TN: 3224, FP: 3582\n",
            "    FN: 727, TP: 4560\n",
            "\n",
            "模型: KNN\n",
            "\n",
            "\n",
            "y_train值 0 出現了 15758 次\n",
            "y_train值 1 出現了 13056 次\n",
            "y_test值 0 出現了 6806 次\n",
            "y_test值 1 出現了 5287 次\n",
            "   Predicted Probability  Actual Label\n",
            "0               0.000000             0\n",
            "1               0.000000             0\n",
            "2               1.000000             0\n",
            "3               0.000000             0\n",
            "4               0.333333             0\n"
          ]
        },
        {
          "output_type": "stream",
          "name": "stderr",
          "text": [
            "\n",
            "Training and evaluating models: 100%|██████████| 6/6 [00:15<00:00,  2.62s/it]\n",
            "Training Models: 100%|██████████| 5/5 [01:17<00:00, 15.53s/it]"
          ]
        },
        {
          "output_type": "stream",
          "name": "stdout",
          "text": [
            "F1 分数: 0.6228974498100922, 混淆矩阵: [[1941 4865]\n",
            " [ 695 4592]], Sensitivity: 0.8685454889351238, G-mean: 0.49769477320876443, ROC-AUC: 0.5768675137887491\n",
            "  混淆矩阵: \n",
            "    TN: 1941, FP: 4865\n",
            "    FN: 695, TP: 4592\n",
            "LightGBM\n",
            "<class 'lightgbm.basic.Booster'>\n"
          ]
        },
        {
          "output_type": "stream",
          "name": "stderr",
          "text": [
            "\n"
          ]
        },
        {
          "output_type": "stream",
          "name": "stdout",
          "text": [
            "最佳模型: 原始数据 LightGBM，auc: 0.6913079203748891\n"
          ]
        }
      ]
    },
    {
      "cell_type": "code",
      "source": [
        "print(type(best_modelF))"
      ],
      "metadata": {
        "colab": {
          "base_uri": "https://localhost:8080/"
        },
        "id": "wVI9B4HOLfpu",
        "outputId": "1deecc7e-4dbf-4519-9647-5a6f91a161cd"
      },
      "execution_count": 21,
      "outputs": [
        {
          "output_type": "stream",
          "name": "stdout",
          "text": [
            "<class 'xgboost.core.DMatrix'>\n"
          ]
        }
      ]
    },
    {
      "cell_type": "code",
      "source": [
        "from datetime import datetime, timedelta\n",
        "\n",
        "# Convert 'Order_Date' to datetime format\n",
        "data['Order_Date'] = pd.to_datetime(data['Order_Date'])\n",
        "\n",
        "# Sorting the data by 'Order_Date' and 'Time_Orderd_in_minutes'\n",
        "sorted_data = data.sort_values(by=['Order_Date', 'Time_Orderd_in_minutes'])\n",
        "\n",
        "# Calculate the time until next 'IsGreenOrder' == 1 in minutes\n",
        "time_to_next_green_order = []\n",
        "for index, row in sorted_data.iterrows():\n",
        "    # Finding future orders where 'IsGreenOrder' == 1\n",
        "    future_green_orders = sorted_data[(sorted_data['Order_Date'] > row['Order_Date']) |\n",
        "                                      ((sorted_data['Order_Date'] == row['Order_Date']) &\n",
        "                                       (sorted_data['Time_Orderd_in_minutes'] > row['Time_Orderd_in_minutes'])) &\n",
        "                                      (sorted_data['IsGreenOrder'] == 1)]\n",
        "\n",
        "    if not future_green_orders.empty:\n",
        "        next_green_order = future_green_orders.iloc[0]\n",
        "        # Calculate the time difference in minutes\n",
        "        date_diff = (next_green_order['Order_Date'] - row['Order_Date']).days * 24 * 60  # Days to minutes\n",
        "        time_diff = date_diff + (next_green_order['Time_Orderd_in_minutes'] - row['Time_Orderd_in_minutes'])\n",
        "    else:\n",
        "        time_diff = None  # No next green order found\n",
        "    time_to_next_green_order.append(time_diff)\n",
        "    print(f'append{time_diff}')\n",
        "# Adding the calculated time to the sorted data\n",
        "sorted_data['Time_to_Next_Green_Order'] = time_to_next_green_order\n",
        "\n",
        "# Display the updated sorted dataframe\n",
        "sorted_data[['Order_Date', 'Time_Orderd_in_minutes', 'IsGreenOrder', 'Time_to_Next_Green_Order']].head()\n"
      ],
      "metadata": {
        "id": "ddNqfXXr5IXF"
      },
      "execution_count": null,
      "outputs": []
    },
    {
      "cell_type": "code",
      "source": [
        "# @title 填補缺失值\n",
        "# Analyzing the dataset to suggest suitable methods for imputing missing values in each column\n",
        "data= pd.read_csv('/content/drive/My Drive/112 Sesmester/data2/featureS.csv')\n",
        "columns_to_drop = ['Unnamed: 0', 'Time_Orderd_in_minutes','Time_taken(min)',\n",
        "                   'Route', 'Time_taken(min)','City','multiple_deliveries','Type_of_vehicle']\n",
        "data = data.drop(columns_to_drop, axis=1)\n",
        "data.columns\n",
        "\n",
        "data=df\n",
        "# Checking for missing values in each column\n",
        "# Analyzing the dataset to suggest suitable methods for imputing missing values in each column\n",
        "\n",
        "# Checking for missing values in each column\n",
        "missing_values = data.isnull().sum()\n",
        "missing_values = missing_values[missing_values > 0]\n",
        "\n",
        "# Checking the data types of columns with missing values\n",
        "data_types = data[missing_values.index].dtypes\n",
        "\n",
        "# Preparing a summary of columns with missing values, their data types, and suggested imputation methods\n",
        "imputation_methods = []\n",
        "\n",
        "for column, missing_count in missing_values.iteritems():\n",
        "    dtype = data_types[column]\n",
        "    if dtype == 'object':\n",
        "        # Suggesting mode imputation for categorical data\n",
        "        method = 'Mode (for categorical data)'\n",
        "    elif dtype in ['int64', 'float64']:\n",
        "        # Suggesting mean or median imputation for numerical data, depending on the distribution\n",
        "        if data[column].skew() < 1 and data[column].skew() > -1:\n",
        "            method = 'Mean (for approximately normal distribution)'\n",
        "        else:\n",
        "            method = 'Median (for skewed distribution)'\n",
        "    else:\n",
        "        method = 'Special consideration required'\n",
        "\n",
        "    imputation_methods.append((column, dtype, missing_count, method))\n",
        "\n",
        "imputation_summary = pd.DataFrame(imputation_methods, columns=['Column', 'Data Type', 'Missing Values', 'Suggested Method'])\n",
        "\n",
        "imputation_summary.sort_values(by='Missing Values', ascending=False)\n",
        "# @title 填補缺失值\n",
        "# Filling missing values for each column based on the suggested methods\n",
        "\n",
        "# Defining functions for different imputation methods\n",
        "def impute_mode(column):\n",
        "    return column.fillna(column.mode()[0])\n",
        "\n",
        "def impute_mean(column):\n",
        "    return column.fillna(column.mean())\n",
        "\n",
        "def impute_median(column):\n",
        "    return column.fillna(column.median())\n",
        "\n",
        "# Applying the imputation methods to each column\n",
        "for column, dtype, _, method in imputation_methods:\n",
        "    if method == 'Mode (for categorical data)':\n",
        "        data[column] = impute_mode(data[column])\n",
        "    elif method == 'Mean (for approximately normal distribution)':\n",
        "        data[column] = impute_mean(data[column])\n",
        "    elif method == 'Median (for skewed distribution)':\n",
        "        data[column] = impute_median(data[column])\n",
        "\n",
        "# Checking if there are any missing values left\n",
        "remaining_missing_values = data.isnull().sum().sum()\n",
        "\n",
        "remaining_missing_values, data.head()\n"
      ],
      "metadata": {
        "colab": {
          "base_uri": "https://localhost:8080/"
        },
        "id": "e_NTRpm0_2Et",
        "outputId": "daf3f377-51c5-41d2-8639-45366b4f108f"
      },
      "execution_count": 8,
      "outputs": [
        {
          "output_type": "stream",
          "name": "stderr",
          "text": [
            "<ipython-input-8-a6bcb96b395a>:17: FutureWarning: iteritems is deprecated and will be removed in a future version. Use .items instead.\n",
            "  for column, missing_count in missing_values.iteritems():\n"
          ]
        },
        {
          "output_type": "execute_result",
          "data": {
            "text/plain": [
              "(0,\n",
              "    Unnamed: 0       ID Delivery_person_ID  Delivery_person_Age  \\\n",
              " 0           0  0x4607     INDORES13DEL02                  37.0   \n",
              " 1           1  0xb379     BANGRES18DEL02                  34.0   \n",
              " 2           2  0x5d6d     BANGRES19DEL01                  23.0   \n",
              " 3           3  0x7a6a    COIMBRES13DEL02                  38.0   \n",
              " 4           4  0x70a2     CHENRES12DEL01                  32.0   \n",
              " \n",
              "    Delivery_person_Ratings  Restaurant_latitude  Restaurant_longitude  \\\n",
              " 0                      4.9            22.745049             75.892471   \n",
              " 1                      4.5            12.913041             77.683237   \n",
              " 2                      4.4            12.914264             77.678400   \n",
              " 3                      4.7            11.003669             76.976494   \n",
              " 4                      4.6            12.972793             80.249982   \n",
              " \n",
              "    Delivery_location_latitude  Delivery_location_longitude  Order_Date  ...  \\\n",
              " 0                   22.765049                    75.912471  2022-03-19  ...   \n",
              " 1                   13.043041                    77.813237  2022-03-25  ...   \n",
              " 2                   12.924264                    77.688400  2022-03-19  ...   \n",
              " 3                   11.053669                    77.026494  2022-04-05  ...   \n",
              " 4                   13.012793                    80.289982  2022-03-26  ...   \n",
              " \n",
              "   multiple_deliveries Festival            City Time_taken(min)  Distance_km  \\\n",
              " 0                 0.0      No           Urban         (min) 24       4.1606   \n",
              " 1                 1.0      No   Metropolitian         (min) 33      28.9712   \n",
              " 2                 1.0      No           Urban         (min) 26       5.1439   \n",
              " 3                 1.0      No   Metropolitian         (min) 21      13.1756   \n",
              " 4                 1.0      No   Metropolitian         (min) 30       7.0574   \n",
              " \n",
              "                                                Route Time_Orderd_in_minutes  \\\n",
              " 0  [[22.74505, 75.89247], [22.74507, 75.89248], [...                    690   \n",
              " 1  [[12.9131, 77.68297], [12.91196, 77.68272], [1...                   1185   \n",
              " 2  [[12.91427, 77.67837], [12.91384, 77.67825], [...                    510   \n",
              " 3  [[11.00363, 76.97597], [11.00486, 76.97588], [...                   1080   \n",
              " 4  [[12.97279, 80.25], [12.97335, 80.25014], [12....                    810   \n",
              " \n",
              "    location_cluster date_category IsGreenOrder  \n",
              " 0                 1            26            0  \n",
              " 1                 2            31            0  \n",
              " 2                 2            26            0  \n",
              " 3                10            42            1  \n",
              " 4                 8            32            0  \n",
              " \n",
              " [5 rows x 27 columns])"
            ]
          },
          "metadata": {},
          "execution_count": 8
        }
      ]
    },
    {
      "cell_type": "code",
      "source": [
        "sorted_data['Time_to_Next_Green_Order'].value_counts()\n",
        "sorted_data.to_csv('/content/drive/My Drive/112 Sesmester/data2/sorted_data')"
      ],
      "metadata": {
        "id": "d6DHGEV_ehrL"
      },
      "execution_count": null,
      "outputs": []
    },
    {
      "cell_type": "code",
      "source": [
        "sorted_data[['Order_Date', 'Time_Orderd_in_minutes', 'IsGreenOrder', 'Time_to_Next_Green_Order']]\n"
      ],
      "metadata": {
        "id": "1G1PvEM-du9l"
      },
      "execution_count": null,
      "outputs": []
    },
    {
      "cell_type": "code",
      "source": [
        "# Sorting the data by 'Order_Date' and 'Time_Ordered'\n",
        "sorted_data = data.sort_values(by=['Order_Date', 'Time_Ordered'])\n",
        "\n",
        "# Display the first few rows of the sorted dataframe\n",
        "sorted_data.head()\n",
        "sorted_data[['Order_Date', 'Time_Ordered', 'IsGreenOrder', 'Time_to_Next_Green_Order']]"
      ],
      "metadata": {
        "id": "NymIRevS8KOu"
      },
      "execution_count": null,
      "outputs": []
    },
    {
      "cell_type": "code",
      "source": [
        "data[ 'Time_to_Next_Green_Order'].value_counts()"
      ],
      "metadata": {
        "id": "6L6jYED_6be_"
      },
      "execution_count": null,
      "outputs": []
    }
  ]
}