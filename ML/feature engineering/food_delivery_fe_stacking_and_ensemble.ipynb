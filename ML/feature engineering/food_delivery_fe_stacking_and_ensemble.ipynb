{
  "metadata": {
    "kernelspec": {
      "language": "python",
      "display_name": "Python 3",
      "name": "python3"
    },
    "language_info": {
      "name": "python",
      "version": "3.7.12",
      "mimetype": "text/x-python",
      "codemirror_mode": {
        "name": "ipython",
        "version": 3
      },
      "pygments_lexer": "ipython3",
      "nbconvert_exporter": "python",
      "file_extension": ".py"
    },
    "colab": {
      "provenance": []
    }
  },
  "nbformat_minor": 0,
  "nbformat": 4,
  "cells": [
    {
      "cell_type": "markdown",
      "source": [
        "* This notebook is demonstration of creating new feature on the basis of longitude and latitude.\n",
        "* Feature engineering on the basis of aggregation.\n",
        "* Target Encoding\n",
        "* Feature Selection\n",
        "* Stacking"
      ],
      "metadata": {
        "execution": {
          "iopub.status.busy": "2022-10-02T02:02:18.820253Z",
          "iopub.execute_input": "2022-10-02T02:02:18.820916Z",
          "iopub.status.idle": "2022-10-02T02:02:18.831271Z",
          "shell.execute_reply.started": "2022-10-02T02:02:18.820880Z",
          "shell.execute_reply": "2022-10-02T02:02:18.829613Z"
        },
        "id": "PSUwqwlQzXOE"
      }
    },
    {
      "cell_type": "code",
      "source": [
        "# @title 連接google drive\n",
        "from google.colab import drive\n",
        "drive.mount('/content/drive')\n",
        "\n",
        "!nvidia-smi\n",
        "import os\n",
        "os.chdir('/content/drive/My Drive')\n",
        "os.getcwd()\n",
        "os.chdir('/content/drive/My Drive/112 Sesmester/data2')\n",
        "os.getcwd()"
      ],
      "metadata": {
        "colab": {
          "base_uri": "https://localhost:8080/",
          "height": 70
        },
        "id": "GT4iqSSLzanX",
        "outputId": "0a4c740f-5fe5-4ae7-88fa-a0c645ed6280"
      },
      "execution_count": 1,
      "outputs": [
        {
          "output_type": "stream",
          "name": "stdout",
          "text": [
            "Drive already mounted at /content/drive; to attempt to forcibly remount, call drive.mount(\"/content/drive\", force_remount=True).\n",
            "/bin/bash: line 1: nvidia-smi: command not found\n"
          ]
        },
        {
          "output_type": "execute_result",
          "data": {
            "text/plain": [
              "'/content/drive/My Drive/112 Sesmester/data2'"
            ],
            "application/vnd.google.colaboratory.intrinsic+json": {
              "type": "string"
            }
          },
          "metadata": {},
          "execution_count": 1
        }
      ]
    },
    {
      "cell_type": "markdown",
      "source": [
        "## IMPORTING"
      ],
      "metadata": {
        "id": "XR_heWhnzXOI"
      }
    },
    {
      "cell_type": "code",
      "source": [
        "import pandas as pd\n",
        "import numpy as np\n",
        "from datetime import datetime, timedelta\n",
        "from sklearn.impute import SimpleImputer,MissingIndicator, KNNImputer\n",
        "from sklearn.model_selection import train_test_split, cross_validate,GridSearchCV,RepeatedStratifiedKFold,cross_val_score,cross_val_predict\n",
        "from sklearn.preprocessing import PowerTransformer,OneHotEncoder, StandardScaler\n",
        "from sklearn.linear_model import LogisticRegression\n",
        "from sklearn.compose import make_column_transformer,make_column_selector,ColumnTransformer\n",
        "from sklearn.ensemble import RandomForestRegressor, VotingRegressor, GradientBoostingRegressor,RandomForestClassifier\n",
        "from sklearn.pipeline import make_pipeline, Pipeline\n",
        "from sklearn.preprocessing import PolynomialFeatures\n",
        "from sklearn.metrics import roc_auc_score\n",
        "from sklearn.impute import  KNNImputer\n",
        "from sklearn.svm import SVC\n",
        "from lightgbm import LGBMRegressor, LGBMClassifier\n",
        "import xgboost as xgb\n",
        "\n",
        "import warnings; warnings.filterwarnings(\"ignore\")\n",
        "import numpy as np\n",
        "import pandas as pd\n",
        "#from kuma_utils.preprocessing.imputer import LGBMImputer\n",
        "from sklearn.decomposition import PCA\n",
        "from sklearn.preprocessing import MinMaxScaler,RobustScaler\n",
        "from sklearn.linear_model import LogisticRegression\n",
        "from sklearn.model_selection import RandomizedSearchCV\n",
        "import holidays\n",
        "import gc\n",
        "from sklearn.preprocessing import FunctionTransformer\n",
        "from sklearn.preprocessing import SplineTransformer\n",
        "from sklearn.preprocessing import PolynomialFeatures\n",
        "from geopy.distance import geodesic\n",
        "\n",
        "import gc\n",
        "\n",
        "!pip install category_encoders\n",
        "!pip install feature_engine #feature_engine.encoding feature_engine.discretisation feature_engine.encoding feature_engine.selection feature_engine.creation\n",
        "from category_encoders import OrdinalEncoder\n",
        "\n",
        "\n",
        "import matplotlib.pyplot as plt\n",
        "import seaborn as sns\n",
        "import scipy.stats as stats\n",
        "from sklearn.preprocessing import KBinsDiscretizer,LabelEncoder\n",
        "from feature_engine.encoding import OrdinalEncoder\n",
        "from feature_engine.discretisation import EqualFrequencyDiscretiser\n",
        "from feature_engine.encoding import RareLabelEncoder\n",
        "from feature_engine.selection import DropDuplicateFeatures, DropConstantFeatures\n",
        "from feature_engine.selection import (RecursiveFeatureElimination, RecursiveFeatureAddition,\n",
        "    DropConstantFeatures,\n",
        "    DropDuplicateFeatures,\n",
        "    SmartCorrelatedSelection,DropCorrelatedFeatures\n",
        ")\n",
        "from feature_engine.creation import MathFeatures,RelativeFeatures\n",
        "\n",
        "# to select the features\n",
        "from sklearn.feature_selection import SelectKBest, SelectPercentile\n",
        "from feature_engine.encoding import CountFrequencyEncoder\n",
        "from feature_engine.encoding import OneHotEncoder\n",
        "from feature_engine.encoding import MeanEncoder\n",
        "from sklearn import metrics\n",
        "from feature_engine.encoding import CountFrequencyEncoder\n",
        "from sklearn.cluster import KMeans\n",
        "from category_encoders import MEstimateEncoder,OrdinalEncoder\n",
        "from sklearn.experimental import enable_iterative_imputer\n",
        "from sklearn.impute import IterativeImputer\n",
        "from sklearn.preprocessing import KBinsDiscretizer\n",
        "\n",
        "\n",
        "from sklearn.ensemble import StackingRegressor\n"
      ],
      "metadata": {
        "scrolled": true,
        "execution": {
          "iopub.status.busy": "2022-10-02T01:37:05.081521Z",
          "iopub.execute_input": "2022-10-02T01:37:05.082625Z",
          "iopub.status.idle": "2022-10-02T01:37:05.098690Z",
          "shell.execute_reply.started": "2022-10-02T01:37:05.082576Z",
          "shell.execute_reply": "2022-10-02T01:37:05.097235Z"
        },
        "trusted": true,
        "colab": {
          "base_uri": "https://localhost:8080/"
        },
        "id": "filIQYaazXOI",
        "outputId": "24d07971-e632-46b7-b977-37f0c0bfcbb6"
      },
      "execution_count": 2,
      "outputs": [
        {
          "output_type": "stream",
          "name": "stdout",
          "text": [
            "Requirement already satisfied: category_encoders in /usr/local/lib/python3.10/dist-packages (2.6.3)\n",
            "Requirement already satisfied: numpy>=1.14.0 in /usr/local/lib/python3.10/dist-packages (from category_encoders) (1.23.5)\n",
            "Requirement already satisfied: scikit-learn>=0.20.0 in /usr/local/lib/python3.10/dist-packages (from category_encoders) (1.2.2)\n",
            "Requirement already satisfied: scipy>=1.0.0 in /usr/local/lib/python3.10/dist-packages (from category_encoders) (1.11.4)\n",
            "Requirement already satisfied: statsmodels>=0.9.0 in /usr/local/lib/python3.10/dist-packages (from category_encoders) (0.14.0)\n",
            "Requirement already satisfied: pandas>=1.0.5 in /usr/local/lib/python3.10/dist-packages (from category_encoders) (1.5.3)\n",
            "Requirement already satisfied: patsy>=0.5.1 in /usr/local/lib/python3.10/dist-packages (from category_encoders) (0.5.3)\n",
            "Requirement already satisfied: python-dateutil>=2.8.1 in /usr/local/lib/python3.10/dist-packages (from pandas>=1.0.5->category_encoders) (2.8.2)\n",
            "Requirement already satisfied: pytz>=2020.1 in /usr/local/lib/python3.10/dist-packages (from pandas>=1.0.5->category_encoders) (2023.3.post1)\n",
            "Requirement already satisfied: six in /usr/local/lib/python3.10/dist-packages (from patsy>=0.5.1->category_encoders) (1.16.0)\n",
            "Requirement already satisfied: joblib>=1.1.1 in /usr/local/lib/python3.10/dist-packages (from scikit-learn>=0.20.0->category_encoders) (1.3.2)\n",
            "Requirement already satisfied: threadpoolctl>=2.0.0 in /usr/local/lib/python3.10/dist-packages (from scikit-learn>=0.20.0->category_encoders) (3.2.0)\n",
            "Requirement already satisfied: packaging>=21.3 in /usr/local/lib/python3.10/dist-packages (from statsmodels>=0.9.0->category_encoders) (23.2)\n",
            "Requirement already satisfied: feature_engine in /usr/local/lib/python3.10/dist-packages (1.6.2)\n",
            "Requirement already satisfied: numpy>=1.18.2 in /usr/local/lib/python3.10/dist-packages (from feature_engine) (1.23.5)\n",
            "Requirement already satisfied: pandas>=1.0.3 in /usr/local/lib/python3.10/dist-packages (from feature_engine) (1.5.3)\n",
            "Requirement already satisfied: scikit-learn>=1.0.0 in /usr/local/lib/python3.10/dist-packages (from feature_engine) (1.2.2)\n",
            "Requirement already satisfied: scipy>=1.4.1 in /usr/local/lib/python3.10/dist-packages (from feature_engine) (1.11.4)\n",
            "Requirement already satisfied: statsmodels>=0.11.1 in /usr/local/lib/python3.10/dist-packages (from feature_engine) (0.14.0)\n",
            "Requirement already satisfied: python-dateutil>=2.8.1 in /usr/local/lib/python3.10/dist-packages (from pandas>=1.0.3->feature_engine) (2.8.2)\n",
            "Requirement already satisfied: pytz>=2020.1 in /usr/local/lib/python3.10/dist-packages (from pandas>=1.0.3->feature_engine) (2023.3.post1)\n",
            "Requirement already satisfied: joblib>=1.1.1 in /usr/local/lib/python3.10/dist-packages (from scikit-learn>=1.0.0->feature_engine) (1.3.2)\n",
            "Requirement already satisfied: threadpoolctl>=2.0.0 in /usr/local/lib/python3.10/dist-packages (from scikit-learn>=1.0.0->feature_engine) (3.2.0)\n",
            "Requirement already satisfied: patsy>=0.5.2 in /usr/local/lib/python3.10/dist-packages (from statsmodels>=0.11.1->feature_engine) (0.5.3)\n",
            "Requirement already satisfied: packaging>=21.3 in /usr/local/lib/python3.10/dist-packages (from statsmodels>=0.11.1->feature_engine) (23.2)\n",
            "Requirement already satisfied: six in /usr/local/lib/python3.10/dist-packages (from patsy>=0.5.2->statsmodels>=0.11.1->feature_engine) (1.16.0)\n"
          ]
        }
      ]
    },
    {
      "cell_type": "code",
      "source": [
        "from sklearn.ensemble import BaggingRegressor, RandomForestRegressor ,AdaBoostRegressor, GradientBoostingRegressor, VotingRegressor\n",
        "from sklearn.linear_model import LinearRegression, Ridge, Lasso, BayesianRidge, ElasticNet, LassoLars, PassiveAggressiveRegressor\n",
        "from sklearn.svm import SVR, NuSVR\n",
        "from sklearn.neighbors import KNeighborsRegressor, RadiusNeighborsRegressor\n",
        "from sklearn.tree import DecisionTreeRegressor\n",
        "from sklearn.preprocessing import StandardScaler, MinMaxScaler\n",
        "from sklearn.metrics import mean_squared_error, r2_score\n",
        "!pip install catboost\n",
        "from catboost import CatBoostRegressor, metrics, Pool, cv\n",
        "pd.set_option('display.max_columns', None)"
      ],
      "metadata": {
        "execution": {
          "iopub.status.busy": "2022-10-02T01:37:11.354627Z",
          "iopub.execute_input": "2022-10-02T01:37:11.355042Z",
          "iopub.status.idle": "2022-10-02T01:37:11.586402Z",
          "shell.execute_reply.started": "2022-10-02T01:37:11.355010Z",
          "shell.execute_reply": "2022-10-02T01:37:11.585506Z"
        },
        "trusted": true,
        "colab": {
          "base_uri": "https://localhost:8080/"
        },
        "id": "sPH5nFFDzXOK",
        "outputId": "693e69f9-a75c-43ea-beb6-7f30870ef8cd"
      },
      "execution_count": 3,
      "outputs": [
        {
          "output_type": "stream",
          "name": "stdout",
          "text": [
            "Requirement already satisfied: catboost in /usr/local/lib/python3.10/dist-packages (1.2.2)\n",
            "Requirement already satisfied: graphviz in /usr/local/lib/python3.10/dist-packages (from catboost) (0.20.1)\n",
            "Requirement already satisfied: matplotlib in /usr/local/lib/python3.10/dist-packages (from catboost) (3.7.1)\n",
            "Requirement already satisfied: numpy>=1.16.0 in /usr/local/lib/python3.10/dist-packages (from catboost) (1.23.5)\n",
            "Requirement already satisfied: pandas>=0.24 in /usr/local/lib/python3.10/dist-packages (from catboost) (1.5.3)\n",
            "Requirement already satisfied: scipy in /usr/local/lib/python3.10/dist-packages (from catboost) (1.11.4)\n",
            "Requirement already satisfied: plotly in /usr/local/lib/python3.10/dist-packages (from catboost) (5.15.0)\n",
            "Requirement already satisfied: six in /usr/local/lib/python3.10/dist-packages (from catboost) (1.16.0)\n",
            "Requirement already satisfied: python-dateutil>=2.8.1 in /usr/local/lib/python3.10/dist-packages (from pandas>=0.24->catboost) (2.8.2)\n",
            "Requirement already satisfied: pytz>=2020.1 in /usr/local/lib/python3.10/dist-packages (from pandas>=0.24->catboost) (2023.3.post1)\n",
            "Requirement already satisfied: contourpy>=1.0.1 in /usr/local/lib/python3.10/dist-packages (from matplotlib->catboost) (1.2.0)\n",
            "Requirement already satisfied: cycler>=0.10 in /usr/local/lib/python3.10/dist-packages (from matplotlib->catboost) (0.12.1)\n",
            "Requirement already satisfied: fonttools>=4.22.0 in /usr/local/lib/python3.10/dist-packages (from matplotlib->catboost) (4.45.1)\n",
            "Requirement already satisfied: kiwisolver>=1.0.1 in /usr/local/lib/python3.10/dist-packages (from matplotlib->catboost) (1.4.5)\n",
            "Requirement already satisfied: packaging>=20.0 in /usr/local/lib/python3.10/dist-packages (from matplotlib->catboost) (23.2)\n",
            "Requirement already satisfied: pillow>=6.2.0 in /usr/local/lib/python3.10/dist-packages (from matplotlib->catboost) (9.4.0)\n",
            "Requirement already satisfied: pyparsing>=2.3.1 in /usr/local/lib/python3.10/dist-packages (from matplotlib->catboost) (3.1.1)\n",
            "Requirement already satisfied: tenacity>=6.2.0 in /usr/local/lib/python3.10/dist-packages (from plotly->catboost) (8.2.3)\n"
          ]
        }
      ]
    },
    {
      "cell_type": "markdown",
      "source": [
        "## DATA LOADING"
      ],
      "metadata": {
        "id": "C86VHuwpzXOK"
      }
    },
    {
      "cell_type": "code",
      "source": [
        "\n",
        "df = pd.read_csv(\"IsGreenOrder.csv\")\n",
        "train, test = train_test_split(df, test_size=0.2, random_state=42)"
      ],
      "metadata": {
        "id": "z8PvE_JyzgTU"
      },
      "execution_count": 4,
      "outputs": []
    },
    {
      "cell_type": "code",
      "source": [
        "# train = pd.read_csv(\"../input/food-delivery-dataset/train.csv\")\n",
        "# test = pd.read_csv(\"../input/food-delivery-dataset/test.csv\")"
      ],
      "metadata": {
        "execution": {
          "iopub.status.busy": "2022-10-02T01:47:04.594018Z",
          "iopub.execute_input": "2022-10-02T01:47:04.594398Z",
          "iopub.status.idle": "2022-10-02T01:47:04.836609Z",
          "shell.execute_reply.started": "2022-10-02T01:47:04.594366Z",
          "shell.execute_reply": "2022-10-02T01:47:04.835609Z"
        },
        "trusted": true,
        "id": "qxndGrKOzXOL"
      },
      "execution_count": 5,
      "outputs": []
    },
    {
      "cell_type": "markdown",
      "source": [
        "## DATA CLEANING"
      ],
      "metadata": {
        "id": "wVGUPKAszXOL"
      }
    },
    {
      "cell_type": "code",
      "source": [
        "#test=test.replace(\" \",\"\")\n",
        "test=test.replace('NaN', float(np.nan), regex=True)\n",
        "\n",
        "#train=train.replace(\" \",\"\")\n",
        "train=train.replace('NaN', float(np.nan), regex=True)"
      ],
      "metadata": {
        "execution": {
          "iopub.status.busy": "2022-10-02T01:47:07.373567Z",
          "iopub.execute_input": "2022-10-02T01:47:07.373973Z",
          "iopub.status.idle": "2022-10-02T01:47:08.563992Z",
          "shell.execute_reply.started": "2022-10-02T01:47:07.373940Z",
          "shell.execute_reply": "2022-10-02T01:47:08.562756Z"
        },
        "trusted": true,
        "id": "yQzkhRK_zXOM"
      },
      "execution_count": 6,
      "outputs": []
    },
    {
      "cell_type": "code",
      "source": [
        "train['Weatherconditions']=train['Weatherconditions'].str.split(\" \", expand=True)[1]\n",
        "test['Weatherconditions']=test['Weatherconditions'].str.split(\" \", expand=True)[1]\n",
        "\n",
        "train['Time_taken(min)']=train['Time_taken(min)'].str.split(\" \", expand=True)[1]"
      ],
      "metadata": {
        "execution": {
          "iopub.status.busy": "2022-10-02T01:47:11.494119Z",
          "iopub.execute_input": "2022-10-02T01:47:11.494791Z",
          "iopub.status.idle": "2022-10-02T01:47:11.704421Z",
          "shell.execute_reply.started": "2022-10-02T01:47:11.494756Z",
          "shell.execute_reply": "2022-10-02T01:47:11.703090Z"
        },
        "trusted": true,
        "id": "uedToGoIzXOM"
      },
      "execution_count": 7,
      "outputs": []
    },
    {
      "cell_type": "code",
      "source": [
        "num_cols = ['Delivery_person_Age','Delivery_person_Ratings','Restaurant_latitude','Restaurant_longitude',\n",
        "            'Delivery_location_latitude','Delivery_location_longitude','Vehicle_condition',\n",
        "            'multiple_deliveries','Time_taken(min)']\n",
        "for col in num_cols:\n",
        "    train[col]=train[col].astype('float64')\n",
        "\n",
        "for col in num_cols[:-1]:\n",
        "    test[col]=test[col].astype('float64')\n",
        "\n",
        "train['Order_Date']=pd.to_datetime(train['Order_Date'],format=\"%Y-%m-%d\")\n",
        "test['Order_Date']=pd.to_datetime(test['Order_Date'],format=\"%Y-%m-%d\")"
      ],
      "metadata": {
        "execution": {
          "iopub.status.busy": "2022-10-02T01:47:12.814180Z",
          "iopub.execute_input": "2022-10-02T01:47:12.814583Z",
          "iopub.status.idle": "2022-10-02T01:47:12.900171Z",
          "shell.execute_reply.started": "2022-10-02T01:47:12.814551Z",
          "shell.execute_reply": "2022-10-02T01:47:12.898866Z"
        },
        "trusted": true,
        "id": "wKWJ1TvkzXOM"
      },
      "execution_count": 8,
      "outputs": []
    },
    {
      "cell_type": "code",
      "source": [
        "train['Time_Orderd']=pd.to_timedelta(train['Time_Orderd'])\n",
        "train['Time_Order_picked']=pd.to_timedelta(train['Time_Order_picked'])\n",
        "\n",
        "train['Time_Order_picked_formatted']=np.where(train['Time_Order_picked'] < train['Time_Orderd'], train['Order_Date'] + pd.DateOffset(1)+train['Time_Order_picked'], train['Order_Date']+train['Time_Order_picked'])\n",
        "train['Time_Ordered_formatted'] = train['Order_Date']+ train['Time_Orderd']\n",
        "train['order_prepare_time_diff_mins']=((train['Time_Order_picked_formatted']- train['Time_Ordered_formatted']).dt.total_seconds())/60"
      ],
      "metadata": {
        "execution": {
          "iopub.status.busy": "2022-10-02T01:47:14.023442Z",
          "iopub.execute_input": "2022-10-02T01:47:14.024168Z",
          "iopub.status.idle": "2022-10-02T01:47:14.198266Z",
          "shell.execute_reply.started": "2022-10-02T01:47:14.024131Z",
          "shell.execute_reply": "2022-10-02T01:47:14.197226Z"
        },
        "trusted": true,
        "id": "ZHGHVev0zXON"
      },
      "execution_count": 9,
      "outputs": []
    },
    {
      "cell_type": "code",
      "source": [
        "test['Time_Orderd']=pd.to_timedelta(test['Time_Orderd'])\n",
        "test['Time_Order_picked']=pd.to_timedelta(test['Time_Order_picked'])\n",
        "\n",
        "test['Time_Order_picked_formatted']=np.where(test['Time_Order_picked'] < test['Time_Orderd'], test['Order_Date'] + pd.DateOffset(1)+test['Time_Order_picked'], test['Order_Date']+test['Time_Order_picked'])\n",
        "test['Time_Ordered_formatted'] = test['Order_Date']+ test['Time_Orderd']\n",
        "test['order_prepare_time_diff_mins']=((test['Time_Order_picked_formatted']- test['Time_Ordered_formatted']).dt.total_seconds())/60"
      ],
      "metadata": {
        "execution": {
          "iopub.status.busy": "2022-10-02T01:47:15.313883Z",
          "iopub.execute_input": "2022-10-02T01:47:15.314330Z",
          "iopub.status.idle": "2022-10-02T01:47:15.373127Z",
          "shell.execute_reply.started": "2022-10-02T01:47:15.314295Z",
          "shell.execute_reply": "2022-10-02T01:47:15.371559Z"
        },
        "trusted": true,
        "id": "mUiiPiDizXON"
      },
      "execution_count": 10,
      "outputs": []
    },
    {
      "cell_type": "code",
      "source": [
        "cols=['Restaurant_latitude','Restaurant_longitude','Delivery_location_latitude','Delivery_location_longitude']\n",
        "for col in cols:\n",
        "    train[col]= abs(train[col])\n",
        "for col in cols:\n",
        "    test[col]= abs(test[col])"
      ],
      "metadata": {
        "execution": {
          "iopub.status.busy": "2022-10-02T01:47:16.553414Z",
          "iopub.execute_input": "2022-10-02T01:47:16.554112Z",
          "iopub.status.idle": "2022-10-02T01:47:16.564110Z",
          "shell.execute_reply.started": "2022-10-02T01:47:16.554077Z",
          "shell.execute_reply": "2022-10-02T01:47:16.562673Z"
        },
        "trusted": true,
        "id": "Ysfz19OnzXON"
      },
      "execution_count": 11,
      "outputs": []
    },
    {
      "cell_type": "markdown",
      "source": [
        "## Creating new features on the basis of latitude and longitude"
      ],
      "metadata": {
        "id": "KV5xNGbrzXON"
      }
    },
    {
      "cell_type": "code",
      "source": [
        "train['distance_diff_KM']=np.zeros(len(train))\n",
        "restaurant_cordinates_train=train[['Restaurant_latitude','Restaurant_longitude']].to_numpy()\n",
        "delivery_location_cordinates_train=train[['Delivery_location_latitude','Delivery_location_longitude']].to_numpy()\n",
        "\n",
        "for i in range(len(train)):\n",
        "    train['distance_diff_KM'].loc[i]=geodesic(restaurant_cordinates_train[i],delivery_location_cordinates_train[i])\n"
      ],
      "metadata": {
        "execution": {
          "iopub.status.busy": "2022-10-02T01:47:18.493472Z",
          "iopub.execute_input": "2022-10-02T01:47:18.494404Z",
          "iopub.status.idle": "2022-10-02T01:47:51.757425Z",
          "shell.execute_reply.started": "2022-10-02T01:47:18.494360Z",
          "shell.execute_reply": "2022-10-02T01:47:51.756265Z"
        },
        "trusted": true,
        "id": "Pr-I-39MzXOO"
      },
      "execution_count": 12,
      "outputs": []
    },
    {
      "cell_type": "code",
      "source": [
        "test['distance_diff_KM']=np.zeros(len(test))\n",
        "restaurant_cordinates_test=test[['Restaurant_latitude','Restaurant_longitude']].to_numpy()\n",
        "delivery_location_cordinates_test=test[['Delivery_location_latitude','Delivery_location_longitude']].to_numpy()\n",
        "\n",
        "for i in range(len(test)):\n",
        "    test['distance_diff_KM'].loc[i]=geodesic(restaurant_cordinates_test[i],delivery_location_cordinates_test[i])\n"
      ],
      "metadata": {
        "execution": {
          "iopub.status.busy": "2022-10-02T01:47:53.118962Z",
          "iopub.execute_input": "2022-10-02T01:47:53.119383Z",
          "iopub.status.idle": "2022-10-02T01:47:59.322298Z",
          "shell.execute_reply.started": "2022-10-02T01:47:53.119347Z",
          "shell.execute_reply": "2022-10-02T01:47:59.321347Z"
        },
        "trusted": true,
        "id": "Io5Rq8F1zXOO"
      },
      "execution_count": 13,
      "outputs": []
    },
    {
      "cell_type": "code",
      "source": [
        "\n",
        "y=train[\"Time_taken(min)\"]\n",
        "train = train.drop(columns=[\"Time_taken(min)\",'ID'],axis=1)\n",
        "Id= test['ID'].str.strip()\n",
        "test = test.drop(columns=[\"ID\"],axis=1)\n"
      ],
      "metadata": {
        "execution": {
          "iopub.status.busy": "2022-10-02T01:48:00.813972Z",
          "iopub.execute_input": "2022-10-02T01:48:00.814410Z",
          "iopub.status.idle": "2022-10-02T01:48:00.855789Z",
          "shell.execute_reply.started": "2022-10-02T01:48:00.814365Z",
          "shell.execute_reply": "2022-10-02T01:48:00.854734Z"
        },
        "trusted": true,
        "id": "m1qjPL1-zXOO"
      },
      "execution_count": 14,
      "outputs": []
    },
    {
      "cell_type": "code",
      "source": [
        "data=pd.concat([train,test]).reset_index(drop=True)"
      ],
      "metadata": {
        "execution": {
          "iopub.status.busy": "2022-10-02T01:48:01.843969Z",
          "iopub.execute_input": "2022-10-02T01:48:01.845084Z",
          "iopub.status.idle": "2022-10-02T01:48:01.895567Z",
          "shell.execute_reply.started": "2022-10-02T01:48:01.845029Z",
          "shell.execute_reply": "2022-10-02T01:48:01.894124Z"
        },
        "trusted": true,
        "id": "wpssq21qzXOO"
      },
      "execution_count": 15,
      "outputs": []
    },
    {
      "cell_type": "code",
      "source": [
        "data.head()"
      ],
      "metadata": {
        "execution": {
          "iopub.status.busy": "2022-10-02T01:48:02.998544Z",
          "iopub.execute_input": "2022-10-02T01:48:02.999233Z",
          "iopub.status.idle": "2022-10-02T01:48:03.028514Z",
          "shell.execute_reply.started": "2022-10-02T01:48:02.999193Z",
          "shell.execute_reply": "2022-10-02T01:48:03.027552Z"
        },
        "trusted": true,
        "colab": {
          "base_uri": "https://localhost:8080/",
          "height": 590
        },
        "id": "9AFCgIJXzXOO",
        "outputId": "350f5247-bb27-40c7-d5c9-0fe2e8b86b08"
      },
      "execution_count": 16,
      "outputs": [
        {
          "output_type": "execute_result",
          "data": {
            "text/plain": [
              "   Unnamed: 0 Delivery_person_ID  Delivery_person_Age  \\\n",
              "0       26245     MUMRES14DEL02                  28.0   \n",
              "1       15546     HYDRES17DEL01                  23.0   \n",
              "2         130     SURRES03DEL01                  29.0   \n",
              "3       36780    INDORES09DEL02                  27.0   \n",
              "4       38179    LUDHRES18DEL03                  20.0   \n",
              "\n",
              "   Delivery_person_Ratings  Restaurant_latitude  Restaurant_longitude  \\\n",
              "0                      4.9            19.181300             72.836191   \n",
              "1                      4.2            17.451976             78.385883   \n",
              "2                      4.6            21.186884             72.793616   \n",
              "3                      4.1            22.725835             75.887648   \n",
              "4                      4.7            30.890184             75.829615   \n",
              "\n",
              "   Delivery_location_latitude  Delivery_location_longitude Order_Date  \\\n",
              "0                   19.311300                    72.966191 2022-03-20   \n",
              "1                   17.561976                    78.495883 2022-03-16   \n",
              "2                   21.226884                    72.833616 2022-03-03   \n",
              "3                   22.855835                    76.017648 2022-03-10   \n",
              "4                   30.920184                    75.859615 2022-02-13   \n",
              "\n",
              "      Time_Orderd Time_Order_picked Weatherconditions Road_traffic_density  \\\n",
              "0 0 days 23:45:00   0 days 23:55:00        Sandstorms                 Low    \n",
              "1 0 days 19:30:00   0 days 19:35:00               Fog                 Jam    \n",
              "2 0 days 14:50:00   0 days 15:00:00        Sandstorms                High    \n",
              "3 0 days 20:40:00   0 days 20:55:00            Stormy                 Jam    \n",
              "4 0 days 18:00:00   0 days 18:05:00             Sunny              Medium    \n",
              "\n",
              "   Vehicle_condition Type_of_order Type_of_vehicle  multiple_deliveries  \\\n",
              "0                1.0        Snack         scooter                   1.0   \n",
              "1                1.0        Snack      motorcycle                   1.0   \n",
              "2                1.0        Snack         scooter                   0.0   \n",
              "3                0.0         Meal      motorcycle                   1.0   \n",
              "4                2.0       Buffet      motorcycle                   0.0   \n",
              "\n",
              "  Festival            City  Distance_km  \\\n",
              "0      No   Metropolitian       41.1282   \n",
              "1      No   Metropolitian       27.8650   \n",
              "2      No           Urban        7.4029   \n",
              "3      No           Urban       26.2906   \n",
              "4      No           Urban        6.0020   \n",
              "\n",
              "                                               Route  Time_Orderd_in_minutes  \\\n",
              "0  [[19.1813, 72.83617], [19.18112, 72.83621], [1...                    1425   \n",
              "1  [[17.45198, 78.38588], [17.45242, 78.38592], [...                    1170   \n",
              "2  [[21.1868, 72.79377], [21.18713, 72.79399], [2...                     890   \n",
              "3  [[22.72586, 75.88757], [22.72565, 75.88749], [...                    1240   \n",
              "4  [[30.89024, 75.82966], [30.89037, 75.82946], [...                    1080   \n",
              "\n",
              "   location_cluster  date_category  IsGreenOrder Time_Order_picked_formatted  \\\n",
              "0                 3             27             1         2022-03-20 23:55:00   \n",
              "1                 9             23             0         2022-03-16 19:35:00   \n",
              "2                11             10             1         2022-03-03 15:00:00   \n",
              "3                 1             17             0         2022-03-10 20:55:00   \n",
              "4                13              2             0         2022-02-13 18:05:00   \n",
              "\n",
              "  Time_Ordered_formatted  order_prepare_time_diff_mins       distance_diff_KM  \\\n",
              "0    2022-03-20 23:45:00                          10.0  11.737833961110447 km   \n",
              "1    2022-03-16 19:30:00                           5.0  3.0205869101906617 km   \n",
              "2    2022-03-03 14:50:00                          10.0   6.196979616064036 km   \n",
              "3    2022-03-10 20:40:00                          15.0                    0.0   \n",
              "4    2022-02-13 18:00:00                           5.0                    0.0   \n",
              "\n",
              "  Time_taken(min)  \n",
              "0             NaN  \n",
              "1             NaN  \n",
              "2             NaN  \n",
              "3             NaN  \n",
              "4             NaN  "
            ],
            "text/html": [
              "\n",
              "  <div id=\"df-978d7178-4bad-435b-9277-7befd9d8e2db\" class=\"colab-df-container\">\n",
              "    <div>\n",
              "<style scoped>\n",
              "    .dataframe tbody tr th:only-of-type {\n",
              "        vertical-align: middle;\n",
              "    }\n",
              "\n",
              "    .dataframe tbody tr th {\n",
              "        vertical-align: top;\n",
              "    }\n",
              "\n",
              "    .dataframe thead th {\n",
              "        text-align: right;\n",
              "    }\n",
              "</style>\n",
              "<table border=\"1\" class=\"dataframe\">\n",
              "  <thead>\n",
              "    <tr style=\"text-align: right;\">\n",
              "      <th></th>\n",
              "      <th>Unnamed: 0</th>\n",
              "      <th>Delivery_person_ID</th>\n",
              "      <th>Delivery_person_Age</th>\n",
              "      <th>Delivery_person_Ratings</th>\n",
              "      <th>Restaurant_latitude</th>\n",
              "      <th>Restaurant_longitude</th>\n",
              "      <th>Delivery_location_latitude</th>\n",
              "      <th>Delivery_location_longitude</th>\n",
              "      <th>Order_Date</th>\n",
              "      <th>Time_Orderd</th>\n",
              "      <th>Time_Order_picked</th>\n",
              "      <th>Weatherconditions</th>\n",
              "      <th>Road_traffic_density</th>\n",
              "      <th>Vehicle_condition</th>\n",
              "      <th>Type_of_order</th>\n",
              "      <th>Type_of_vehicle</th>\n",
              "      <th>multiple_deliveries</th>\n",
              "      <th>Festival</th>\n",
              "      <th>City</th>\n",
              "      <th>Distance_km</th>\n",
              "      <th>Route</th>\n",
              "      <th>Time_Orderd_in_minutes</th>\n",
              "      <th>location_cluster</th>\n",
              "      <th>date_category</th>\n",
              "      <th>IsGreenOrder</th>\n",
              "      <th>Time_Order_picked_formatted</th>\n",
              "      <th>Time_Ordered_formatted</th>\n",
              "      <th>order_prepare_time_diff_mins</th>\n",
              "      <th>distance_diff_KM</th>\n",
              "      <th>Time_taken(min)</th>\n",
              "    </tr>\n",
              "  </thead>\n",
              "  <tbody>\n",
              "    <tr>\n",
              "      <th>0</th>\n",
              "      <td>26245</td>\n",
              "      <td>MUMRES14DEL02</td>\n",
              "      <td>28.0</td>\n",
              "      <td>4.9</td>\n",
              "      <td>19.181300</td>\n",
              "      <td>72.836191</td>\n",
              "      <td>19.311300</td>\n",
              "      <td>72.966191</td>\n",
              "      <td>2022-03-20</td>\n",
              "      <td>0 days 23:45:00</td>\n",
              "      <td>0 days 23:55:00</td>\n",
              "      <td>Sandstorms</td>\n",
              "      <td>Low</td>\n",
              "      <td>1.0</td>\n",
              "      <td>Snack</td>\n",
              "      <td>scooter</td>\n",
              "      <td>1.0</td>\n",
              "      <td>No</td>\n",
              "      <td>Metropolitian</td>\n",
              "      <td>41.1282</td>\n",
              "      <td>[[19.1813, 72.83617], [19.18112, 72.83621], [1...</td>\n",
              "      <td>1425</td>\n",
              "      <td>3</td>\n",
              "      <td>27</td>\n",
              "      <td>1</td>\n",
              "      <td>2022-03-20 23:55:00</td>\n",
              "      <td>2022-03-20 23:45:00</td>\n",
              "      <td>10.0</td>\n",
              "      <td>11.737833961110447 km</td>\n",
              "      <td>NaN</td>\n",
              "    </tr>\n",
              "    <tr>\n",
              "      <th>1</th>\n",
              "      <td>15546</td>\n",
              "      <td>HYDRES17DEL01</td>\n",
              "      <td>23.0</td>\n",
              "      <td>4.2</td>\n",
              "      <td>17.451976</td>\n",
              "      <td>78.385883</td>\n",
              "      <td>17.561976</td>\n",
              "      <td>78.495883</td>\n",
              "      <td>2022-03-16</td>\n",
              "      <td>0 days 19:30:00</td>\n",
              "      <td>0 days 19:35:00</td>\n",
              "      <td>Fog</td>\n",
              "      <td>Jam</td>\n",
              "      <td>1.0</td>\n",
              "      <td>Snack</td>\n",
              "      <td>motorcycle</td>\n",
              "      <td>1.0</td>\n",
              "      <td>No</td>\n",
              "      <td>Metropolitian</td>\n",
              "      <td>27.8650</td>\n",
              "      <td>[[17.45198, 78.38588], [17.45242, 78.38592], [...</td>\n",
              "      <td>1170</td>\n",
              "      <td>9</td>\n",
              "      <td>23</td>\n",
              "      <td>0</td>\n",
              "      <td>2022-03-16 19:35:00</td>\n",
              "      <td>2022-03-16 19:30:00</td>\n",
              "      <td>5.0</td>\n",
              "      <td>3.0205869101906617 km</td>\n",
              "      <td>NaN</td>\n",
              "    </tr>\n",
              "    <tr>\n",
              "      <th>2</th>\n",
              "      <td>130</td>\n",
              "      <td>SURRES03DEL01</td>\n",
              "      <td>29.0</td>\n",
              "      <td>4.6</td>\n",
              "      <td>21.186884</td>\n",
              "      <td>72.793616</td>\n",
              "      <td>21.226884</td>\n",
              "      <td>72.833616</td>\n",
              "      <td>2022-03-03</td>\n",
              "      <td>0 days 14:50:00</td>\n",
              "      <td>0 days 15:00:00</td>\n",
              "      <td>Sandstorms</td>\n",
              "      <td>High</td>\n",
              "      <td>1.0</td>\n",
              "      <td>Snack</td>\n",
              "      <td>scooter</td>\n",
              "      <td>0.0</td>\n",
              "      <td>No</td>\n",
              "      <td>Urban</td>\n",
              "      <td>7.4029</td>\n",
              "      <td>[[21.1868, 72.79377], [21.18713, 72.79399], [2...</td>\n",
              "      <td>890</td>\n",
              "      <td>11</td>\n",
              "      <td>10</td>\n",
              "      <td>1</td>\n",
              "      <td>2022-03-03 15:00:00</td>\n",
              "      <td>2022-03-03 14:50:00</td>\n",
              "      <td>10.0</td>\n",
              "      <td>6.196979616064036 km</td>\n",
              "      <td>NaN</td>\n",
              "    </tr>\n",
              "    <tr>\n",
              "      <th>3</th>\n",
              "      <td>36780</td>\n",
              "      <td>INDORES09DEL02</td>\n",
              "      <td>27.0</td>\n",
              "      <td>4.1</td>\n",
              "      <td>22.725835</td>\n",
              "      <td>75.887648</td>\n",
              "      <td>22.855835</td>\n",
              "      <td>76.017648</td>\n",
              "      <td>2022-03-10</td>\n",
              "      <td>0 days 20:40:00</td>\n",
              "      <td>0 days 20:55:00</td>\n",
              "      <td>Stormy</td>\n",
              "      <td>Jam</td>\n",
              "      <td>0.0</td>\n",
              "      <td>Meal</td>\n",
              "      <td>motorcycle</td>\n",
              "      <td>1.0</td>\n",
              "      <td>No</td>\n",
              "      <td>Urban</td>\n",
              "      <td>26.2906</td>\n",
              "      <td>[[22.72586, 75.88757], [22.72565, 75.88749], [...</td>\n",
              "      <td>1240</td>\n",
              "      <td>1</td>\n",
              "      <td>17</td>\n",
              "      <td>0</td>\n",
              "      <td>2022-03-10 20:55:00</td>\n",
              "      <td>2022-03-10 20:40:00</td>\n",
              "      <td>15.0</td>\n",
              "      <td>0.0</td>\n",
              "      <td>NaN</td>\n",
              "    </tr>\n",
              "    <tr>\n",
              "      <th>4</th>\n",
              "      <td>38179</td>\n",
              "      <td>LUDHRES18DEL03</td>\n",
              "      <td>20.0</td>\n",
              "      <td>4.7</td>\n",
              "      <td>30.890184</td>\n",
              "      <td>75.829615</td>\n",
              "      <td>30.920184</td>\n",
              "      <td>75.859615</td>\n",
              "      <td>2022-02-13</td>\n",
              "      <td>0 days 18:00:00</td>\n",
              "      <td>0 days 18:05:00</td>\n",
              "      <td>Sunny</td>\n",
              "      <td>Medium</td>\n",
              "      <td>2.0</td>\n",
              "      <td>Buffet</td>\n",
              "      <td>motorcycle</td>\n",
              "      <td>0.0</td>\n",
              "      <td>No</td>\n",
              "      <td>Urban</td>\n",
              "      <td>6.0020</td>\n",
              "      <td>[[30.89024, 75.82966], [30.89037, 75.82946], [...</td>\n",
              "      <td>1080</td>\n",
              "      <td>13</td>\n",
              "      <td>2</td>\n",
              "      <td>0</td>\n",
              "      <td>2022-02-13 18:05:00</td>\n",
              "      <td>2022-02-13 18:00:00</td>\n",
              "      <td>5.0</td>\n",
              "      <td>0.0</td>\n",
              "      <td>NaN</td>\n",
              "    </tr>\n",
              "  </tbody>\n",
              "</table>\n",
              "</div>\n",
              "    <div class=\"colab-df-buttons\">\n",
              "\n",
              "  <div class=\"colab-df-container\">\n",
              "    <button class=\"colab-df-convert\" onclick=\"convertToInteractive('df-978d7178-4bad-435b-9277-7befd9d8e2db')\"\n",
              "            title=\"Convert this dataframe to an interactive table.\"\n",
              "            style=\"display:none;\">\n",
              "\n",
              "  <svg xmlns=\"http://www.w3.org/2000/svg\" height=\"24px\" viewBox=\"0 -960 960 960\">\n",
              "    <path d=\"M120-120v-720h720v720H120Zm60-500h600v-160H180v160Zm220 220h160v-160H400v160Zm0 220h160v-160H400v160ZM180-400h160v-160H180v160Zm440 0h160v-160H620v160ZM180-180h160v-160H180v160Zm440 0h160v-160H620v160Z\"/>\n",
              "  </svg>\n",
              "    </button>\n",
              "\n",
              "  <style>\n",
              "    .colab-df-container {\n",
              "      display:flex;\n",
              "      gap: 12px;\n",
              "    }\n",
              "\n",
              "    .colab-df-convert {\n",
              "      background-color: #E8F0FE;\n",
              "      border: none;\n",
              "      border-radius: 50%;\n",
              "      cursor: pointer;\n",
              "      display: none;\n",
              "      fill: #1967D2;\n",
              "      height: 32px;\n",
              "      padding: 0 0 0 0;\n",
              "      width: 32px;\n",
              "    }\n",
              "\n",
              "    .colab-df-convert:hover {\n",
              "      background-color: #E2EBFA;\n",
              "      box-shadow: 0px 1px 2px rgba(60, 64, 67, 0.3), 0px 1px 3px 1px rgba(60, 64, 67, 0.15);\n",
              "      fill: #174EA6;\n",
              "    }\n",
              "\n",
              "    .colab-df-buttons div {\n",
              "      margin-bottom: 4px;\n",
              "    }\n",
              "\n",
              "    [theme=dark] .colab-df-convert {\n",
              "      background-color: #3B4455;\n",
              "      fill: #D2E3FC;\n",
              "    }\n",
              "\n",
              "    [theme=dark] .colab-df-convert:hover {\n",
              "      background-color: #434B5C;\n",
              "      box-shadow: 0px 1px 3px 1px rgba(0, 0, 0, 0.15);\n",
              "      filter: drop-shadow(0px 1px 2px rgba(0, 0, 0, 0.3));\n",
              "      fill: #FFFFFF;\n",
              "    }\n",
              "  </style>\n",
              "\n",
              "    <script>\n",
              "      const buttonEl =\n",
              "        document.querySelector('#df-978d7178-4bad-435b-9277-7befd9d8e2db button.colab-df-convert');\n",
              "      buttonEl.style.display =\n",
              "        google.colab.kernel.accessAllowed ? 'block' : 'none';\n",
              "\n",
              "      async function convertToInteractive(key) {\n",
              "        const element = document.querySelector('#df-978d7178-4bad-435b-9277-7befd9d8e2db');\n",
              "        const dataTable =\n",
              "          await google.colab.kernel.invokeFunction('convertToInteractive',\n",
              "                                                    [key], {});\n",
              "        if (!dataTable) return;\n",
              "\n",
              "        const docLinkHtml = 'Like what you see? Visit the ' +\n",
              "          '<a target=\"_blank\" href=https://colab.research.google.com/notebooks/data_table.ipynb>data table notebook</a>'\n",
              "          + ' to learn more about interactive tables.';\n",
              "        element.innerHTML = '';\n",
              "        dataTable['output_type'] = 'display_data';\n",
              "        await google.colab.output.renderOutput(dataTable, element);\n",
              "        const docLink = document.createElement('div');\n",
              "        docLink.innerHTML = docLinkHtml;\n",
              "        element.appendChild(docLink);\n",
              "      }\n",
              "    </script>\n",
              "  </div>\n",
              "\n",
              "\n",
              "<div id=\"df-cd57eef9-3ce0-4dea-8198-7d0a3f5c2426\">\n",
              "  <button class=\"colab-df-quickchart\" onclick=\"quickchart('df-cd57eef9-3ce0-4dea-8198-7d0a3f5c2426')\"\n",
              "            title=\"Suggest charts\"\n",
              "            style=\"display:none;\">\n",
              "\n",
              "<svg xmlns=\"http://www.w3.org/2000/svg\" height=\"24px\"viewBox=\"0 0 24 24\"\n",
              "     width=\"24px\">\n",
              "    <g>\n",
              "        <path d=\"M19 3H5c-1.1 0-2 .9-2 2v14c0 1.1.9 2 2 2h14c1.1 0 2-.9 2-2V5c0-1.1-.9-2-2-2zM9 17H7v-7h2v7zm4 0h-2V7h2v10zm4 0h-2v-4h2v4z\"/>\n",
              "    </g>\n",
              "</svg>\n",
              "  </button>\n",
              "\n",
              "<style>\n",
              "  .colab-df-quickchart {\n",
              "      --bg-color: #E8F0FE;\n",
              "      --fill-color: #1967D2;\n",
              "      --hover-bg-color: #E2EBFA;\n",
              "      --hover-fill-color: #174EA6;\n",
              "      --disabled-fill-color: #AAA;\n",
              "      --disabled-bg-color: #DDD;\n",
              "  }\n",
              "\n",
              "  [theme=dark] .colab-df-quickchart {\n",
              "      --bg-color: #3B4455;\n",
              "      --fill-color: #D2E3FC;\n",
              "      --hover-bg-color: #434B5C;\n",
              "      --hover-fill-color: #FFFFFF;\n",
              "      --disabled-bg-color: #3B4455;\n",
              "      --disabled-fill-color: #666;\n",
              "  }\n",
              "\n",
              "  .colab-df-quickchart {\n",
              "    background-color: var(--bg-color);\n",
              "    border: none;\n",
              "    border-radius: 50%;\n",
              "    cursor: pointer;\n",
              "    display: none;\n",
              "    fill: var(--fill-color);\n",
              "    height: 32px;\n",
              "    padding: 0;\n",
              "    width: 32px;\n",
              "  }\n",
              "\n",
              "  .colab-df-quickchart:hover {\n",
              "    background-color: var(--hover-bg-color);\n",
              "    box-shadow: 0 1px 2px rgba(60, 64, 67, 0.3), 0 1px 3px 1px rgba(60, 64, 67, 0.15);\n",
              "    fill: var(--button-hover-fill-color);\n",
              "  }\n",
              "\n",
              "  .colab-df-quickchart-complete:disabled,\n",
              "  .colab-df-quickchart-complete:disabled:hover {\n",
              "    background-color: var(--disabled-bg-color);\n",
              "    fill: var(--disabled-fill-color);\n",
              "    box-shadow: none;\n",
              "  }\n",
              "\n",
              "  .colab-df-spinner {\n",
              "    border: 2px solid var(--fill-color);\n",
              "    border-color: transparent;\n",
              "    border-bottom-color: var(--fill-color);\n",
              "    animation:\n",
              "      spin 1s steps(1) infinite;\n",
              "  }\n",
              "\n",
              "  @keyframes spin {\n",
              "    0% {\n",
              "      border-color: transparent;\n",
              "      border-bottom-color: var(--fill-color);\n",
              "      border-left-color: var(--fill-color);\n",
              "    }\n",
              "    20% {\n",
              "      border-color: transparent;\n",
              "      border-left-color: var(--fill-color);\n",
              "      border-top-color: var(--fill-color);\n",
              "    }\n",
              "    30% {\n",
              "      border-color: transparent;\n",
              "      border-left-color: var(--fill-color);\n",
              "      border-top-color: var(--fill-color);\n",
              "      border-right-color: var(--fill-color);\n",
              "    }\n",
              "    40% {\n",
              "      border-color: transparent;\n",
              "      border-right-color: var(--fill-color);\n",
              "      border-top-color: var(--fill-color);\n",
              "    }\n",
              "    60% {\n",
              "      border-color: transparent;\n",
              "      border-right-color: var(--fill-color);\n",
              "    }\n",
              "    80% {\n",
              "      border-color: transparent;\n",
              "      border-right-color: var(--fill-color);\n",
              "      border-bottom-color: var(--fill-color);\n",
              "    }\n",
              "    90% {\n",
              "      border-color: transparent;\n",
              "      border-bottom-color: var(--fill-color);\n",
              "    }\n",
              "  }\n",
              "</style>\n",
              "\n",
              "  <script>\n",
              "    async function quickchart(key) {\n",
              "      const quickchartButtonEl =\n",
              "        document.querySelector('#' + key + ' button');\n",
              "      quickchartButtonEl.disabled = true;  // To prevent multiple clicks.\n",
              "      quickchartButtonEl.classList.add('colab-df-spinner');\n",
              "      try {\n",
              "        const charts = await google.colab.kernel.invokeFunction(\n",
              "            'suggestCharts', [key], {});\n",
              "      } catch (error) {\n",
              "        console.error('Error during call to suggestCharts:', error);\n",
              "      }\n",
              "      quickchartButtonEl.classList.remove('colab-df-spinner');\n",
              "      quickchartButtonEl.classList.add('colab-df-quickchart-complete');\n",
              "    }\n",
              "    (() => {\n",
              "      let quickchartButtonEl =\n",
              "        document.querySelector('#df-cd57eef9-3ce0-4dea-8198-7d0a3f5c2426 button');\n",
              "      quickchartButtonEl.style.display =\n",
              "        google.colab.kernel.accessAllowed ? 'block' : 'none';\n",
              "    })();\n",
              "  </script>\n",
              "</div>\n",
              "    </div>\n",
              "  </div>\n"
            ]
          },
          "metadata": {},
          "execution_count": 16
        }
      ]
    },
    {
      "cell_type": "code",
      "source": [
        "na_cols=[]\n",
        "for col in data.columns:\n",
        "    if data[col].isna().sum()>0:\n",
        "        na_cols.append(col)\n",
        "\n",
        "data[\"n_missing\"]= data[na_cols].isna().sum(axis=1)\n",
        "data_missing_tag_df = data[na_cols].isna().astype(np.int8)\n",
        "data_missing_tag_df.columns = [f\"{c}_missing\" for c in data_missing_tag_df.columns]\n",
        "\n",
        "data=pd.concat([data, data_missing_tag_df], axis=1)"
      ],
      "metadata": {
        "execution": {
          "iopub.status.busy": "2022-10-02T01:48:03.893490Z",
          "iopub.execute_input": "2022-10-02T01:48:03.894357Z",
          "iopub.status.idle": "2022-10-02T01:48:03.982435Z",
          "shell.execute_reply.started": "2022-10-02T01:48:03.894324Z",
          "shell.execute_reply": "2022-10-02T01:48:03.981281Z"
        },
        "trusted": true,
        "id": "iLJq4nE7zXOO"
      },
      "execution_count": 17,
      "outputs": []
    },
    {
      "cell_type": "markdown",
      "source": [
        "## Creating time based features"
      ],
      "metadata": {
        "id": "T587EGOtzXOO"
      }
    },
    {
      "cell_type": "code",
      "source": [
        "data[\"day\"] = data.Order_Date.dt.day\n",
        "data[\"week\"] = data.Order_Date.dt.isocalendar().week\n",
        "data[\"month\"] = data.Order_Date.dt.month\n",
        "data[\"quarter\"] = data.Order_Date.dt.quarter\n",
        "data[\"year\"] = data.Order_Date.dt.year\n",
        "data[\"hour\"] = data.Time_Orderd.dt.components['hours']\n",
        "data[\"dayofyear\"] = data.Order_Date.dt.dayofyear\n",
        "data['day_of_week'] = data.Order_Date.dt.day_of_week.astype(int)\n",
        "data[\"is_month_start\"] = data.Order_Date.dt.is_month_start.astype(int)\n",
        "data[\"is_month_end\"] = data.Order_Date.dt.is_month_end.astype(int)\n",
        "data[\"is_quarter_start\"] = data.Order_Date.dt.is_quarter_start.astype(int)\n",
        "data[\"is_quarter_end\"] = data.Order_Date.dt.is_quarter_end.astype(int)\n",
        "data[\"is_year_start\"] = data.Order_Date.dt.is_year_start.astype(int)\n",
        "data[\"is_year_end\"] = data.Order_Date.dt.is_year_end.astype(int)\n",
        "data[\"is_leap_year\"] = data.Order_Date.dt.is_leap_year.astype(int)\n",
        "data[\"days_in_month\"] = data.Order_Date.dt.days_in_month\n",
        "data['is_weekend'] = np.where(data['day_of_week'].isin([5,6]),1,0)"
      ],
      "metadata": {
        "execution": {
          "iopub.status.busy": "2022-10-02T01:48:05.898775Z",
          "iopub.execute_input": "2022-10-02T01:48:05.899207Z",
          "iopub.status.idle": "2022-10-02T01:48:06.987440Z",
          "shell.execute_reply.started": "2022-10-02T01:48:05.899170Z",
          "shell.execute_reply": "2022-10-02T01:48:06.986324Z"
        },
        "trusted": true,
        "id": "zsNs_qDUzXOP"
      },
      "execution_count": 18,
      "outputs": []
    },
    {
      "cell_type": "code",
      "source": [
        "data['distance_diff_KM']=data['distance_diff_KM'].astype(\"str\").str.extract('(\\d+)')\n",
        "data['distance_diff_KM']=data['distance_diff_KM'].astype(\"int64\")"
      ],
      "metadata": {
        "execution": {
          "iopub.status.busy": "2022-10-02T01:48:06.989377Z",
          "iopub.execute_input": "2022-10-02T01:48:06.990069Z",
          "iopub.status.idle": "2022-10-02T01:48:07.186199Z",
          "shell.execute_reply.started": "2022-10-02T01:48:06.990025Z",
          "shell.execute_reply": "2022-10-02T01:48:07.185130Z"
        },
        "trusted": true,
        "id": "SFfuZDOQzXOP"
      },
      "execution_count": 19,
      "outputs": []
    },
    {
      "cell_type": "code",
      "source": [
        "data=data.drop(columns=['Order_Date','Time_Orderd','Time_Order_picked'],axis=1)\n",
        "data=data.drop(columns=['Time_Order_picked_formatted','Time_Ordered_formatted'])"
      ],
      "metadata": {
        "execution": {
          "iopub.status.busy": "2022-10-02T01:48:08.273504Z",
          "iopub.execute_input": "2022-10-02T01:48:08.273931Z",
          "iopub.status.idle": "2022-10-02T01:48:08.317089Z",
          "shell.execute_reply.started": "2022-10-02T01:48:08.273893Z",
          "shell.execute_reply": "2022-10-02T01:48:08.315943Z"
        },
        "trusted": true,
        "id": "OnXjtZQgzXOP"
      },
      "execution_count": 20,
      "outputs": []
    },
    {
      "cell_type": "code",
      "source": [
        "data['week']=data['week'].astype(\"int64\")"
      ],
      "metadata": {
        "execution": {
          "iopub.status.busy": "2022-10-02T01:48:09.273822Z",
          "iopub.execute_input": "2022-10-02T01:48:09.274302Z",
          "iopub.status.idle": "2022-10-02T01:48:09.280278Z",
          "shell.execute_reply.started": "2022-10-02T01:48:09.274269Z",
          "shell.execute_reply": "2022-10-02T01:48:09.279112Z"
        },
        "trusted": true,
        "id": "mkBePVgWzXOP"
      },
      "execution_count": 21,
      "outputs": []
    },
    {
      "cell_type": "code",
      "source": [
        "for col in data.columns:\n",
        "    if data[col].dtype == 'uint8':\n",
        "        data[col]=data[col].astype(\"int64\")"
      ],
      "metadata": {
        "execution": {
          "iopub.status.busy": "2022-10-02T01:48:10.298943Z",
          "iopub.execute_input": "2022-10-02T01:48:10.299741Z",
          "iopub.status.idle": "2022-10-02T01:48:10.306992Z",
          "shell.execute_reply.started": "2022-10-02T01:48:10.299698Z",
          "shell.execute_reply": "2022-10-02T01:48:10.305738Z"
        },
        "trusted": true,
        "id": "N7yRKo05zXOP"
      },
      "execution_count": 22,
      "outputs": []
    },
    {
      "cell_type": "code",
      "source": [
        "data['city_code']=data['Delivery_person_ID'].str.split(\"RES\", expand=True)[0]"
      ],
      "metadata": {
        "execution": {
          "iopub.status.busy": "2022-10-02T01:48:12.113817Z",
          "iopub.execute_input": "2022-10-02T01:48:12.114253Z",
          "iopub.status.idle": "2022-10-02T01:48:12.225874Z",
          "shell.execute_reply.started": "2022-10-02T01:48:12.114215Z",
          "shell.execute_reply": "2022-10-02T01:48:12.224634Z"
        },
        "trusted": true,
        "id": "XTJBx6lvzXOP"
      },
      "execution_count": 23,
      "outputs": []
    },
    {
      "cell_type": "code",
      "source": [
        "data=data.drop(columns=[\"Delivery_person_ID\" ],  axis=1)"
      ],
      "metadata": {
        "execution": {
          "iopub.status.busy": "2022-10-02T01:48:13.114185Z",
          "iopub.execute_input": "2022-10-02T01:48:13.114581Z",
          "iopub.status.idle": "2022-10-02T01:48:13.144503Z",
          "shell.execute_reply.started": "2022-10-02T01:48:13.114550Z",
          "shell.execute_reply": "2022-10-02T01:48:13.143326Z"
        },
        "trusted": true,
        "id": "ahrTIdXYzXOP"
      },
      "execution_count": 24,
      "outputs": []
    },
    {
      "cell_type": "markdown",
      "source": [
        "## Removing constant and duplicate features"
      ],
      "metadata": {
        "id": "ph53tV8EzXOP"
      }
    },
    {
      "cell_type": "code",
      "source": [
        "pipe = Pipeline([\n",
        "   ('constant', DropConstantFeatures(tol=0.998,missing_values='ignore')),\n",
        "   ('duplicated', DropDuplicateFeatures(missing_values='ignore')),\n",
        "])\n",
        "data=pipe.fit_transform(data)\n"
      ],
      "metadata": {
        "execution": {
          "iopub.status.busy": "2022-10-02T01:48:15.193608Z",
          "iopub.execute_input": "2022-10-02T01:48:15.195024Z",
          "iopub.status.idle": "2022-10-02T01:48:15.391314Z",
          "shell.execute_reply.started": "2022-10-02T01:48:15.194935Z",
          "shell.execute_reply": "2022-10-02T01:48:15.389992Z"
        },
        "trusted": true,
        "id": "sk2yR9qKzXOQ"
      },
      "execution_count": 25,
      "outputs": []
    },
    {
      "cell_type": "markdown",
      "source": [
        "## More Feature Engineering"
      ],
      "metadata": {
        "id": "umOBr8GmzXOQ"
      }
    },
    {
      "cell_type": "code",
      "source": [
        "num_ft = data.select_dtypes(include=['int64', 'float64']).columns.tolist()\n",
        "mf=MathFeatures(['Delivery_person_Age','Delivery_person_Ratings'],missing_values='ignore',func= [\"std\",'mean'])\n",
        "data=mf.fit_transform(data)"
      ],
      "metadata": {
        "execution": {
          "iopub.status.busy": "2022-10-02T01:48:17.333180Z",
          "iopub.execute_input": "2022-10-02T01:48:17.333611Z",
          "iopub.status.idle": "2022-10-02T01:49:11.921223Z",
          "shell.execute_reply.started": "2022-10-02T01:48:17.333575Z",
          "shell.execute_reply": "2022-10-02T01:49:11.920006Z"
        },
        "trusted": true,
        "id": "4byapWwqzXOQ"
      },
      "execution_count": 26,
      "outputs": []
    },
    {
      "cell_type": "code",
      "source": [
        "feat1=data.groupby(\"Delivery_person_Age\")[\"Delivery_person_Ratings\"].transform(\"mean\")\n",
        "data['feat2']=data['Delivery_person_Ratings'] - feat1\n",
        "\n",
        "feat3=data.groupby(\"Delivery_person_Age\")[\"Delivery_person_Ratings\"].transform(\"std\")\n",
        "data['feat4']=data['Delivery_person_Ratings'] - feat3\n",
        "\n",
        "data['feat9']=data.groupby([\"Weatherconditions\",'Road_traffic_density'])[\"Delivery_person_Age\"].transform(\"mean\")\n",
        "#data['feat10']=data['Delivery_person_Age'] - data['feat9']\n",
        "\n",
        "feat11=data.groupby([\"Weatherconditions\",'Road_traffic_density'])[\"Delivery_person_Age\"].transform(\"std\")\n",
        "data['feat12']=data['Delivery_person_Age'] - feat11\n",
        "\n",
        "data['feat13']=data.groupby([\"Weatherconditions\",'Road_traffic_density','City','city_code'])[\"distance_diff_KM\"].transform(\"std\")\n",
        "data['feat14']=data['Delivery_person_Age'] - data['feat13']\n",
        "\n"
      ],
      "metadata": {
        "execution": {
          "iopub.status.busy": "2022-10-02T01:49:13.473968Z",
          "iopub.execute_input": "2022-10-02T01:49:13.474711Z",
          "iopub.status.idle": "2022-10-02T01:49:13.542400Z",
          "shell.execute_reply.started": "2022-10-02T01:49:13.474674Z",
          "shell.execute_reply": "2022-10-02T01:49:13.541309Z"
        },
        "trusted": true,
        "id": "v6AztkyxzXOQ"
      },
      "execution_count": 27,
      "outputs": []
    },
    {
      "cell_type": "code",
      "source": [
        "data.to_csv('/content/drive/My Drive/112 Sesmester/data2/featureS.csv')\n",
        "data.columns\n",
        "columns_to_drop = ['Unnamed: 0', 'Time_Orderd_in_minutes','Time_taken(min)',\n",
        "                   'Route', 'Time_taken(min)','City','multiple_deliveries','Type_of_vehicle']\n",
        "data = data.drop(columns_to_drop, axis=1)\n",
        "data.columns\n",
        "# data['IsGreenOrder']"
      ],
      "metadata": {
        "colab": {
          "base_uri": "https://localhost:8080/"
        },
        "id": "X7uYkXx658Hq",
        "outputId": "7dce5d7d-f3bb-4d20-f306-61c628d82ec3"
      },
      "execution_count": 28,
      "outputs": [
        {
          "output_type": "execute_result",
          "data": {
            "text/plain": [
              "Index(['Delivery_person_Age', 'Delivery_person_Ratings', 'Restaurant_latitude',\n",
              "       'Restaurant_longitude', 'Delivery_location_latitude',\n",
              "       'Delivery_location_longitude', 'Weatherconditions',\n",
              "       'Road_traffic_density', 'Vehicle_condition', 'Type_of_order',\n",
              "       'Festival', 'Distance_km', 'location_cluster', 'date_category',\n",
              "       'IsGreenOrder', 'order_prepare_time_diff_mins', 'distance_diff_KM',\n",
              "       'n_missing', 'Delivery_person_Age_missing',\n",
              "       'Delivery_person_Ratings_missing', 'multiple_deliveries_missing',\n",
              "       'Festival_missing', 'City_missing', 'Time_taken(min)_missing', 'day',\n",
              "       'week', 'month', 'quarter', 'hour', 'dayofyear', 'day_of_week',\n",
              "       'is_month_start', 'is_month_end', 'is_quarter_start', 'days_in_month',\n",
              "       'is_weekend', 'city_code',\n",
              "       'std_Delivery_person_Age_Delivery_person_Ratings',\n",
              "       'mean_Delivery_person_Age_Delivery_person_Ratings', 'feat2', 'feat4',\n",
              "       'feat9', 'feat12', 'feat13', 'feat14'],\n",
              "      dtype='object')"
            ]
          },
          "metadata": {},
          "execution_count": 28
        }
      ]
    },
    {
      "cell_type": "code",
      "source": [
        "# @title 填補缺失值\n",
        "# Analyzing the dataset to suggest suitable methods for imputing missing values in each column\n",
        "data=df\n",
        "# Checking for missing values in each column\n",
        "# Analyzing the dataset to suggest suitable methods for imputing missing values in each column\n",
        "\n",
        "# Checking for missing values in each column\n",
        "missing_values = data.isnull().sum()\n",
        "missing_values = missing_values[missing_values > 0]\n",
        "\n",
        "# Checking the data types of columns with missing values\n",
        "data_types = data[missing_values.index].dtypes\n",
        "\n",
        "# Preparing a summary of columns with missing values, their data types, and suggested imputation methods\n",
        "imputation_methods = []\n",
        "\n",
        "for column, missing_count in missing_values.iteritems():\n",
        "    dtype = data_types[column]\n",
        "    if dtype == 'object':\n",
        "        # Suggesting mode imputation for categorical data\n",
        "        method = 'Mode (for categorical data)'\n",
        "    elif dtype in ['int64', 'float64']:\n",
        "        # Suggesting mean or median imputation for numerical data, depending on the distribution\n",
        "        if data[column].skew() < 1 and data[column].skew() > -1:\n",
        "            method = 'Mean (for approximately normal distribution)'\n",
        "        else:\n",
        "            method = 'Median (for skewed distribution)'\n",
        "    else:\n",
        "        method = 'Special consideration required'\n",
        "\n",
        "    imputation_methods.append((column, dtype, missing_count, method))\n",
        "\n",
        "imputation_summary = pd.DataFrame(imputation_methods, columns=['Column', 'Data Type', 'Missing Values', 'Suggested Method'])\n",
        "\n",
        "imputation_summary.sort_values(by='Missing Values', ascending=False)\n",
        "# @title 填補缺失值\n",
        "# Filling missing values for each column based on the suggested methods\n",
        "\n",
        "# Defining functions for different imputation methods\n",
        "def impute_mode(column):\n",
        "    return column.fillna(column.mode()[0])\n",
        "\n",
        "def impute_mean(column):\n",
        "    return column.fillna(column.mean())\n",
        "\n",
        "def impute_median(column):\n",
        "    return column.fillna(column.median())\n",
        "\n",
        "# Applying the imputation methods to each column\n",
        "for column, dtype, _, method in imputation_methods:\n",
        "    if method == 'Mode (for categorical data)':\n",
        "        data[column] = impute_mode(data[column])\n",
        "    elif method == 'Mean (for approximately normal distribution)':\n",
        "        data[column] = impute_mean(data[column])\n",
        "    elif method == 'Median (for skewed distribution)':\n",
        "        data[column] = impute_median(data[column])\n",
        "\n",
        "# Checking if there are any missing values left\n",
        "remaining_missing_values = data.isnull().sum().sum()\n",
        "\n",
        "remaining_missing_values, data.head()\n"
      ],
      "metadata": {
        "colab": {
          "base_uri": "https://localhost:8080/"
        },
        "id": "lzNpEmZ78zRB",
        "outputId": "89f97279-3cf2-4e95-df36-02284f38320c"
      },
      "execution_count": 29,
      "outputs": [
        {
          "output_type": "execute_result",
          "data": {
            "text/plain": [
              "(0,\n",
              "    Unnamed: 0       ID Delivery_person_ID  Delivery_person_Age  \\\n",
              " 0           0  0x4607     INDORES13DEL02                  37.0   \n",
              " 1           1  0xb379     BANGRES18DEL02                  34.0   \n",
              " 2           2  0x5d6d     BANGRES19DEL01                  23.0   \n",
              " 3           3  0x7a6a    COIMBRES13DEL02                  38.0   \n",
              " 4           4  0x70a2     CHENRES12DEL01                  32.0   \n",
              " \n",
              "    Delivery_person_Ratings  Restaurant_latitude  Restaurant_longitude  \\\n",
              " 0                      4.9            22.745049             75.892471   \n",
              " 1                      4.5            12.913041             77.683237   \n",
              " 2                      4.4            12.914264             77.678400   \n",
              " 3                      4.7            11.003669             76.976494   \n",
              " 4                      4.6            12.972793             80.249982   \n",
              " \n",
              "    Delivery_location_latitude  Delivery_location_longitude  Order_Date  \\\n",
              " 0                   22.765049                    75.912471  2022-03-19   \n",
              " 1                   13.043041                    77.813237  2022-03-25   \n",
              " 2                   12.924264                    77.688400  2022-03-19   \n",
              " 3                   11.053669                    77.026494  2022-04-05   \n",
              " 4                   13.012793                    80.289982  2022-03-26   \n",
              " \n",
              "   Time_Orderd Time_Order_picked      Weatherconditions Road_traffic_density  \\\n",
              " 0    11:30:00          11:45:00       conditions Sunny                High    \n",
              " 1    19:45:00          19:50:00      conditions Stormy                 Jam    \n",
              " 2    08:30:00          08:45:00  conditions Sandstorms                 Low    \n",
              " 3    18:00:00          18:10:00       conditions Sunny              Medium    \n",
              " 4    13:30:00          13:45:00      conditions Cloudy                High    \n",
              " \n",
              "    Vehicle_condition Type_of_order Type_of_vehicle  multiple_deliveries  \\\n",
              " 0                  2        Snack      motorcycle                   0.0   \n",
              " 1                  2        Snack         scooter                   1.0   \n",
              " 2                  0       Drinks      motorcycle                   1.0   \n",
              " 3                  0       Buffet      motorcycle                   1.0   \n",
              " 4                  1        Snack         scooter                   1.0   \n",
              " \n",
              "   Festival            City Time_taken(min)  Distance_km  \\\n",
              " 0      No           Urban         (min) 24       4.1606   \n",
              " 1      No   Metropolitian         (min) 33      28.9712   \n",
              " 2      No           Urban         (min) 26       5.1439   \n",
              " 3      No   Metropolitian         (min) 21      13.1756   \n",
              " 4      No   Metropolitian         (min) 30       7.0574   \n",
              " \n",
              "                                                Route  Time_Orderd_in_minutes  \\\n",
              " 0  [[22.74505, 75.89247], [22.74507, 75.89248], [...                     690   \n",
              " 1  [[12.9131, 77.68297], [12.91196, 77.68272], [1...                    1185   \n",
              " 2  [[12.91427, 77.67837], [12.91384, 77.67825], [...                     510   \n",
              " 3  [[11.00363, 76.97597], [11.00486, 76.97588], [...                    1080   \n",
              " 4  [[12.97279, 80.25], [12.97335, 80.25014], [12....                     810   \n",
              " \n",
              "    location_cluster  date_category  IsGreenOrder  \n",
              " 0                 1             26             0  \n",
              " 1                 2             31             0  \n",
              " 2                 2             26             0  \n",
              " 3                10             42             1  \n",
              " 4                 8             32             0  )"
            ]
          },
          "metadata": {},
          "execution_count": 29
        }
      ]
    },
    {
      "cell_type": "code",
      "source": [
        "import numpy as np\n",
        "import xgboost as xgb\n",
        "import lightgbm as lgb\n",
        "from sklearn.metrics import f1_score, confusion_matrix, recall_score, roc_curve, auc\n",
        "from sklearn.linear_model import LogisticRegression\n",
        "from sklearn.tree import DecisionTreeClassifier\n",
        "from sklearn.ensemble import RandomForestClassifier\n",
        "from sklearn.svm import SVC\n",
        "from sklearn.neighbors import KNeighborsClassifier\n",
        "from sklearn.neural_network import MLPClassifier\n",
        "from sklearn.preprocessing import LabelEncoder\n",
        "from sklearn.model_selection import train_test_split\n",
        "import xgboost as xgb\n",
        "from imblearn.over_sampling import RandomOverSampler, SMOTE, ADASYN\n",
        "from imblearn.under_sampling import RandomUnderSampler\n",
        "from tqdm import tqdm\n",
        "from sklearn.metrics import roc_curve, auc\n",
        "import matplotlib.pyplot as plt\n",
        "from sklearn.model_selection import StratifiedKFold\n",
        "# from lightgbm import LGBMRegressor\n",
        "# !pip install catboost\n",
        "# from catboost import CatBoostRegressor\n",
        "\n",
        "def train_and_evaluate(X_train, y_train, X_test, y_test):\n",
        "    models = [\n",
        "        ('XGBoost', xgb.DMatrix(X_train, label=y_train), xgb.DMatrix(X_test, label=y_test), True),\n",
        "        ('LightGBM', lgb.Dataset(X_train, label=y_train), lgb.Dataset(X_test, label=y_test), True),\n",
        "        ('Logistic Regression', LogisticRegression(), None, True),\n",
        "        ('Decision Tree', DecisionTreeClassifier(), None, False),\n",
        "        ('Random Forest', RandomForestClassifier(), None, False),\n",
        "        # ('SVM', SVC(probability=True), None, False),\n",
        "        ('KNN', KNeighborsClassifier(n_neighbors=3), None, False),\n",
        "        # ('Neural Network', MLPClassifier(hidden_layer_sizes=(100,)), None, True)\n",
        "\n",
        "    ]\n",
        "\n",
        "    for name, model, dtest, adjust_threshold in tqdm(models, desc=\"Training and evaluating models\"):\n",
        "        print(f\"\\n模型: {name}\")\n",
        "\n",
        "        print(\"\\n\")\n",
        "        unique_values, counts = np.unique(y_train, return_counts=True)\n",
        "        for value, count in zip(unique_values, counts):\n",
        "          print(f\"y_train值 {value} 出現了 {count} 次\")\n",
        "\n",
        "        unique_values, counts = np.unique(y_test, return_counts=True)\n",
        "        for value, count in zip(unique_values, counts):\n",
        "          print(f\"y_test值 {value} 出現了 {count} 次\")\n",
        "        # print(X_train.describe())\n",
        "\n",
        "        # 对于 XGBoost 和 LightGBM\n",
        "        if name in ['XGBoost', 'LightGBM']:\n",
        "            params = {'max_depth': 3, 'eta': 0.3, 'objective': 'binary:logistic'} if name == 'XGBoost' else {'objective': 'binary'}\n",
        "            num_round = 100\n",
        "            bst = xgb.train(params, model, num_round) if name == 'XGBoost' else lgb.train(params, model, num_boost_round=num_round)\n",
        "            y_test_pred = bst.predict(dtest.data if name == 'LightGBM' else dtest)\n",
        "\n",
        "        # 对于其他模型\n",
        "        else:\n",
        "            model.fit(X_train, y_train)\n",
        "            y_test_pred = model.predict_proba(X_test)[:,1] if adjust_threshold else model.predict(X_test)\n",
        "\n",
        "        # 评估性能\n",
        "        if adjust_threshold:\n",
        "            f1, conf_matrix, sensitivity, g_mean, roc_auc = evaluate_model_with_threshold(y_test, y_test_pred)\n",
        "        else:\n",
        "            f1, conf_matrix, sensitivity, g_mean, roc_auc = evaluate_model_without_threshold(y_test, y_test_pred)\n",
        "\n",
        "        print(f\"F1 分数: {f1}, 混淆矩阵: {conf_matrix}, Sensitivity: {sensitivity}, G-mean: {g_mean}, ROC-AUC: {roc_auc}\")\n",
        "        tn, fp, fn, tp = conf_matrix.ravel()\n",
        "        print(f\"  混淆矩阵: \\n    TN: {tn}, FP: {fp}\\n    FN: {fn}, TP: {tp}\")\n",
        "\n",
        "\n",
        "def evaluate_model_with_threshold(y_test, y_pred):\n",
        "    # 确定最佳阈值\n",
        "    best_threshold = 0.5\n",
        "    best_f1 = 0\n",
        "    for threshold in np.linspace(0, 1, 100):\n",
        "        y_pred_binary = np.where(y_pred > threshold, 1, 0)\n",
        "        f1 = f1_score(y_test, y_pred_binary)\n",
        "        if f1 > best_f1:\n",
        "            best_f1 = f1\n",
        "            best_threshold = threshold\n",
        "\n",
        "    y_pred_binary = np.where(y_pred > best_threshold, 1, 0)\n",
        "    return calculate_metrics(y_test, y_pred_binary)\n",
        "\n",
        "def evaluate_model_without_threshold(y_test, y_pred):\n",
        "    return calculate_metrics(y_test, y_pred)\n",
        "\n",
        "def calculate_metrics(y_test, y_pred_binary):\n",
        "    f1 = f1_score(y_test, y_pred_binary)\n",
        "    conf_matrix = confusion_matrix(y_test, y_pred_binary)\n",
        "    sensitivity = recall_score(y_test, y_pred_binary)\n",
        "    tn, fp, fn, tp = conf_matrix.ravel()\n",
        "    specificity = tn / (tn + fp)\n",
        "    g_mean = np.sqrt(sensitivity * specificity)\n",
        "    fpr, tpr, thresholds = roc_curve(y_test, y_pred_binary)\n",
        "    roc_auc = auc(fpr, tpr)\n",
        "\n",
        "    return f1, conf_matrix, sensitivity, g_mean, roc_auc\n",
        "\n",
        "\n",
        "\n",
        "# 数据预处理\n",
        "X = data.drop('IsGreenOrder', axis=1)\n",
        "y = data['IsGreenOrder']\n",
        "\n",
        "X_encoded = pd.get_dummies(X)\n",
        "y_encoded = LabelEncoder().fit_transform(y)\n",
        "\n",
        "# 分割数据集为训练集和测试集\n",
        "X_train, X_test, y_train, y_test = train_test_split(X_encoded, y_encoded, test_size=0.3, random_state=42)\n",
        "# len(X_train), len(X_test), len(y_train), len(y_test)\n",
        "\n",
        "# 定义不同的数据扩充方法\n",
        "methods = [\n",
        "    ('原始数据', X_train, y_train),\n",
        "    # ('随机过采样', *RandomOverSampler(random_state=42).fit_resample(X_train, y_train)),\n",
        "    # ('随机欠采样', *RandomUnderSampler(random_state=42).fit_resample(X_train, y_train)),\n",
        "    # ('SMOTE', *SMOTE(random_state=42).fit_resample(X_train, y_train)),\n",
        "    # ('ADASYN', *ADASYN(random_state=42).fit_resample(X_train, y_train))\n",
        "    # 更多方法...\n",
        "]\n",
        "\n",
        "# 存储结果的字典\n",
        "results = {}\n",
        "\n",
        "# 进行模型训练和评估的循环\n",
        "for method_name, X_augmented, y_augmented in tqdm(methods, desc=\"Training Models\"):\n",
        "    train_and_evaluate(X_augmented, y_augmented, X_test, y_test)\n"
      ],
      "metadata": {
        "colab": {
          "base_uri": "https://localhost:8080/"
        },
        "id": "YmUz-1B_8V65",
        "outputId": "776310b7-3ed5-45c4-b1d6-6eae37310136"
      },
      "execution_count": null,
      "outputs": [
        {
          "output_type": "stream",
          "name": "stderr",
          "text": [
            "\rTraining Models:   0%|          | 0/1 [00:00<?, ?it/s]"
          ]
        }
      ]
    },
    {
      "cell_type": "markdown",
      "source": [
        "## Target encoding"
      ],
      "metadata": {
        "id": "jojKaTtDzXOQ"
      }
    },
    {
      "cell_type": "code",
      "source": [
        "encoder = MEstimateEncoder(m=1)\n",
        "\n",
        "train= data[:len(train)]\n",
        "test=data[len(train):]\n",
        "\n",
        "train =  encoder.fit_transform(train,y)\n",
        "test= encoder.transform(test)\n"
      ],
      "metadata": {
        "execution": {
          "iopub.status.busy": "2022-10-02T01:49:15.473591Z",
          "iopub.execute_input": "2022-10-02T01:49:15.474022Z",
          "iopub.status.idle": "2022-10-02T01:49:16.136457Z",
          "shell.execute_reply.started": "2022-10-02T01:49:15.473984Z",
          "shell.execute_reply": "2022-10-02T01:49:16.135149Z"
        },
        "trusted": true,
        "id": "T6yo17gVzXOQ"
      },
      "execution_count": null,
      "outputs": []
    },
    {
      "cell_type": "code",
      "source": [
        "xgb_model=xgb.XGBRegressor(n_estimators=25,max_depth=7)\n",
        "lgb = LGBMRegressor(num_leaves=85,max_depth=8,learning_rate=0.1)\n",
        "cat= CatBoostRegressor(n_estimators=700,max_depth=8,learning_rate=0.05)"
      ],
      "metadata": {
        "execution": {
          "iopub.status.busy": "2022-10-02T01:49:17.273487Z",
          "iopub.execute_input": "2022-10-02T01:49:17.273914Z",
          "iopub.status.idle": "2022-10-02T01:49:17.280167Z",
          "shell.execute_reply.started": "2022-10-02T01:49:17.273841Z",
          "shell.execute_reply": "2022-10-02T01:49:17.278954Z"
        },
        "trusted": true,
        "id": "WN7aJGCFzXOQ"
      },
      "execution_count": null,
      "outputs": []
    },
    {
      "cell_type": "markdown",
      "source": [
        "## Feature Selection"
      ],
      "metadata": {
        "id": "AJ1Y1KNKzXOQ"
      }
    },
    {
      "cell_type": "code",
      "source": [
        "# from mlxtend.feature_selection import SequentialFeatureSelector as SFS\n",
        "# sfs = SFS(LGBMRegressor(num_leaves=85,max_depth=8,learning_rate=0.1),\n",
        "#            k_features=20,\n",
        "#            forward=True,\n",
        "#            floating=False,\n",
        "#            verbose=2,\n",
        "#            scoring='r2',\n",
        "#            cv=2)\n",
        "\n",
        "# sfs = sfs.fit(train ,y)\n",
        "# selected_feat_= list(sfs.k_feature_names_)\n",
        "\n",
        "# selected_feat_"
      ],
      "metadata": {
        "scrolled": true,
        "execution": {
          "iopub.status.busy": "2022-10-02T01:49:18.933759Z",
          "iopub.execute_input": "2022-10-02T01:49:18.934223Z",
          "iopub.status.idle": "2022-10-02T01:49:18.939622Z",
          "shell.execute_reply.started": "2022-10-02T01:49:18.934187Z",
          "shell.execute_reply": "2022-10-02T01:49:18.938084Z"
        },
        "trusted": true,
        "id": "r6brZkmfzXOR"
      },
      "execution_count": null,
      "outputs": []
    },
    {
      "cell_type": "code",
      "source": [
        "selected_feat_=['Delivery_person_Age',\n",
        " 'Delivery_person_Ratings',\n",
        " 'Weatherconditions',\n",
        " 'Road_traffic_density',\n",
        " 'Vehicle_condition',\n",
        " 'multiple_deliveries',\n",
        " 'Festival',\n",
        " 'City',\n",
        " 'distance_diff_KM',\n",
        " 'n_missing',\n",
        " 'Weatherconditions_missing',\n",
        " 'multiple_deliveries_missing',\n",
        " 'Festival_missing',\n",
        " 'City_missing',\n",
        " 'is_month_end',\n",
        " 'is_quarter_start',\n",
        " 'is_weekend',\n",
        " 'feat2',\n",
        " 'feat9',\n",
        " 'feat12']"
      ],
      "metadata": {
        "execution": {
          "iopub.status.busy": "2022-10-02T01:49:19.613332Z",
          "iopub.execute_input": "2022-10-02T01:49:19.613746Z",
          "iopub.status.idle": "2022-10-02T01:49:19.619494Z",
          "shell.execute_reply.started": "2022-10-02T01:49:19.613714Z",
          "shell.execute_reply": "2022-10-02T01:49:19.618343Z"
        },
        "trusted": true,
        "id": "MMX6Zxj7zXOR"
      },
      "execution_count": null,
      "outputs": []
    },
    {
      "cell_type": "code",
      "source": [
        "imp_feat=selected_feat_[:12]"
      ],
      "metadata": {
        "execution": {
          "iopub.status.busy": "2022-10-02T01:49:20.513448Z",
          "iopub.execute_input": "2022-10-02T01:49:20.514280Z",
          "iopub.status.idle": "2022-10-02T01:49:20.519867Z",
          "shell.execute_reply.started": "2022-10-02T01:49:20.514238Z",
          "shell.execute_reply": "2022-10-02T01:49:20.518634Z"
        },
        "trusted": true,
        "id": "oWFgcDUDzXOV"
      },
      "execution_count": null,
      "outputs": []
    },
    {
      "cell_type": "markdown",
      "source": [
        "## Stacking"
      ],
      "metadata": {
        "id": "uUR9cKaGzXOV"
      }
    },
    {
      "cell_type": "code",
      "source": [
        "\n",
        "#best_1\n",
        "\n",
        "estimators = [\n",
        "     ('xgb_model', xgb_model),\n",
        "     ('lgb', lgb),('cat',cat)]\n",
        "# best\n",
        "reg = StackingRegressor(\n",
        "estimators=estimators,\n",
        " final_estimator=xgb_model)\n",
        "\n",
        "xgb_model.fit(train[imp_feat],y)\n",
        "reg.fit(train,y)\n",
        "lgb.fit(train[imp_feat],y)\n",
        "cat.fit(train[imp_feat],y)\n",
        "\n",
        "reg_pred=reg.predict(test)\n",
        "lgb_pred=lgb.predict(test[imp_feat])\n",
        "cat_pred=cat.predict(test[imp_feat])\n",
        "xgb_pred=xgb_model.predict(test[imp_feat])\n",
        "\n",
        "ensemble=reg_pred*0.2 + lgb_pred*0.45 + cat_pred*0.35  # Using these ratios after lots of experimenting\n",
        "\n",
        "\n"
      ],
      "metadata": {
        "scrolled": true,
        "execution": {
          "iopub.status.busy": "2022-10-02T01:49:22.313804Z",
          "iopub.execute_input": "2022-10-02T01:49:22.314249Z",
          "iopub.status.idle": "2022-10-02T01:50:55.632181Z",
          "shell.execute_reply.started": "2022-10-02T01:49:22.314217Z",
          "shell.execute_reply": "2022-10-02T01:50:55.631221Z"
        },
        "trusted": true,
        "id": "pADEQ_x3zXOW"
      },
      "execution_count": null,
      "outputs": []
    },
    {
      "cell_type": "markdown",
      "source": [
        "## CONCLUSION"
      ],
      "metadata": {
        "id": "RAltKs0bzXOX"
      }
    },
    {
      "cell_type": "markdown",
      "source": [
        "**Finally I encourage my fellow Kagglers to use this data in order to improve their ML skills such as**\n",
        "* create features on the basis of location, use different types of aggreation techinique.\n",
        "* use different techinque to fill na values\n",
        "* try to use different transformations\n",
        "* try different feature selection techniques\n",
        "* try different encoding techinqiue such as ordinal encoding etc.\n",
        "* try different alogirithims"
      ],
      "metadata": {
        "id": "o4zgMEZuzXOX"
      }
    }
  ]
}