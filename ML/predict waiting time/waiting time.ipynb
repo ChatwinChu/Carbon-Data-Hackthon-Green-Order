{
  "nbformat": 4,
  "nbformat_minor": 0,
  "metadata": {
    "colab": {
      "provenance": []
    },
    "kernelspec": {
      "name": "python3",
      "display_name": "Python 3"
    },
    "language_info": {
      "name": "python"
    }
  },
  "cells": [
    {
      "cell_type": "code",
      "execution_count": 1,
      "metadata": {
        "colab": {
          "base_uri": "https://localhost:8080/",
          "height": 70
        },
        "id": "f_MHgKivSUDh",
        "outputId": "65e4fe49-1401-4817-9a07-1532f8819cd7"
      },
      "outputs": [
        {
          "output_type": "stream",
          "name": "stdout",
          "text": [
            "Mounted at /content/drive\n",
            "/bin/bash: line 1: nvidia-smi: command not found\n"
          ]
        },
        {
          "output_type": "execute_result",
          "data": {
            "text/plain": [
              "'/content/drive/My Drive/112 Sesmester/data2'"
            ],
            "application/vnd.google.colaboratory.intrinsic+json": {
              "type": "string"
            }
          },
          "metadata": {},
          "execution_count": 1
        }
      ],
      "source": [
        "# @title 連接google drive\n",
        "from google.colab import drive\n",
        "drive.mount('/content/drive')\n",
        "\n",
        "!nvidia-smi\n",
        "import os\n",
        "os.chdir('/content/drive/My Drive')\n",
        "os.getcwd()\n",
        "os.chdir('/content/drive/My Drive/112 Sesmester/data2')\n",
        "os.getcwd()"
      ]
    },
    {
      "cell_type": "code",
      "source": [
        "import numpy as np\n",
        "import pandas as pd\n",
        "import matplotlib.pyplot as plt\n",
        "import requests\n",
        "from tqdm import tqdm"
      ],
      "metadata": {
        "id": "RxAUvIlL2FIy"
      },
      "execution_count": 2,
      "outputs": []
    },
    {
      "cell_type": "code",
      "source": [
        "\n",
        "df = pd.read_csv(\"merged_df5.csv\")\n",
        "print(df)\n",
        "print(df.info())\n",
        "# df.describe(include=\"all\")\n",
        "print(\"object行:\\n\",df.select_dtypes(include=\"object\").columns)\n",
        "print(\"缺失值:\\n\",df.isnull().sum())\n",
        "print(\"唯一值:\\n\",df[:].nunique())"
      ],
      "metadata": {
        "colab": {
          "base_uri": "https://localhost:8080/"
        },
        "id": "hYXXVCaSSjTR",
        "outputId": "73e914ff-3f7a-43a5-d161-850b6f7f8343"
      },
      "execution_count": 3,
      "outputs": [
        {
          "output_type": "stream",
          "name": "stdout",
          "text": [
            "       Unnamed: 0       ID Delivery_person_ID  Delivery_person_Age  \\\n",
            "0               2  0x1002    COIMBRES07DEL01                  30.0   \n",
            "1               3  0x1005     VADRES010DEL03                  23.0   \n",
            "2               5  0x1006    COIMBRES01DEL01                  32.0   \n",
            "3               7  0x100f     CHENRES09DEL02                  35.0   \n",
            "4              10  0x1010     INDORES20DEL02                  37.0   \n",
            "...           ...      ...                ...                  ...   \n",
            "17740       29073   0xff1      MYSRES19DEL02                  22.0   \n",
            "17741       29074   0xff4      MYSRES04DEL01                  22.0   \n",
            "17742       29075   0xff7      SURRES18DEL01                  30.0   \n",
            "17743       29076   0xff9      VADRES11DEL01                  30.0   \n",
            "17744       29077   0xffa      MYSRES09DEL03                  34.0   \n",
            "\n",
            "       Delivery_person_Ratings  Restaurant_latitude  Restaurant_longitude  \\\n",
            "0                          4.6            10.961850             76.971082   \n",
            "1                          4.4            22.310329             73.169083   \n",
            "2                          4.9            11.016298             76.972076   \n",
            "3                          4.9            13.044694             80.261470   \n",
            "4                          4.6            22.732225             75.874765   \n",
            "...                        ...                  ...                   ...   \n",
            "17740                      4.7            12.334022             76.618203   \n",
            "17741                      4.8            12.308500             76.665808   \n",
            "17742                      4.6            21.149834             72.778666   \n",
            "17743                      4.0            22.308096             73.167753   \n",
            "17744                      4.8            12.323194             76.630583   \n",
            "\n",
            "       Delivery_location_latitude  Delivery_location_longitude Order_Date  \\\n",
            "0                       11.001850                    77.011082  2022/3/13   \n",
            "1                       22.340329                    73.199083   2022/3/5   \n",
            "2                       11.086298                    77.042076  2022/3/23   \n",
            "3                       13.124694                    80.341470   2022/3/8   \n",
            "4                       22.812225                    75.954765   2022/3/6   \n",
            "...                           ...                          ...        ...   \n",
            "17740                   12.384022                    76.668203   2022/3/9   \n",
            "17741                   12.348500                    76.705808   2022/4/5   \n",
            "17742                   21.189834                    72.818666  2022/3/13   \n",
            "17743                   22.318096                    73.177753  2022/3/11   \n",
            "17744                   12.353194                    76.660583   2022/4/3   \n",
            "\n",
            "       ... Delivery_Lat Delivery_Lon Total_Distance_km Max_Time_Diff_Minutes  \\\n",
            "0      ...    11.001850    77.011082           43.6264                  15.0   \n",
            "1      ...    22.340329    73.199083           39.3133                  20.0   \n",
            "2      ...    11.086298    77.042076           57.0303                   5.0   \n",
            "3      ...    13.124694    80.341470           56.5810                  20.0   \n",
            "4      ...    22.812225    75.954765           46.7948                  15.0   \n",
            "...    ...          ...          ...               ...                   ...   \n",
            "17740  ...    12.384022    76.668203           66.6399                  10.0   \n",
            "17741  ...    12.348500    76.705808           18.6324                  20.0   \n",
            "17742  ...    21.189834    72.818666           31.4611                  20.0   \n",
            "17743  ...    22.318096    73.177753            5.8692                   0.0   \n",
            "17744  ...    12.353194    76.660583           30.6436                  10.0   \n",
            "\n",
            "       Shortest_Path_Distance_km Carbon_Reduction_g Group_Length  \\\n",
            "0                        34.1630          480.74072          5.0   \n",
            "1                        14.5482         1258.06708          4.0   \n",
            "2                        32.0776         1267.59716          3.0   \n",
            "3                        30.7469         1312.37228          4.0   \n",
            "4                        23.9340         1161.32864          3.0   \n",
            "...                          ...                ...          ...   \n",
            "17740                    30.6254         1829.53660          5.0   \n",
            "17741                    15.5779          155.16860          2.0   \n",
            "17742                    12.6275          956.74688          4.0   \n",
            "17743                     5.4866           19.43608          2.0   \n",
            "17744                    20.9565          492.10468          3.0   \n",
            "\n",
            "       Waiting_Time_Minutes Combined_Count Group  \n",
            "0                      10.0              5  5122  \n",
            "1                       0.0              4  8786  \n",
            "2                       0.0              3  5326  \n",
            "3                       0.0              4  3720  \n",
            "4                      15.0              3   294  \n",
            "...                     ...            ...   ...  \n",
            "17740                   0.0              5  7529  \n",
            "17741                   0.0              2  8074  \n",
            "17742                  20.0              4  5943  \n",
            "17743                   0.0              2  8868  \n",
            "17744                   5.0              3  8034  \n",
            "\n",
            "[17745 rows x 39 columns]\n",
            "<class 'pandas.core.frame.DataFrame'>\n",
            "RangeIndex: 17745 entries, 0 to 17744\n",
            "Data columns (total 39 columns):\n",
            " #   Column                       Non-Null Count  Dtype  \n",
            "---  ------                       --------------  -----  \n",
            " 0   Unnamed: 0                   17745 non-null  int64  \n",
            " 1   ID                           17745 non-null  object \n",
            " 2   Delivery_person_ID           17745 non-null  object \n",
            " 3   Delivery_person_Age          17655 non-null  float64\n",
            " 4   Delivery_person_Ratings      17634 non-null  float64\n",
            " 5   Restaurant_latitude          17745 non-null  float64\n",
            " 6   Restaurant_longitude         17745 non-null  float64\n",
            " 7   Delivery_location_latitude   17745 non-null  float64\n",
            " 8   Delivery_location_longitude  17745 non-null  float64\n",
            " 9   Order_Date                   17745 non-null  object \n",
            " 10  Time_Orderd                  17745 non-null  object \n",
            " 11  Time_Order_picked            17745 non-null  object \n",
            " 12  Weatherconditions            17745 non-null  object \n",
            " 13  Road_traffic_density         17745 non-null  object \n",
            " 14  Vehicle_condition            17745 non-null  int64  \n",
            " 15  Type_of_order                17745 non-null  object \n",
            " 16  Type_of_vehicle              17745 non-null  object \n",
            " 17  multiple_deliveries          17381 non-null  float64\n",
            " 18  Festival                     17667 non-null  object \n",
            " 19  City                         17311 non-null  object \n",
            " 20  Time_taken(min)              17745 non-null  object \n",
            " 21  Distance_km                  17745 non-null  float64\n",
            " 22  Route                        17745 non-null  object \n",
            " 23  Time_Orderd_in_minutes       17745 non-null  float64\n",
            " 24  location_cluster             17745 non-null  float64\n",
            " 25  date_category                17745 non-null  float64\n",
            " 26  Idx                          17745 non-null  float64\n",
            " 27  Restaurant_Lat               17745 non-null  float64\n",
            " 28  Restaurant_Lon               17745 non-null  float64\n",
            " 29  Delivery_Lat                 17745 non-null  float64\n",
            " 30  Delivery_Lon                 17745 non-null  float64\n",
            " 31  Total_Distance_km            17745 non-null  float64\n",
            " 32  Max_Time_Diff_Minutes        17745 non-null  float64\n",
            " 33  Shortest_Path_Distance_km    17745 non-null  float64\n",
            " 34  Carbon_Reduction_g           17745 non-null  float64\n",
            " 35  Group_Length                 17745 non-null  float64\n",
            " 36  Waiting_Time_Minutes         17745 non-null  float64\n",
            " 37  Combined_Count               17745 non-null  int64  \n",
            " 38  Group                        17745 non-null  int64  \n",
            "dtypes: float64(22), int64(4), object(13)\n",
            "memory usage: 5.3+ MB\n",
            "None\n",
            "object行:\n",
            " Index(['ID', 'Delivery_person_ID', 'Order_Date', 'Time_Orderd',\n",
            "       'Time_Order_picked', 'Weatherconditions', 'Road_traffic_density',\n",
            "       'Type_of_order', 'Type_of_vehicle', 'Festival', 'City',\n",
            "       'Time_taken(min)', 'Route'],\n",
            "      dtype='object')\n",
            "缺失值:\n",
            " Unnamed: 0                       0\n",
            "ID                               0\n",
            "Delivery_person_ID               0\n",
            "Delivery_person_Age             90\n",
            "Delivery_person_Ratings        111\n",
            "Restaurant_latitude              0\n",
            "Restaurant_longitude             0\n",
            "Delivery_location_latitude       0\n",
            "Delivery_location_longitude      0\n",
            "Order_Date                       0\n",
            "Time_Orderd                      0\n",
            "Time_Order_picked                0\n",
            "Weatherconditions                0\n",
            "Road_traffic_density             0\n",
            "Vehicle_condition                0\n",
            "Type_of_order                    0\n",
            "Type_of_vehicle                  0\n",
            "multiple_deliveries            364\n",
            "Festival                        78\n",
            "City                           434\n",
            "Time_taken(min)                  0\n",
            "Distance_km                      0\n",
            "Route                            0\n",
            "Time_Orderd_in_minutes           0\n",
            "location_cluster                 0\n",
            "date_category                    0\n",
            "Idx                              0\n",
            "Restaurant_Lat                   0\n",
            "Restaurant_Lon                   0\n",
            "Delivery_Lat                     0\n",
            "Delivery_Lon                     0\n",
            "Total_Distance_km                0\n",
            "Max_Time_Diff_Minutes            0\n",
            "Shortest_Path_Distance_km        0\n",
            "Carbon_Reduction_g               0\n",
            "Group_Length                     0\n",
            "Waiting_Time_Minutes             0\n",
            "Combined_Count                   0\n",
            "Group                            0\n",
            "dtype: int64\n",
            "唯一值:\n",
            " Unnamed: 0                     17745\n",
            "ID                             17745\n",
            "Delivery_person_ID              1155\n",
            "Delivery_person_Age               20\n",
            "Delivery_person_Ratings           26\n",
            "Restaurant_latitude              386\n",
            "Restaurant_longitude             386\n",
            "Delivery_location_latitude      3695\n",
            "Delivery_location_longitude     3695\n",
            "Order_Date                        44\n",
            "Time_Orderd                      176\n",
            "Time_Order_picked                193\n",
            "Weatherconditions                  6\n",
            "Road_traffic_density               4\n",
            "Vehicle_condition                  3\n",
            "Type_of_order                      4\n",
            "Type_of_vehicle                    3\n",
            "multiple_deliveries                4\n",
            "Festival                           2\n",
            "City                               3\n",
            "Time_taken(min)                   45\n",
            "Distance_km                     3654\n",
            "Route                           3686\n",
            "Time_Orderd_in_minutes           176\n",
            "location_cluster                  22\n",
            "date_category                     44\n",
            "Idx                            17745\n",
            "Restaurant_Lat                   386\n",
            "Restaurant_Lon                   386\n",
            "Delivery_Lat                    3695\n",
            "Delivery_Lon                    3695\n",
            "Total_Distance_km               5359\n",
            "Max_Time_Diff_Minutes              5\n",
            "Shortest_Path_Distance_km       5326\n",
            "Carbon_Reduction_g              5336\n",
            "Group_Length                       5\n",
            "Waiting_Time_Minutes               5\n",
            "Combined_Count                     5\n",
            "Group                           5426\n",
            "dtype: int64\n"
          ]
        }
      ]
    },
    {
      "cell_type": "code",
      "source": [
        "# # columns_to_drop = ['Unnamed: 0','ID', 'Delivery_person_ID', 'Order_Date', 'Time_Orderd', 'Time_Order_picked',\n",
        "# #                    'Route', 'Time_taken(min)','City','multiple_deliveries','Type_of_vehicle','Delivery_person_Age','Delivery_person_Ratings']\n",
        "# columns_to_drop = ['Unnamed: 0','ID', 'Delivery_person_ID', 'Order_Date', 'Time_Orderd', 'Time_Order_picked',\n",
        "#                    'Route', 'Time_taken(min)','Type_of_vehicle']\n",
        "# data = data.drop(columns_to_drop, axis=1)\n",
        "# data.columns"
      ],
      "metadata": {
        "id": "q-VsQpzOQK8X"
      },
      "execution_count": 4,
      "outputs": []
    },
    {
      "cell_type": "code",
      "source": [
        "# @title 填補缺失值\n",
        "# Analyzing the dataset to suggest suitable methods for imputing missing values in each column\n",
        "data=df\n",
        "# Checking for missing values in each column\n",
        "# Analyzing the dataset to suggest suitable methods for imputing missing values in each column\n",
        "\n",
        "# Checking for missing values in each column\n",
        "missing_values = data.isnull().sum()\n",
        "missing_values = missing_values[missing_values > 0]\n",
        "\n",
        "# Checking the data types of columns with missing values\n",
        "data_types = data[missing_values.index].dtypes\n",
        "\n",
        "# Preparing a summary of columns with missing values, their data types, and suggested imputation methods\n",
        "imputation_methods = []\n",
        "\n",
        "for column, missing_count in missing_values.iteritems():\n",
        "    dtype = data_types[column]\n",
        "    if dtype == 'object':\n",
        "        # Suggesting mode imputation for categorical data\n",
        "        method = 'Mode (for categorical data)'\n",
        "    elif dtype in ['int64', 'float64']:\n",
        "        # Suggesting mean or median imputation for numerical data, depending on the distribution\n",
        "        if data[column].skew() < 1 and data[column].skew() > -1:\n",
        "            method = 'Mean (for approximately normal distribution)'\n",
        "        else:\n",
        "            method = 'Median (for skewed distribution)'\n",
        "    else:\n",
        "        method = 'Special consideration required'\n",
        "\n",
        "    imputation_methods.append((column, dtype, missing_count, method))\n",
        "\n",
        "imputation_summary = pd.DataFrame(imputation_methods, columns=['Column', 'Data Type', 'Missing Values', 'Suggested Method'])\n",
        "\n",
        "imputation_summary.sort_values(by='Missing Values', ascending=False)\n"
      ],
      "metadata": {
        "colab": {
          "base_uri": "https://localhost:8080/",
          "height": 241
        },
        "id": "EGZQmXexbjqK",
        "outputId": "ce48afd1-206a-4bba-a994-d06118f31ca0"
      },
      "execution_count": 4,
      "outputs": [
        {
          "output_type": "stream",
          "name": "stderr",
          "text": [
            "<ipython-input-4-1896cabd09c3>:17: FutureWarning: iteritems is deprecated and will be removed in a future version. Use .items instead.\n",
            "  for column, missing_count in missing_values.iteritems():\n"
          ]
        },
        {
          "output_type": "execute_result",
          "data": {
            "text/plain": [
              "                    Column Data Type  Missing Values  \\\n",
              "4                     City    object             434   \n",
              "2      multiple_deliveries   float64             364   \n",
              "1  Delivery_person_Ratings   float64             111   \n",
              "0      Delivery_person_Age   float64              90   \n",
              "3                 Festival    object              78   \n",
              "\n",
              "                               Suggested Method  \n",
              "4                   Mode (for categorical data)  \n",
              "2  Mean (for approximately normal distribution)  \n",
              "1              Median (for skewed distribution)  \n",
              "0  Mean (for approximately normal distribution)  \n",
              "3                   Mode (for categorical data)  "
            ],
            "text/html": [
              "\n",
              "  <div id=\"df-edb82ceb-1a01-4da3-8e99-2cf3b1bba487\" class=\"colab-df-container\">\n",
              "    <div>\n",
              "<style scoped>\n",
              "    .dataframe tbody tr th:only-of-type {\n",
              "        vertical-align: middle;\n",
              "    }\n",
              "\n",
              "    .dataframe tbody tr th {\n",
              "        vertical-align: top;\n",
              "    }\n",
              "\n",
              "    .dataframe thead th {\n",
              "        text-align: right;\n",
              "    }\n",
              "</style>\n",
              "<table border=\"1\" class=\"dataframe\">\n",
              "  <thead>\n",
              "    <tr style=\"text-align: right;\">\n",
              "      <th></th>\n",
              "      <th>Column</th>\n",
              "      <th>Data Type</th>\n",
              "      <th>Missing Values</th>\n",
              "      <th>Suggested Method</th>\n",
              "    </tr>\n",
              "  </thead>\n",
              "  <tbody>\n",
              "    <tr>\n",
              "      <th>4</th>\n",
              "      <td>City</td>\n",
              "      <td>object</td>\n",
              "      <td>434</td>\n",
              "      <td>Mode (for categorical data)</td>\n",
              "    </tr>\n",
              "    <tr>\n",
              "      <th>2</th>\n",
              "      <td>multiple_deliveries</td>\n",
              "      <td>float64</td>\n",
              "      <td>364</td>\n",
              "      <td>Mean (for approximately normal distribution)</td>\n",
              "    </tr>\n",
              "    <tr>\n",
              "      <th>1</th>\n",
              "      <td>Delivery_person_Ratings</td>\n",
              "      <td>float64</td>\n",
              "      <td>111</td>\n",
              "      <td>Median (for skewed distribution)</td>\n",
              "    </tr>\n",
              "    <tr>\n",
              "      <th>0</th>\n",
              "      <td>Delivery_person_Age</td>\n",
              "      <td>float64</td>\n",
              "      <td>90</td>\n",
              "      <td>Mean (for approximately normal distribution)</td>\n",
              "    </tr>\n",
              "    <tr>\n",
              "      <th>3</th>\n",
              "      <td>Festival</td>\n",
              "      <td>object</td>\n",
              "      <td>78</td>\n",
              "      <td>Mode (for categorical data)</td>\n",
              "    </tr>\n",
              "  </tbody>\n",
              "</table>\n",
              "</div>\n",
              "    <div class=\"colab-df-buttons\">\n",
              "\n",
              "  <div class=\"colab-df-container\">\n",
              "    <button class=\"colab-df-convert\" onclick=\"convertToInteractive('df-edb82ceb-1a01-4da3-8e99-2cf3b1bba487')\"\n",
              "            title=\"Convert this dataframe to an interactive table.\"\n",
              "            style=\"display:none;\">\n",
              "\n",
              "  <svg xmlns=\"http://www.w3.org/2000/svg\" height=\"24px\" viewBox=\"0 -960 960 960\">\n",
              "    <path d=\"M120-120v-720h720v720H120Zm60-500h600v-160H180v160Zm220 220h160v-160H400v160Zm0 220h160v-160H400v160ZM180-400h160v-160H180v160Zm440 0h160v-160H620v160ZM180-180h160v-160H180v160Zm440 0h160v-160H620v160Z\"/>\n",
              "  </svg>\n",
              "    </button>\n",
              "\n",
              "  <style>\n",
              "    .colab-df-container {\n",
              "      display:flex;\n",
              "      gap: 12px;\n",
              "    }\n",
              "\n",
              "    .colab-df-convert {\n",
              "      background-color: #E8F0FE;\n",
              "      border: none;\n",
              "      border-radius: 50%;\n",
              "      cursor: pointer;\n",
              "      display: none;\n",
              "      fill: #1967D2;\n",
              "      height: 32px;\n",
              "      padding: 0 0 0 0;\n",
              "      width: 32px;\n",
              "    }\n",
              "\n",
              "    .colab-df-convert:hover {\n",
              "      background-color: #E2EBFA;\n",
              "      box-shadow: 0px 1px 2px rgba(60, 64, 67, 0.3), 0px 1px 3px 1px rgba(60, 64, 67, 0.15);\n",
              "      fill: #174EA6;\n",
              "    }\n",
              "\n",
              "    .colab-df-buttons div {\n",
              "      margin-bottom: 4px;\n",
              "    }\n",
              "\n",
              "    [theme=dark] .colab-df-convert {\n",
              "      background-color: #3B4455;\n",
              "      fill: #D2E3FC;\n",
              "    }\n",
              "\n",
              "    [theme=dark] .colab-df-convert:hover {\n",
              "      background-color: #434B5C;\n",
              "      box-shadow: 0px 1px 3px 1px rgba(0, 0, 0, 0.15);\n",
              "      filter: drop-shadow(0px 1px 2px rgba(0, 0, 0, 0.3));\n",
              "      fill: #FFFFFF;\n",
              "    }\n",
              "  </style>\n",
              "\n",
              "    <script>\n",
              "      const buttonEl =\n",
              "        document.querySelector('#df-edb82ceb-1a01-4da3-8e99-2cf3b1bba487 button.colab-df-convert');\n",
              "      buttonEl.style.display =\n",
              "        google.colab.kernel.accessAllowed ? 'block' : 'none';\n",
              "\n",
              "      async function convertToInteractive(key) {\n",
              "        const element = document.querySelector('#df-edb82ceb-1a01-4da3-8e99-2cf3b1bba487');\n",
              "        const dataTable =\n",
              "          await google.colab.kernel.invokeFunction('convertToInteractive',\n",
              "                                                    [key], {});\n",
              "        if (!dataTable) return;\n",
              "\n",
              "        const docLinkHtml = 'Like what you see? Visit the ' +\n",
              "          '<a target=\"_blank\" href=https://colab.research.google.com/notebooks/data_table.ipynb>data table notebook</a>'\n",
              "          + ' to learn more about interactive tables.';\n",
              "        element.innerHTML = '';\n",
              "        dataTable['output_type'] = 'display_data';\n",
              "        await google.colab.output.renderOutput(dataTable, element);\n",
              "        const docLink = document.createElement('div');\n",
              "        docLink.innerHTML = docLinkHtml;\n",
              "        element.appendChild(docLink);\n",
              "      }\n",
              "    </script>\n",
              "  </div>\n",
              "\n",
              "\n",
              "<div id=\"df-a5e1f6e2-9a07-4399-b13a-fbdcb52763b5\">\n",
              "  <button class=\"colab-df-quickchart\" onclick=\"quickchart('df-a5e1f6e2-9a07-4399-b13a-fbdcb52763b5')\"\n",
              "            title=\"Suggest charts\"\n",
              "            style=\"display:none;\">\n",
              "\n",
              "<svg xmlns=\"http://www.w3.org/2000/svg\" height=\"24px\"viewBox=\"0 0 24 24\"\n",
              "     width=\"24px\">\n",
              "    <g>\n",
              "        <path d=\"M19 3H5c-1.1 0-2 .9-2 2v14c0 1.1.9 2 2 2h14c1.1 0 2-.9 2-2V5c0-1.1-.9-2-2-2zM9 17H7v-7h2v7zm4 0h-2V7h2v10zm4 0h-2v-4h2v4z\"/>\n",
              "    </g>\n",
              "</svg>\n",
              "  </button>\n",
              "\n",
              "<style>\n",
              "  .colab-df-quickchart {\n",
              "      --bg-color: #E8F0FE;\n",
              "      --fill-color: #1967D2;\n",
              "      --hover-bg-color: #E2EBFA;\n",
              "      --hover-fill-color: #174EA6;\n",
              "      --disabled-fill-color: #AAA;\n",
              "      --disabled-bg-color: #DDD;\n",
              "  }\n",
              "\n",
              "  [theme=dark] .colab-df-quickchart {\n",
              "      --bg-color: #3B4455;\n",
              "      --fill-color: #D2E3FC;\n",
              "      --hover-bg-color: #434B5C;\n",
              "      --hover-fill-color: #FFFFFF;\n",
              "      --disabled-bg-color: #3B4455;\n",
              "      --disabled-fill-color: #666;\n",
              "  }\n",
              "\n",
              "  .colab-df-quickchart {\n",
              "    background-color: var(--bg-color);\n",
              "    border: none;\n",
              "    border-radius: 50%;\n",
              "    cursor: pointer;\n",
              "    display: none;\n",
              "    fill: var(--fill-color);\n",
              "    height: 32px;\n",
              "    padding: 0;\n",
              "    width: 32px;\n",
              "  }\n",
              "\n",
              "  .colab-df-quickchart:hover {\n",
              "    background-color: var(--hover-bg-color);\n",
              "    box-shadow: 0 1px 2px rgba(60, 64, 67, 0.3), 0 1px 3px 1px rgba(60, 64, 67, 0.15);\n",
              "    fill: var(--button-hover-fill-color);\n",
              "  }\n",
              "\n",
              "  .colab-df-quickchart-complete:disabled,\n",
              "  .colab-df-quickchart-complete:disabled:hover {\n",
              "    background-color: var(--disabled-bg-color);\n",
              "    fill: var(--disabled-fill-color);\n",
              "    box-shadow: none;\n",
              "  }\n",
              "\n",
              "  .colab-df-spinner {\n",
              "    border: 2px solid var(--fill-color);\n",
              "    border-color: transparent;\n",
              "    border-bottom-color: var(--fill-color);\n",
              "    animation:\n",
              "      spin 1s steps(1) infinite;\n",
              "  }\n",
              "\n",
              "  @keyframes spin {\n",
              "    0% {\n",
              "      border-color: transparent;\n",
              "      border-bottom-color: var(--fill-color);\n",
              "      border-left-color: var(--fill-color);\n",
              "    }\n",
              "    20% {\n",
              "      border-color: transparent;\n",
              "      border-left-color: var(--fill-color);\n",
              "      border-top-color: var(--fill-color);\n",
              "    }\n",
              "    30% {\n",
              "      border-color: transparent;\n",
              "      border-left-color: var(--fill-color);\n",
              "      border-top-color: var(--fill-color);\n",
              "      border-right-color: var(--fill-color);\n",
              "    }\n",
              "    40% {\n",
              "      border-color: transparent;\n",
              "      border-right-color: var(--fill-color);\n",
              "      border-top-color: var(--fill-color);\n",
              "    }\n",
              "    60% {\n",
              "      border-color: transparent;\n",
              "      border-right-color: var(--fill-color);\n",
              "    }\n",
              "    80% {\n",
              "      border-color: transparent;\n",
              "      border-right-color: var(--fill-color);\n",
              "      border-bottom-color: var(--fill-color);\n",
              "    }\n",
              "    90% {\n",
              "      border-color: transparent;\n",
              "      border-bottom-color: var(--fill-color);\n",
              "    }\n",
              "  }\n",
              "</style>\n",
              "\n",
              "  <script>\n",
              "    async function quickchart(key) {\n",
              "      const quickchartButtonEl =\n",
              "        document.querySelector('#' + key + ' button');\n",
              "      quickchartButtonEl.disabled = true;  // To prevent multiple clicks.\n",
              "      quickchartButtonEl.classList.add('colab-df-spinner');\n",
              "      try {\n",
              "        const charts = await google.colab.kernel.invokeFunction(\n",
              "            'suggestCharts', [key], {});\n",
              "      } catch (error) {\n",
              "        console.error('Error during call to suggestCharts:', error);\n",
              "      }\n",
              "      quickchartButtonEl.classList.remove('colab-df-spinner');\n",
              "      quickchartButtonEl.classList.add('colab-df-quickchart-complete');\n",
              "    }\n",
              "    (() => {\n",
              "      let quickchartButtonEl =\n",
              "        document.querySelector('#df-a5e1f6e2-9a07-4399-b13a-fbdcb52763b5 button');\n",
              "      quickchartButtonEl.style.display =\n",
              "        google.colab.kernel.accessAllowed ? 'block' : 'none';\n",
              "    })();\n",
              "  </script>\n",
              "</div>\n",
              "    </div>\n",
              "  </div>\n"
            ]
          },
          "metadata": {},
          "execution_count": 4
        }
      ]
    },
    {
      "cell_type": "code",
      "source": [
        "# @title 填補缺失值\n",
        "# Filling missing values for each column based on the suggested methods\n",
        "\n",
        "# Defining functions for different imputation methods\n",
        "def impute_mode(column):\n",
        "    return column.fillna(column.mode()[0])\n",
        "\n",
        "def impute_mean(column):\n",
        "    return column.fillna(column.mean())\n",
        "\n",
        "def impute_median(column):\n",
        "    return column.fillna(column.median())\n",
        "\n",
        "# Applying the imputation methods to each column\n",
        "for column, dtype, _, method in imputation_methods:\n",
        "    if method == 'Mode (for categorical data)':\n",
        "        data[column] = impute_mode(data[column])\n",
        "    elif method == 'Mean (for approximately normal distribution)':\n",
        "        data[column] = impute_mean(data[column])\n",
        "    elif method == 'Median (for skewed distribution)':\n",
        "        data[column] = impute_median(data[column])\n",
        "\n",
        "# Checking if there are any missing values left\n",
        "remaining_missing_values = data.isnull().sum().sum()\n",
        "\n",
        "remaining_missing_values, data.head()\n"
      ],
      "metadata": {
        "colab": {
          "base_uri": "https://localhost:8080/"
        },
        "id": "Qhi83G4obkHK",
        "outputId": "482196b9-fbb7-4e2c-89e6-4d23bf0d1f1c"
      },
      "execution_count": 5,
      "outputs": [
        {
          "output_type": "execute_result",
          "data": {
            "text/plain": [
              "(0,\n",
              "    Unnamed: 0       ID Delivery_person_ID  Delivery_person_Age  \\\n",
              " 0           2  0x1002    COIMBRES07DEL01                  30.0   \n",
              " 1           3  0x1005     VADRES010DEL03                  23.0   \n",
              " 2           5  0x1006    COIMBRES01DEL01                  32.0   \n",
              " 3           7  0x100f     CHENRES09DEL02                  35.0   \n",
              " 4          10  0x1010     INDORES20DEL02                  37.0   \n",
              " \n",
              "    Delivery_person_Ratings  Restaurant_latitude  Restaurant_longitude  \\\n",
              " 0                      4.6            10.961850             76.971082   \n",
              " 1                      4.4            22.310329             73.169083   \n",
              " 2                      4.9            11.016298             76.972076   \n",
              " 3                      4.9            13.044694             80.261470   \n",
              " 4                      4.6            22.732225             75.874765   \n",
              " \n",
              "    Delivery_location_latitude  Delivery_location_longitude Order_Date  ...  \\\n",
              " 0                   11.001850                    77.011082  2022/3/13  ...   \n",
              " 1                   22.340329                    73.199083   2022/3/5  ...   \n",
              " 2                   11.086298                    77.042076  2022/3/23  ...   \n",
              " 3                   13.124694                    80.341470   2022/3/8  ...   \n",
              " 4                   22.812225                    75.954765   2022/3/6  ...   \n",
              " \n",
              "   Delivery_Lat Delivery_Lon Total_Distance_km Max_Time_Diff_Minutes  \\\n",
              " 0    11.001850    77.011082           43.6264                  15.0   \n",
              " 1    22.340329    73.199083           39.3133                  20.0   \n",
              " 2    11.086298    77.042076           57.0303                   5.0   \n",
              " 3    13.124694    80.341470           56.5810                  20.0   \n",
              " 4    22.812225    75.954765           46.7948                  15.0   \n",
              " \n",
              "    Shortest_Path_Distance_km Carbon_Reduction_g Group_Length  \\\n",
              " 0                    34.1630          480.74072          5.0   \n",
              " 1                    14.5482         1258.06708          4.0   \n",
              " 2                    32.0776         1267.59716          3.0   \n",
              " 3                    30.7469         1312.37228          4.0   \n",
              " 4                    23.9340         1161.32864          3.0   \n",
              " \n",
              "    Waiting_Time_Minutes Combined_Count Group  \n",
              " 0                  10.0              5  5122  \n",
              " 1                   0.0              4  8786  \n",
              " 2                   0.0              3  5326  \n",
              " 3                   0.0              4  3720  \n",
              " 4                  15.0              3   294  \n",
              " \n",
              " [5 rows x 39 columns])"
            ]
          },
          "metadata": {},
          "execution_count": 5
        }
      ]
    },
    {
      "cell_type": "code",
      "source": [
        "# columns_to_drop = ['Unnamed: 0','ID', 'Delivery_person_ID', 'Order_Date', 'Time_Orderd', 'Time_Order_picked',\n",
        "#                    'Route', 'Time_taken(min)','City','multiple_deliveries','Type_of_vehicle','Delivery_person_Age','Delivery_person_Ratings']\n",
        "# columns_to_drop = ['Unnamed: 0','ID', 'Delivery_person_ID', 'Order_Date', 'Time_Orderd', 'Time_Order_picked',\n",
        "#                    'Route', 'Time_taken(min)','Type_of_vehicle']\n",
        "columns_to_drop =['Idx',\n",
        "       'Restaurant_Lat', 'Restaurant_Lon', 'Delivery_Lat', 'Delivery_Lon', 'Group','Vehicle_condition']\n",
        "data = data.drop(columns_to_drop, axis=1)\n",
        "data.columns"
      ],
      "metadata": {
        "colab": {
          "base_uri": "https://localhost:8080/"
        },
        "id": "6_nVVyLX20em",
        "outputId": "985a634e-e55a-42cd-842b-91c7c06f077f"
      },
      "execution_count": 7,
      "outputs": [
        {
          "output_type": "execute_result",
          "data": {
            "text/plain": [
              "Index(['Delivery_person_Age', 'Delivery_person_Ratings', 'Restaurant_latitude',\n",
              "       'Restaurant_longitude', 'Delivery_location_latitude',\n",
              "       'Delivery_location_longitude', 'Weatherconditions',\n",
              "       'Road_traffic_density', 'Type_of_order', 'multiple_deliveries',\n",
              "       'Festival', 'City', 'Distance_km', 'Time_Orderd_in_minutes',\n",
              "       'location_cluster', 'date_category', 'Total_Distance_km',\n",
              "       'Max_Time_Diff_Minutes', 'Shortest_Path_Distance_km',\n",
              "       'Carbon_Reduction_g', 'Group_Length', 'Waiting_Time_Minutes',\n",
              "       'Combined_Count'],\n",
              "      dtype='object')"
            ]
          },
          "metadata": {},
          "execution_count": 7
        }
      ]
    },
    {
      "cell_type": "code",
      "source": [
        "import numpy as np\n",
        "import xgboost as xgb\n",
        "import lightgbm as lgb\n",
        "from sklearn.metrics import f1_score, confusion_matrix, recall_score, roc_curve, auc\n",
        "from sklearn.linear_model import LogisticRegression\n",
        "from sklearn.tree import DecisionTreeClassifier\n",
        "from sklearn.ensemble import RandomForestClassifier\n",
        "from sklearn.svm import SVC\n",
        "from sklearn.neighbors import KNeighborsClassifier\n",
        "from sklearn.neural_network import MLPClassifier\n",
        "from sklearn.preprocessing import LabelEncoder\n",
        "from sklearn.model_selection import train_test_split\n",
        "import xgboost as xgb\n",
        "from imblearn.over_sampling import RandomOverSampler, SMOTE, ADASYN\n",
        "from imblearn.under_sampling import RandomUnderSampler\n",
        "from tqdm import tqdm\n",
        "from sklearn.metrics import roc_curve, auc\n",
        "import matplotlib.pyplot as plt\n",
        "from sklearn.model_selection import StratifiedKFold\n",
        "from sklearn.ensemble import RandomForestRegressor\n",
        "from sklearn.metrics import mean_squared_error, r2_score\n",
        "# from lightgbm import LGBMRegressor\n",
        "# !pip install catboost\n",
        "# from catboost import CatBoostRegressor\n",
        "\n",
        "\n",
        "def train_and_evaluate(X_train, y_train, X_test, y_test):\n",
        "    models = [\n",
        "        ('XGBoost', xgb.XGBRegressor(), None, True),\n",
        "        ('LightGBM', lgb.LGBMRegressor(), None, True),\n",
        "        ('Random Forest', RandomForestRegressor(), None, False),\n",
        "\n",
        "    ]\n",
        "    best_model = None\n",
        "    best_model_name = \"\"\n",
        "    best_score = float('inf')\n",
        "\n",
        "    for name, model, dtest, adjust_threshold in tqdm(models, desc=\"Training and evaluating models\"):\n",
        "        print(f\"\\n模型: {name}\")\n",
        "\n",
        "        # XGBoost\n",
        "        if name == 'XGBoost':\n",
        "            dtrain = xgb.DMatrix(X_train, label=y_train)\n",
        "            dtest = xgb.DMatrix(X_test, label=y_test)\n",
        "            params = {'max_depth': 3, 'eta': 0.3, 'objective': 'reg:squarederror'}  # 适用于回归的参数\n",
        "            num_round = 100\n",
        "            bst = xgb.train(params, dtrain, num_round)\n",
        "            y_test_pred = bst.predict(dtest)\n",
        "\n",
        "        # LightGBM\n",
        "        elif name == 'LightGBM':\n",
        "            model.fit(X_train, y_train)\n",
        "            y_test_pred = model.predict(X_test)\n",
        "\n",
        "        # 其他 Scikit-learn 风格的模型\n",
        "        else:\n",
        "            model.fit(X_train, y_train)\n",
        "            y_test_pred = model.predict(X_test)\n",
        "\n",
        "        # 评估性能\n",
        "        mse = mean_squared_error(y_test, y_test_pred)\n",
        "        r2 = r2_score(y_test, y_test_pred)\n",
        "        print(f\"MSE: {mse}, R²: {r2}\")\n",
        "        # 检查是否是目前最好的模型\n",
        "        if best_score > mse:\n",
        "            best_score = mse\n",
        "            best_model = model\n",
        "            best_model_method_name=method_name\n",
        "            best_model_name = name\n",
        "\n",
        "            # print(f\"best mse occur: {best_score}\")\n",
        "\n",
        "    return best_model_name,best_model,best_score\n",
        "\n",
        "def evaluate_model_with_threshold(y_test, y_pred):\n",
        "    # 确定最佳阈值\n",
        "    best_threshold = 0.5\n",
        "    best_f1 = 0\n",
        "    for threshold in np.linspace(0, 1, 100):\n",
        "        y_pred_binary = np.where(y_pred > threshold, 1, 0)\n",
        "        f1 = f1_score(y_test, y_pred_binary)\n",
        "        if f1 > best_f1:\n",
        "            best_f1 = f1\n",
        "            best_threshold = threshold\n",
        "\n",
        "    y_pred_binary = np.where(y_pred > best_threshold, 1, 0)\n",
        "    return calculate_metrics(y_test, y_pred_binary)\n",
        "\n",
        "# def evaluate_model_without_threshold(y_test, y_pred):\n",
        "#     return calculate_metrics(y_test, y_pred)\n",
        "\n",
        "# def calculate_metrics(y_test, y_pred_binary):\n",
        "#     f1 = f1_score(y_test, y_pred_binary)\n",
        "#     conf_matrix = confusion_matrix(y_test, y_pred_binary)\n",
        "#     sensitivity = recall_score(y_test, y_pred_binary)\n",
        "#     tn, fp, fn, tp = conf_matrix.ravel()\n",
        "#     specificity = tn / (tn + fp)\n",
        "#     g_mean = np.sqrt(sensitivity * specificity)\n",
        "#     fpr, tpr, thresholds = roc_curve(y_test, y_pred_binary)\n",
        "#     roc_auc = auc(fpr, tpr)\n",
        "\n",
        "#     return f1, conf_matrix, sensitivity, g_mean, roc_auc\n",
        "\n",
        "\n",
        "\n",
        "# 数据预处理\n",
        "X = data.drop('Waiting_Time_Minutes', axis=1)\n",
        "y = data['Waiting_Time_Minutes']  # 使用 Waiting_Time_Minutes 作为目标\n",
        "\n",
        "X_encoded = pd.get_dummies(X)\n",
        "y_encoded = LabelEncoder().fit_transform(y)\n",
        "\n",
        "\n",
        "# 分割数据集为训练集和测试集\n",
        "X_train, X_test, y_train, y_test = train_test_split(X_encoded, y_encoded, test_size=0.3, random_state=42)\n",
        "# len(X_train), len(X_test), len(y_train), len(y_test)\n",
        "\n",
        "# 定义不同的数据扩充方法\n",
        "methods = [\n",
        "    ('原始数据', X_train, y_train),\n",
        "    ('随机过采样', *RandomOverSampler(random_state=42).fit_resample(X_train, y_train)),\n",
        "    ('随机欠采样', *RandomUnderSampler(random_state=42).fit_resample(X_train, y_train)),\n",
        "    ('SMOTE', *SMOTE(random_state=42).fit_resample(X_train, y_train)),\n",
        "    ('ADASYN', *ADASYN(random_state=42).fit_resample(X_train, y_train))\n",
        "\n",
        "]\n",
        "\n",
        "# 存储结果的字典\n",
        "results = {}\n",
        "# 初始化最佳模型和性能指标\n",
        "best_modelF = None\n",
        "best_model_nameF = \"\"\n",
        "best_scoreF = float('inf')  # 对于 MSE，较低的值表示更好的模型\n",
        "\n",
        "best_model_method_name=\"\"\n",
        "# 进行模型训练和评估的循环\n",
        "for method_name, X_augmented, y_augmented in tqdm(methods, desc=\"Training Models\"):\n",
        "    print(method_name)\n",
        "    best_model_name,best_model, best_score = train_and_evaluate(X_augmented, y_augmented, X_test, y_test)\n",
        "    if best_scoreF > best_score:\n",
        "            best_scoreF = best_score\n",
        "            best_modelF = best_model\n",
        "            best_model_method_name= method_name\n",
        "            best_model_nameF = best_model_name\n",
        "            print(f\"RR best mse occur: {best_score}\")\n",
        "\n",
        "\n",
        "import joblib\n",
        "\n",
        "if best_model_nameF in ['XGBoost', 'LightGBM']:\n",
        "    # 使用模型特有的保存方法\n",
        "    if best_model_nameF == 'XGBoost':\n",
        "        best_modelF.save_model(f'{best_model_method_name}_{best_model_nameF}_best_model.json')\n",
        "    elif best_model_nameF == 'LightGBM':\n",
        "        best_modelF.booster_.save_model(f'{best_model_method_name}_{best_model_nameF}_best_model.txt')\n",
        "else:\n",
        "    # 对于其他模型，使用 joblib\n",
        "    joblib.dump(best_modelF, f'{best_model_method_name}_{best_model_nameF}_best_model.pkl')\n",
        "\n",
        "print(f\"最佳模型: {best_model_method_name} {best_model_nameF}，MSE: {best_scoreF}\")"
      ],
      "metadata": {
        "colab": {
          "base_uri": "https://localhost:8080/"
        },
        "id": "DeW_XoKGbwP3",
        "outputId": "ef153b39-bb37-479f-dbc4-587947fd02dc"
      },
      "execution_count": 20,
      "outputs": [
        {
          "output_type": "stream",
          "name": "stderr",
          "text": [
            "\rTraining Models:   0%|          | 0/5 [00:00<?, ?it/s]"
          ]
        },
        {
          "output_type": "stream",
          "name": "stdout",
          "text": [
            "原始数据\n"
          ]
        },
        {
          "output_type": "stream",
          "name": "stderr",
          "text": [
            "\n",
            "Training and evaluating models:   0%|          | 0/3 [00:00<?, ?it/s]\u001b[A"
          ]
        },
        {
          "output_type": "stream",
          "name": "stdout",
          "text": [
            "\n",
            "模型: XGBoost\n"
          ]
        },
        {
          "output_type": "stream",
          "name": "stderr",
          "text": [
            "\n",
            "Training and evaluating models:  33%|███▎      | 1/3 [00:00<00:00,  4.60it/s]\u001b[A"
          ]
        },
        {
          "output_type": "stream",
          "name": "stdout",
          "text": [
            "MSE: 1.982182348651181, R²: 0.1384632696625525\n",
            "best mse occur: 1.982182348651181\n",
            "\n",
            "模型: LightGBM\n",
            "[LightGBM] [Warning] Found whitespace in feature_names, replace with underlines\n",
            "[LightGBM] [Info] Auto-choosing row-wise multi-threading, the overhead of testing was 0.001370 seconds.\n",
            "You can set `force_row_wise=true` to remove the overhead.\n",
            "And if memory is not enough, you can set `force_col_wise=true`.\n",
            "[LightGBM] [Info] Total Bins 2388\n",
            "[LightGBM] [Info] Number of data points in the train set: 12421, number of used features: 36\n",
            "[LightGBM] [Info] Start training from score 1.546574\n"
          ]
        },
        {
          "output_type": "stream",
          "name": "stderr",
          "text": [
            "\n",
            "Training and evaluating models:  67%|██████▋   | 2/3 [00:00<00:00,  3.72it/s]\u001b[A"
          ]
        },
        {
          "output_type": "stream",
          "name": "stdout",
          "text": [
            "MSE: 1.9660249809113666, R²: 0.14548591608198602\n",
            "best mse occur: 1.9660249809113666\n",
            "\n",
            "模型: Random Forest\n"
          ]
        },
        {
          "output_type": "stream",
          "name": "stderr",
          "text": [
            "\n",
            "Training and evaluating models: 100%|██████████| 3/3 [00:21<00:00,  7.03s/it]\n",
            "Training Models:  20%|██        | 1/5 [00:21<01:24, 21.12s/it]"
          ]
        },
        {
          "output_type": "stream",
          "name": "stdout",
          "text": [
            "MSE: 2.079198009015778, R²: 0.09629633437583762\n",
            "RR best mse occur: 1.9660249809113666\n",
            "随机过采样\n"
          ]
        },
        {
          "output_type": "stream",
          "name": "stderr",
          "text": [
            "\n",
            "Training and evaluating models:   0%|          | 0/3 [00:00<?, ?it/s]\u001b[A"
          ]
        },
        {
          "output_type": "stream",
          "name": "stdout",
          "text": [
            "\n",
            "模型: XGBoost\n"
          ]
        },
        {
          "output_type": "stream",
          "name": "stderr",
          "text": [
            "\n",
            "Training and evaluating models:  33%|███▎      | 1/3 [00:01<00:03,  1.55s/it]\u001b[A"
          ]
        },
        {
          "output_type": "stream",
          "name": "stdout",
          "text": [
            "MSE: 2.13989897707578, R²: 0.06991323516888615\n",
            "best mse occur: 2.13989897707578\n",
            "\n",
            "模型: LightGBM\n",
            "[LightGBM] [Warning] Found whitespace in feature_names, replace with underlines\n",
            "[LightGBM] [Info] Auto-choosing col-wise multi-threading, the overhead of testing was 0.010519 seconds.\n",
            "You can set `force_col_wise=true` to remove the overhead.\n",
            "[LightGBM] [Info] Total Bins 2386\n",
            "[LightGBM] [Info] Number of data points in the train set: 24400, number of used features: 36\n",
            "[LightGBM] [Info] Start training from score 2.000000\n"
          ]
        },
        {
          "output_type": "stream",
          "name": "stderr",
          "text": [
            "\n",
            "Training and evaluating models:  67%|██████▋   | 2/3 [00:02<00:01,  1.09s/it]\u001b[A"
          ]
        },
        {
          "output_type": "stream",
          "name": "stdout",
          "text": [
            "MSE: 2.0967207136257753, R²: 0.08868025725425543\n",
            "best mse occur: 2.0967207136257753\n",
            "\n",
            "模型: Random Forest\n"
          ]
        },
        {
          "output_type": "stream",
          "name": "stderr",
          "text": [
            "\n",
            "Training and evaluating models: 100%|██████████| 3/3 [00:38<00:00, 12.95s/it]\n",
            "Training Models:  40%|████      | 2/5 [00:59<01:34, 31.56s/it]"
          ]
        },
        {
          "output_type": "stream",
          "name": "stdout",
          "text": [
            "MSE: 2.083298628850488, R²: 0.0945140389138901\n",
            "best mse occur: 2.083298628850488\n",
            "随机欠采样\n"
          ]
        },
        {
          "output_type": "stream",
          "name": "stderr",
          "text": [
            "\n",
            "Training and evaluating models:   0%|          | 0/3 [00:00<?, ?it/s]\u001b[A"
          ]
        },
        {
          "output_type": "stream",
          "name": "stdout",
          "text": [
            "\n",
            "模型: XGBoost\n"
          ]
        },
        {
          "output_type": "stream",
          "name": "stderr",
          "text": [
            "\n"
          ]
        },
        {
          "output_type": "stream",
          "name": "stdout",
          "text": [
            "MSE: 2.178994118044641, R²: 0.05292090348693279\n",
            "best mse occur: 2.178994118044641\n"
          ]
        },
        {
          "output_type": "stream",
          "name": "stderr",
          "text": [
            "\rTraining and evaluating models:  33%|███▎      | 1/3 [00:00<00:00,  4.94it/s]\u001b[A"
          ]
        },
        {
          "output_type": "stream",
          "name": "stdout",
          "text": [
            "\n",
            "模型: LightGBM\n",
            "[LightGBM] [Warning] Found whitespace in feature_names, replace with underlines\n",
            "[LightGBM] [Info] Auto-choosing row-wise multi-threading, the overhead of testing was 0.001168 seconds.\n",
            "You can set `force_row_wise=true` to remove the overhead.\n",
            "And if memory is not enough, you can set `force_col_wise=true`.\n",
            "[LightGBM] [Info] Total Bins 2387\n",
            "[LightGBM] [Info] Number of data points in the train set: 8860, number of used features: 36\n",
            "[LightGBM] [Info] Start training from score 2.000000\n"
          ]
        },
        {
          "output_type": "stream",
          "name": "stderr",
          "text": [
            "\n",
            "Training and evaluating models:  67%|██████▋   | 2/3 [00:00<00:00,  4.10it/s]\u001b[A"
          ]
        },
        {
          "output_type": "stream",
          "name": "stdout",
          "text": [
            "MSE: 2.183951192189859, R²: 0.05076635829384413\n",
            "\n",
            "模型: Random Forest\n"
          ]
        },
        {
          "output_type": "stream",
          "name": "stderr",
          "text": [
            "\n",
            "Training and evaluating models: 100%|██████████| 3/3 [00:14<00:00,  4.68s/it]\n",
            "Training Models:  60%|██████    | 3/5 [01:14<00:47, 23.57s/it]"
          ]
        },
        {
          "output_type": "stream",
          "name": "stdout",
          "text": [
            "MSE: 2.238531987227648, R²: 0.027043334159322252\n",
            "SMOTE\n"
          ]
        },
        {
          "output_type": "stream",
          "name": "stderr",
          "text": [
            "\n",
            "Training and evaluating models:   0%|          | 0/3 [00:00<?, ?it/s]\u001b[A"
          ]
        },
        {
          "output_type": "stream",
          "name": "stdout",
          "text": [
            "\n",
            "模型: XGBoost\n"
          ]
        },
        {
          "output_type": "stream",
          "name": "stderr",
          "text": [
            "\n",
            "Training and evaluating models:  33%|███▎      | 1/3 [00:01<00:02,  1.36s/it]\u001b[A"
          ]
        },
        {
          "output_type": "stream",
          "name": "stdout",
          "text": [
            "MSE: 1.9976692591667473, R²: 0.13173203110738685\n",
            "best mse occur: 1.9976692591667473\n",
            "\n",
            "模型: LightGBM\n",
            "[LightGBM] [Warning] Found whitespace in feature_names, replace with underlines\n",
            "[LightGBM] [Info] Auto-choosing col-wise multi-threading, the overhead of testing was 0.009921 seconds.\n",
            "You can set `force_col_wise=true` to remove the overhead.\n",
            "[LightGBM] [Info] Total Bins 4124\n",
            "[LightGBM] [Info] Number of data points in the train set: 24400, number of used features: 36\n",
            "[LightGBM] [Info] Start training from score 2.000000\n"
          ]
        },
        {
          "output_type": "stream",
          "name": "stderr",
          "text": [
            "\n",
            "Training and evaluating models:  67%|██████▋   | 2/3 [00:02<00:01,  1.02s/it]\u001b[A"
          ]
        },
        {
          "output_type": "stream",
          "name": "stdout",
          "text": [
            "MSE: 1.98366214768951, R²: 0.13782008906622345\n",
            "best mse occur: 1.98366214768951\n",
            "\n",
            "模型: Random Forest\n"
          ]
        },
        {
          "output_type": "stream",
          "name": "stderr",
          "text": [
            "\n",
            "Training and evaluating models: 100%|██████████| 3/3 [00:48<00:00, 16.26s/it]\n",
            "Training Models:  80%|████████  | 4/5 [02:02<00:33, 33.53s/it]"
          ]
        },
        {
          "output_type": "stream",
          "name": "stdout",
          "text": [
            "MSE: 2.0883246055597295, R²: 0.09232954587581088\n",
            "ADASYN\n"
          ]
        },
        {
          "output_type": "stream",
          "name": "stderr",
          "text": [
            "\n",
            "Training and evaluating models:   0%|          | 0/3 [00:00<?, ?it/s]\u001b[A"
          ]
        },
        {
          "output_type": "stream",
          "name": "stdout",
          "text": [
            "\n",
            "模型: XGBoost\n"
          ]
        },
        {
          "output_type": "stream",
          "name": "stderr",
          "text": [
            "\n",
            "Training and evaluating models:  33%|███▎      | 1/3 [00:01<00:03,  1.98s/it]\u001b[A"
          ]
        },
        {
          "output_type": "stream",
          "name": "stdout",
          "text": [
            "MSE: 1.989148777348349, R²: 0.13543537759905433\n",
            "best mse occur: 1.989148777348349\n",
            "\n",
            "模型: LightGBM\n",
            "[LightGBM] [Warning] Found whitespace in feature_names, replace with underlines\n",
            "[LightGBM] [Info] Auto-choosing col-wise multi-threading, the overhead of testing was 0.010161 seconds.\n",
            "You can set `force_col_wise=true` to remove the overhead.\n",
            "[LightGBM] [Info] Total Bins 4124\n",
            "[LightGBM] [Info] Number of data points in the train set: 25351, number of used features: 36\n",
            "[LightGBM] [Info] Start training from score 2.004300\n"
          ]
        },
        {
          "output_type": "stream",
          "name": "stderr",
          "text": [
            "\n",
            "Training and evaluating models:  67%|██████▋   | 2/3 [00:02<00:01,  1.40s/it]\u001b[A"
          ]
        },
        {
          "output_type": "stream",
          "name": "stdout",
          "text": [
            "MSE: 1.978798415663836, R²: 0.13993406399365027\n",
            "best mse occur: 1.978798415663836\n",
            "\n",
            "模型: Random Forest\n"
          ]
        },
        {
          "output_type": "stream",
          "name": "stderr",
          "text": [
            "\n",
            "Training and evaluating models: 100%|██████████| 3/3 [00:49<00:00, 16.51s/it]\n",
            "Training Models: 100%|██████████| 5/5 [02:52<00:00, 34.48s/it]"
          ]
        },
        {
          "output_type": "stream",
          "name": "stdout",
          "text": [
            "MSE: 2.103656461307288, R²: 0.0856657004027922\n",
            "最佳模型: 原始数据 LightGBM，MSE: 1.9660249809113666\n"
          ]
        },
        {
          "output_type": "stream",
          "name": "stderr",
          "text": [
            "\n"
          ]
        }
      ]
    },
    {
      "cell_type": "code",
      "source": [
        "\n",
        "import matplotlib.pyplot as plt\n",
        "\n",
        "plt.hist(y_encoded, bins=20)  # bins 参数决定直方图的条形数\n",
        "plt.title(\"数据分布\")\n",
        "plt.xlabel(\"值\")\n",
        "plt.ylabel(\"频率\")\n",
        "plt.show()"
      ],
      "metadata": {
        "colab": {
          "base_uri": "https://localhost:8080/",
          "height": 715
        },
        "id": "kMXnqFjSXRLX",
        "outputId": "0b009e87-b049-49f6-eac5-0991b01edba9"
      },
      "execution_count": 22,
      "outputs": [
        {
          "output_type": "stream",
          "name": "stderr",
          "text": [
            "/usr/local/lib/python3.10/dist-packages/IPython/core/pylabtools.py:151: UserWarning: Glyph 39057 (\\N{CJK UNIFIED IDEOGRAPH-9891}) missing from current font.\n",
            "  fig.canvas.print_figure(bytes_io, **kw)\n",
            "/usr/local/lib/python3.10/dist-packages/IPython/core/pylabtools.py:151: UserWarning: Glyph 29575 (\\N{CJK UNIFIED IDEOGRAPH-7387}) missing from current font.\n",
            "  fig.canvas.print_figure(bytes_io, **kw)\n",
            "/usr/local/lib/python3.10/dist-packages/IPython/core/pylabtools.py:151: UserWarning: Glyph 25968 (\\N{CJK UNIFIED IDEOGRAPH-6570}) missing from current font.\n",
            "  fig.canvas.print_figure(bytes_io, **kw)\n",
            "/usr/local/lib/python3.10/dist-packages/IPython/core/pylabtools.py:151: UserWarning: Glyph 25454 (\\N{CJK UNIFIED IDEOGRAPH-636E}) missing from current font.\n",
            "  fig.canvas.print_figure(bytes_io, **kw)\n",
            "/usr/local/lib/python3.10/dist-packages/IPython/core/pylabtools.py:151: UserWarning: Glyph 20998 (\\N{CJK UNIFIED IDEOGRAPH-5206}) missing from current font.\n",
            "  fig.canvas.print_figure(bytes_io, **kw)\n",
            "/usr/local/lib/python3.10/dist-packages/IPython/core/pylabtools.py:151: UserWarning: Glyph 24067 (\\N{CJK UNIFIED IDEOGRAPH-5E03}) missing from current font.\n",
            "  fig.canvas.print_figure(bytes_io, **kw)\n",
            "/usr/local/lib/python3.10/dist-packages/IPython/core/pylabtools.py:151: UserWarning: Glyph 20540 (\\N{CJK UNIFIED IDEOGRAPH-503C}) missing from current font.\n",
            "  fig.canvas.print_figure(bytes_io, **kw)\n"
          ]
        },
        {
          "output_type": "display_data",
          "data": {
            "text/plain": [
              "<Figure size 640x480 with 1 Axes>"
            ],
            "image/png": "[encoded data removed]"
          },
          "metadata": {}
        }
      ]
    },
    {
      "cell_type": "code",
      "source": [
        "from datetime import datetime, timedelta\n",
        "\n",
        "# Convert 'Order_Date' to datetime format\n",
        "data['Order_Date'] = pd.to_datetime(data['Order_Date'])\n",
        "\n",
        "# Sorting the data by 'Order_Date' and 'Time_Orderd_in_minutes'\n",
        "sorted_data = data.sort_values(by=['Order_Date', 'Time_Orderd_in_minutes'])\n",
        "\n",
        "# Calculate the time until next 'IsGreenOrder' == 1 in minutes\n",
        "time_to_next_green_order = []\n",
        "for index, row in sorted_data.iterrows():\n",
        "    # Finding future orders where 'IsGreenOrder' == 1\n",
        "    future_green_orders = sorted_data[(sorted_data['Order_Date'] > row['Order_Date']) |\n",
        "                                      ((sorted_data['Order_Date'] == row['Order_Date']) &\n",
        "                                       (sorted_data['Time_Orderd_in_minutes'] > row['Time_Orderd_in_minutes'])) &\n",
        "                                      (sorted_data['IsGreenOrder'] == 1)]\n",
        "\n",
        "    if not future_green_orders.empty:\n",
        "        next_green_order = future_green_orders.iloc[0]\n",
        "        # Calculate the time difference in minutes\n",
        "        date_diff = (next_green_order['Order_Date'] - row['Order_Date']).days * 24 * 60  # Days to minutes\n",
        "        time_diff = date_diff + (next_green_order['Time_Orderd_in_minutes'] - row['Time_Orderd_in_minutes'])\n",
        "    else:\n",
        "        time_diff = None  # No next green order found\n",
        "    time_to_next_green_order.append(time_diff)\n",
        "    print(f'append{time_diff}')\n",
        "# Adding the calculated time to the sorted data\n",
        "sorted_data['Time_to_Next_Green_Order'] = time_to_next_green_order\n",
        "\n",
        "# Display the updated sorted dataframe\n",
        "sorted_data[['Order_Date', 'Time_Orderd_in_minutes', 'IsGreenOrder', 'Time_to_Next_Green_Order']].head()\n"
      ],
      "metadata": {
        "id": "ddNqfXXr5IXF"
      },
      "execution_count": null,
      "outputs": []
    },
    {
      "cell_type": "code",
      "source": [
        "# @title 填補缺失值\n",
        "# Analyzing the dataset to suggest suitable methods for imputing missing values in each column\n",
        "data= pd.read_csv('/content/drive/My Drive/112 Sesmester/data2/featureS.csv')\n",
        "columns_to_drop = ['Unnamed: 0', 'Time_Orderd_in_minutes','Time_taken(min)',\n",
        "                   'Route', 'Time_taken(min)','City','multiple_deliveries','Type_of_vehicle']\n",
        "data = data.drop(columns_to_drop, axis=1)\n",
        "data.columns\n",
        "\n",
        "data=df\n",
        "# Checking for missing values in each column\n",
        "# Analyzing the dataset to suggest suitable methods for imputing missing values in each column\n",
        "\n",
        "# Checking for missing values in each column\n",
        "missing_values = data.isnull().sum()\n",
        "missing_values = missing_values[missing_values > 0]\n",
        "\n",
        "# Checking the data types of columns with missing values\n",
        "data_types = data[missing_values.index].dtypes\n",
        "\n",
        "# Preparing a summary of columns with missing values, their data types, and suggested imputation methods\n",
        "imputation_methods = []\n",
        "\n",
        "for column, missing_count in missing_values.iteritems():\n",
        "    dtype = data_types[column]\n",
        "    if dtype == 'object':\n",
        "        # Suggesting mode imputation for categorical data\n",
        "        method = 'Mode (for categorical data)'\n",
        "    elif dtype in ['int64', 'float64']:\n",
        "        # Suggesting mean or median imputation for numerical data, depending on the distribution\n",
        "        if data[column].skew() < 1 and data[column].skew() > -1:\n",
        "            method = 'Mean (for approximately normal distribution)'\n",
        "        else:\n",
        "            method = 'Median (for skewed distribution)'\n",
        "    else:\n",
        "        method = 'Special consideration required'\n",
        "\n",
        "    imputation_methods.append((column, dtype, missing_count, method))\n",
        "\n",
        "imputation_summary = pd.DataFrame(imputation_methods, columns=['Column', 'Data Type', 'Missing Values', 'Suggested Method'])\n",
        "\n",
        "imputation_summary.sort_values(by='Missing Values', ascending=False)\n",
        "# @title 填補缺失值\n",
        "# Filling missing values for each column based on the suggested methods\n",
        "\n",
        "# Defining functions for different imputation methods\n",
        "def impute_mode(column):\n",
        "    return column.fillna(column.mode()[0])\n",
        "\n",
        "def impute_mean(column):\n",
        "    return column.fillna(column.mean())\n",
        "\n",
        "def impute_median(column):\n",
        "    return column.fillna(column.median())\n",
        "\n",
        "# Applying the imputation methods to each column\n",
        "for column, dtype, _, method in imputation_methods:\n",
        "    if method == 'Mode (for categorical data)':\n",
        "        data[column] = impute_mode(data[column])\n",
        "    elif method == 'Mean (for approximately normal distribution)':\n",
        "        data[column] = impute_mean(data[column])\n",
        "    elif method == 'Median (for skewed distribution)':\n",
        "        data[column] = impute_median(data[column])\n",
        "\n",
        "# Checking if there are any missing values left\n",
        "remaining_missing_values = data.isnull().sum().sum()\n",
        "\n",
        "remaining_missing_values, data.head()\n"
      ],
      "metadata": {
        "id": "e_NTRpm0_2Et"
      },
      "execution_count": null,
      "outputs": []
    },
    {
      "cell_type": "code",
      "source": [
        "sorted_data['Time_to_Next_Green_Order'].value_counts()\n",
        "sorted_data.to_csv('/content/drive/My Drive/112 Sesmester/data2/sorted_data')"
      ],
      "metadata": {
        "id": "d6DHGEV_ehrL"
      },
      "execution_count": null,
      "outputs": []
    },
    {
      "cell_type": "code",
      "source": [
        "sorted_data[['Order_Date', 'Time_Orderd_in_minutes', 'IsGreenOrder', 'Time_to_Next_Green_Order']]\n"
      ],
      "metadata": {
        "id": "1G1PvEM-du9l"
      },
      "execution_count": null,
      "outputs": []
    },
    {
      "cell_type": "code",
      "source": [
        "# Sorting the data by 'Order_Date' and 'Time_Ordered'\n",
        "sorted_data = data.sort_values(by=['Order_Date', 'Time_Ordered'])\n",
        "\n",
        "# Display the first few rows of the sorted dataframe\n",
        "sorted_data.head()\n",
        "sorted_data[['Order_Date', 'Time_Ordered', 'IsGreenOrder', 'Time_to_Next_Green_Order']]"
      ],
      "metadata": {
        "id": "NymIRevS8KOu"
      },
      "execution_count": null,
      "outputs": []
    },
    {
      "cell_type": "code",
      "source": [
        "data[ 'Time_to_Next_Green_Order'].value_counts()"
      ],
      "metadata": {
        "id": "6L6jYED_6be_"
      },
      "execution_count": null,
      "outputs": []
    }
  ]
}